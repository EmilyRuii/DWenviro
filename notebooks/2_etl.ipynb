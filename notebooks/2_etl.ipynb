{
 "cells": [
  {
   "cell_type": "markdown",
   "source": [
    "# ETL demo\n",
    "\n",
    "The core concept of the ETL is to operate on the data. \n",
    "So you need to understand the data, and know the relationships between them.\n",
    "And then using scripts to sort them out inside the database, or trigger next progress.\n",
    "\n",
    "It is a powerful way to get multiple data sources to work together, get the insights or applications we want. \n",
    "\n",
    "We will use SQL Server, which is backed by Microsoft as an example to do an ETL demo. \n",
    "The goal here will be try to load the data from a csv file to the database.\n",
    "(In this way you can learn relational database solutions for different vendors, at the same time, SQL Server and PostgreSQL are the two most popular relational database on the market)\n"
   ],
   "metadata": {
    "collapsed": false
   },
   "id": "a833ec83f55c7b5d"
  },
  {
   "cell_type": "markdown",
   "source": [
    "## Connect to the SQL Server\n",
    "first, same as the postgresql connection process, you will need to have a driver to help you connect to the database via python.\n",
    "You have two options here\n",
    "\n",
    "- pyodbc\n",
    "- pymssql\n",
    "\n",
    "Either way works, we pick one and continue this"
   ],
   "metadata": {
    "collapsed": false
   },
   "id": "260ab357e1f42869"
  },
  {
   "cell_type": "code",
   "outputs": [],
   "source": [
    "import pymssql"
   ],
   "metadata": {
    "collapsed": false,
    "ExecuteTime": {
     "end_time": "2024-02-20T07:25:44.904398700Z",
     "start_time": "2024-02-20T07:25:44.899398800Z"
    }
   },
   "id": "6b3201527e785d94",
   "execution_count": 1
  },
  {
   "cell_type": "code",
   "outputs": [],
   "source": [
    "# Define your connection parameters\n",
    "server_name = 'localhost'\n",
    "database_name = 'AdventureworksDWDemo'\n",
    "username = 'sa'\n",
    "password = 'YourStrong@Passw0rd'"
   ],
   "metadata": {
    "collapsed": false,
    "ExecuteTime": {
     "end_time": "2024-02-20T07:25:45.789371Z",
     "start_time": "2024-02-20T07:25:45.787370600Z"
    }
   },
   "id": "4f17a3c62dbada5f",
   "execution_count": 2
  },
  {
   "cell_type": "code",
   "outputs": [],
   "source": [
    "conn = pymssql.connect(server_name, username, password, database_name)"
   ],
   "metadata": {
    "collapsed": false,
    "ExecuteTime": {
     "end_time": "2024-02-20T07:29:15.573653500Z",
     "start_time": "2024-02-20T07:29:15.563382100Z"
    }
   },
   "id": "cfa07d63be928dd4",
   "execution_count": 9
  },
  {
   "cell_type": "code",
   "outputs": [],
   "source": [
    "cursor = conn.cursor()"
   ],
   "metadata": {
    "collapsed": false,
    "ExecuteTime": {
     "end_time": "2024-02-20T07:29:15.905669900Z",
     "start_time": "2024-02-20T07:29:15.901671200Z"
    }
   },
   "id": "9d86fcf37b757b56",
   "execution_count": 10
  },
  {
   "cell_type": "code",
   "outputs": [],
   "source": [
    "script_parts = [\n",
    "    \"USE AdventureworksDWDemo\",\n",
    "    \"CREATE TABLE DimCustomer (CustomerID int PRIMARY KEY IDENTITY, CustomerAltID varchar(50) NOT NULL, CustomerName varchar(256), Gender varchar(20))\",\n",
    "    \"CREATE TABLE DimProduct (ProductKey int PRIMARY KEY IDENTITY, ProductAltKey varchar(10) NOT NULL, ProductName varchar(100), ProductActualCost money, ProductSalesCost money)\",\n",
    "    '''\n",
    "      CREATE TABLE DimStores\n",
    "    (\n",
    "        StoreID int PRIMARY KEY IDENTITY,\n",
    "        StoreAltID varchar(10) NOT NULL,\n",
    "        StoreName varchar(100),\n",
    "        StoreLocation varchar(100),\n",
    "        City varchar(100),\n",
    "        State varchar(100),\n",
    "        Country varchar(100)\n",
    "    )\n",
    "    ''',\n",
    "    '''\n",
    "    CREATE TABLE DimSalesPerson\n",
    "    (\n",
    "        SalesPersonID int PRIMARY KEY IDENTITY,\n",
    "        SalesPersonAltID varchar(10) NOT NULL,\n",
    "        SalesPersonName varchar(100),\n",
    "        StoreID int,\n",
    "        City varchar(100),\n",
    "        State varchar(100),\n",
    "        Country varchar(100)\n",
    "    )\n",
    "    ''',\n",
    "    '''\n",
    "    CREATE TABLE FactProductSales\n",
    "    (\n",
    "        TransactionId bigint PRIMARY KEY IDENTITY,\n",
    "        SalesInvoiceNumber int NOT NULL,\n",
    "        StoreID int NOT NULL,\n",
    "        CustomerID int NOT NULL,\n",
    "        ProductID int NOT NULL,\n",
    "        SalesPersonID int NOT NULL,\n",
    "        Quantity float,\n",
    "        SalesTotalCost money,\n",
    "        ProductActualCost money,\n",
    "        Deviation float\n",
    "    )\n",
    "    ''',\n",
    "    '''\n",
    "    ALTER TABLE FactProductSales ADD CONSTRAINT FK_StoreID FOREIGN KEY (StoreID) REFERENCES DimStores(StoreID)\n",
    "    ''',\n",
    "    '''\n",
    "    ALTER TABLE FactProductSales ADD CONSTRAINT FK_CustomerID FOREIGN KEY (CustomerID) REFERENCES DimCustomer(CustomerID)\n",
    "    ''',\n",
    "    '''\n",
    "    ALTER TABLE FactProductSales ADD CONSTRAINT FK_ProductKey FOREIGN KEY (ProductID) REFERENCES DimProduct(ProductKey)\n",
    "    ''',\n",
    "    '''\n",
    "    ALTER TABLE FactProductSales ADD CONSTRAINT FK_SalesPersonID FOREIGN KEY (SalesPersonID) REFERENCES DimSalesPerson(SalesPersonID)\n",
    "    '''\n",
    "]"
   ],
   "metadata": {
    "collapsed": false,
    "ExecuteTime": {
     "end_time": "2024-02-20T07:29:16.854548500Z",
     "start_time": "2024-02-20T07:29:16.807039Z"
    }
   },
   "id": "4b82c3334410e3cc",
   "execution_count": 11
  },
  {
   "cell_type": "code",
   "outputs": [],
   "source": [
    "for part in script_parts:\n",
    "    try:\n",
    "        cursor.execute(part)\n",
    "        conn.commit()  # Commit changes for DDL statements\n",
    "    except Exception as e:\n",
    "        print(f\"Error executing SQL script: {e}\")\n",
    "        break  # Stop execution on error\n",
    "\n",
    "# Close the connection\n",
    "cursor.close()\n",
    "conn.close()"
   ],
   "metadata": {
    "collapsed": false,
    "ExecuteTime": {
     "end_time": "2024-02-20T07:29:17.461287700Z",
     "start_time": "2024-02-20T07:29:17.428782Z"
    }
   },
   "id": "ec721284ded47a65",
   "execution_count": 12
  },
  {
   "cell_type": "markdown",
   "source": [
    "until now, we are creating the tables and add the contraints, next we will try to dump the data into the tables"
   ],
   "metadata": {
    "collapsed": false
   },
   "id": "56ac15c24815e261"
  },
  {
   "cell_type": "code",
   "outputs": [],
   "source": [],
   "metadata": {
    "collapsed": false
   },
   "id": "7ebc7e7625589e5a"
  }
 ],
 "metadata": {
  "kernelspec": {
   "display_name": "Python 3",
   "language": "python",
   "name": "python3"
  },
  "language_info": {
   "codemirror_mode": {
    "name": "ipython",
    "version": 2
   },
   "file_extension": ".py",
   "mimetype": "text/x-python",
   "name": "python",
   "nbconvert_exporter": "python",
   "pygments_lexer": "ipython2",
   "version": "2.7.6"
  }
 },
 "nbformat": 4,
 "nbformat_minor": 5
}
