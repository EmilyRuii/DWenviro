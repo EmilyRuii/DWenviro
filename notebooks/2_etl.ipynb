{
 "cells": [
  {
   "cell_type": "markdown",
   "source": [
    "# ETL demo\n",
    "\n",
    "The core concept of the ETL is to operate on the data. \n",
    "So you need to understand the data, and know the relationships between them.\n",
    "And then using scripts to sort them out inside the database, or trigger next progress.\n",
    "\n",
    "It is a powerful way to get multiple data sources to work together, get the insights or applications we want. \n",
    "\n",
    "We will use SQL Server, which is backed by Microsoft as an example to do an ETL demo. \n",
    "The goal here will be try to load the data from a csv file to the database.\n",
    "(In this way you can learn relational database solutions for different vendors, at the same time, SQL Server and PostgreSQL are the two most popular relational database on the market)\n"
   ],
   "metadata": {
    "collapsed": false
   },
   "id": "a833ec83f55c7b5d"
  },
  {
   "cell_type": "markdown",
   "source": [
    "## Connect to the SQL Server\n",
    "first, same as the postgresql connection process, you will need to have a driver to help you connect to the database via python.\n",
    "You have two options here\n",
    "\n",
    "- pyodbc\n",
    "- pymssql\n",
    "\n",
    "Either way works, we pick one and continue this"
   ],
   "metadata": {
    "collapsed": false
   },
   "id": "260ab357e1f42869"
  },
  {
   "cell_type": "code",
   "outputs": [],
   "source": [
    "import pymssql"
   ],
   "metadata": {
    "collapsed": false,
    "ExecuteTime": {
     "end_time": "2024-02-20T07:40:39.639653100Z",
     "start_time": "2024-02-20T07:40:39.629655900Z"
    }
   },
   "id": "6b3201527e785d94",
   "execution_count": 1
  },
  {
   "cell_type": "code",
   "outputs": [],
   "source": [
    "# Define your connection parameters\n",
    "server_name = 'localhost'\n",
    "database_name = 'AdventureworksDWDemo'\n",
    "username = 'sa'\n",
    "password = 'YourStrongPassw0rd'"
   ],
   "metadata": {
    "collapsed": false,
    "ExecuteTime": {
     "end_time": "2024-02-20T07:40:40.224431300Z",
     "start_time": "2024-02-20T07:40:40.223111800Z"
    }
   },
   "id": "4f17a3c62dbada5f",
   "execution_count": 2
  },
  {
   "cell_type": "code",
   "outputs": [],
   "source": [
    "conn = pymssql.connect(server_name, username, password, database_name)"
   ],
   "metadata": {
    "collapsed": false,
    "ExecuteTime": {
     "end_time": "2024-02-20T07:40:40.715197800Z",
     "start_time": "2024-02-20T07:40:40.706202Z"
    }
   },
   "id": "cfa07d63be928dd4",
   "execution_count": 3
  },
  {
   "cell_type": "code",
   "outputs": [],
   "source": [
    "cursor = conn.cursor()"
   ],
   "metadata": {
    "collapsed": false,
    "ExecuteTime": {
     "end_time": "2024-02-20T07:40:41.180008Z",
     "start_time": "2024-02-20T07:40:41.176009Z"
    }
   },
   "id": "9d86fcf37b757b56",
   "execution_count": 4
  },
  {
   "cell_type": "code",
   "outputs": [],
   "source": [
    "script_parts = [\n",
    "    \"USE AdventureworksDWDemo\",\n",
    "    \"CREATE TABLE DimCustomer (CustomerID int PRIMARY KEY IDENTITY, CustomerAltID varchar(50) NOT NULL, CustomerName varchar(256), Gender varchar(20))\",\n",
    "    \"CREATE TABLE DimProduct (ProductKey int PRIMARY KEY IDENTITY, ProductAltKey varchar(10) NOT NULL, ProductName varchar(100), ProductActualCost money, ProductSalesCost money)\",\n",
    "    '''\n",
    "      CREATE TABLE DimStores\n",
    "    (\n",
    "        StoreID int PRIMARY KEY IDENTITY,\n",
    "        StoreAltID varchar(10) NOT NULL,\n",
    "        StoreName varchar(100),\n",
    "        StoreLocation varchar(100),\n",
    "        City varchar(100),\n",
    "        State varchar(100),\n",
    "        Country varchar(100)\n",
    "    )\n",
    "    ''',\n",
    "    '''\n",
    "    CREATE TABLE DimSalesPerson\n",
    "    (\n",
    "        SalesPersonID int PRIMARY KEY IDENTITY,\n",
    "        SalesPersonAltID varchar(10) NOT NULL,\n",
    "        SalesPersonName varchar(100),\n",
    "        StoreID int,\n",
    "        City varchar(100),\n",
    "        State varchar(100),\n",
    "        Country varchar(100)\n",
    "    )\n",
    "    ''',\n",
    "    '''\n",
    "    CREATE TABLE FactProductSales\n",
    "    (\n",
    "        TransactionId bigint PRIMARY KEY IDENTITY,\n",
    "        SalesInvoiceNumber int NOT NULL,\n",
    "        StoreID int NOT NULL,\n",
    "        CustomerID int NOT NULL,\n",
    "        ProductID int NOT NULL,\n",
    "        SalesPersonID int NOT NULL,\n",
    "        Quantity float,\n",
    "        SalesTotalCost money,\n",
    "        ProductActualCost money,\n",
    "        Deviation float\n",
    "    )\n",
    "    ''',\n",
    "    '''\n",
    "    ALTER TABLE FactProductSales ADD CONSTRAINT FK_StoreID FOREIGN KEY (StoreID) REFERENCES DimStores(StoreID)\n",
    "    ''',\n",
    "    '''\n",
    "    ALTER TABLE FactProductSales ADD CONSTRAINT FK_CustomerID FOREIGN KEY (CustomerID) REFERENCES DimCustomer(CustomerID)\n",
    "    ''',\n",
    "    '''\n",
    "    ALTER TABLE FactProductSales ADD CONSTRAINT FK_ProductKey FOREIGN KEY (ProductID) REFERENCES DimProduct(ProductKey)\n",
    "    ''',\n",
    "    '''\n",
    "    ALTER TABLE FactProductSales ADD CONSTRAINT FK_SalesPersonID FOREIGN KEY (SalesPersonID) REFERENCES DimSalesPerson(SalesPersonID)\n",
    "    '''\n",
    "]"
   ],
   "metadata": {
    "collapsed": false,
    "ExecuteTime": {
     "end_time": "2024-02-20T07:40:41.592973200Z",
     "start_time": "2024-02-20T07:40:41.548885Z"
    }
   },
   "id": "4b82c3334410e3cc",
   "execution_count": 5
  },
  {
   "cell_type": "code",
   "outputs": [],
   "source": [
    "for part in script_parts:\n",
    "    try:\n",
    "        cursor.execute(part)\n",
    "        conn.commit()  # Commit changes for DDL statements\n",
    "    except Exception as e:\n",
    "        print(f\"Error executing SQL script: {e}\")\n",
    "        break  # Stop execution on error\n",
    "\n",
    "# Close the connection\n",
    "cursor.close()\n",
    "conn.close()"
   ],
   "metadata": {
    "collapsed": false,
    "ExecuteTime": {
     "end_time": "2024-02-20T07:40:42.218961800Z",
     "start_time": "2024-02-20T07:40:42.121834100Z"
    }
   },
   "id": "ec721284ded47a65",
   "execution_count": 6
  },
  {
   "cell_type": "markdown",
   "source": [
    "until now, we are creating the tables and add the contraints, next we will try to dump the data into the tables.\n",
    "\n",
    "There are multiple ways to do so, you can select which way best suits you when you doing projects.\n",
    "\n",
    "- Construct the SQL scripts and execute them as above\n",
    "- Use pandas (which means other people doing the above step for you)\n",
    "\n",
    "We will demo the way using pandas"
   ],
   "metadata": {
    "collapsed": false
   },
   "id": "56ac15c24815e261"
  },
  {
   "cell_type": "code",
   "outputs": [],
   "source": [
    "import pandas as pd"
   ],
   "metadata": {
    "collapsed": false,
    "ExecuteTime": {
     "end_time": "2024-02-20T07:40:43.260405300Z",
     "start_time": "2024-02-20T07:40:43.094770200Z"
    }
   },
   "id": "7ebc7e7625589e5a",
   "execution_count": 7
  },
  {
   "cell_type": "code",
   "outputs": [],
   "source": [
    "from sqlalchemy import create_engine"
   ],
   "metadata": {
    "collapsed": false,
    "ExecuteTime": {
     "end_time": "2024-02-20T07:40:43.600142700Z",
     "start_time": "2024-02-20T07:40:43.497943100Z"
    }
   },
   "id": "6f886298d6e98a89",
   "execution_count": 8
  },
  {
   "cell_type": "code",
   "outputs": [],
   "source": [
    "connection_string = f\"mssql+pymssql://{username}:{password}@{server_name}/{database_name}\"\n",
    "engine = create_engine(connection_string)"
   ],
   "metadata": {
    "collapsed": false,
    "ExecuteTime": {
     "end_time": "2024-02-20T07:40:44.004035Z",
     "start_time": "2024-02-20T07:40:43.995036600Z"
    }
   },
   "id": "981554ad13f59ca9",
   "execution_count": 9
  },
  {
   "cell_type": "code",
   "outputs": [],
   "source": [
    "from pathlib import Path\n",
    "# data path is current path's parent and then AdventureWorkDWDemo\n",
    "script_path = Path.cwd().parent\n",
    "data_path = script_path / \"data\" / \"AdventureWorkDWDemo\"\n",
    "\n",
    "dim_customer_csv = data_path / \"DimCustomer.csv\""
   ],
   "metadata": {
    "collapsed": false,
    "ExecuteTime": {
     "end_time": "2024-02-20T07:40:44.403094800Z",
     "start_time": "2024-02-20T07:40:44.402093700Z"
    }
   },
   "id": "374258205a0ad84",
   "execution_count": 10
  },
  {
   "cell_type": "code",
   "outputs": [],
   "source": [
    "customer_df = pd.read_csv(dim_customer_csv, header=None)"
   ],
   "metadata": {
    "collapsed": false,
    "ExecuteTime": {
     "end_time": "2024-02-20T07:41:08.376751100Z",
     "start_time": "2024-02-20T07:41:08.373688900Z"
    }
   },
   "id": "76083013c4733494",
   "execution_count": 14
  },
  {
   "cell_type": "code",
   "outputs": [
    {
     "data": {
      "text/plain": "         0                1  2\n0  IMI-001       Henry Ford  M\n1  IMI-002       Bill Gates  M\n2  IMI-003    Muskan Shaikh  F\n3  IMI-004  Richard Thrubin  M\n4  IMI-005     Emma Wattson  F",
      "text/html": "<div>\n<style scoped>\n    .dataframe tbody tr th:only-of-type {\n        vertical-align: middle;\n    }\n\n    .dataframe tbody tr th {\n        vertical-align: top;\n    }\n\n    .dataframe thead th {\n        text-align: right;\n    }\n</style>\n<table border=\"1\" class=\"dataframe\">\n  <thead>\n    <tr style=\"text-align: right;\">\n      <th></th>\n      <th>0</th>\n      <th>1</th>\n      <th>2</th>\n    </tr>\n  </thead>\n  <tbody>\n    <tr>\n      <th>0</th>\n      <td>IMI-001</td>\n      <td>Henry Ford</td>\n      <td>M</td>\n    </tr>\n    <tr>\n      <th>1</th>\n      <td>IMI-002</td>\n      <td>Bill Gates</td>\n      <td>M</td>\n    </tr>\n    <tr>\n      <th>2</th>\n      <td>IMI-003</td>\n      <td>Muskan Shaikh</td>\n      <td>F</td>\n    </tr>\n    <tr>\n      <th>3</th>\n      <td>IMI-004</td>\n      <td>Richard Thrubin</td>\n      <td>M</td>\n    </tr>\n    <tr>\n      <th>4</th>\n      <td>IMI-005</td>\n      <td>Emma Wattson</td>\n      <td>F</td>\n    </tr>\n  </tbody>\n</table>\n</div>"
     },
     "execution_count": 15,
     "metadata": {},
     "output_type": "execute_result"
    }
   ],
   "source": [
    "customer_df"
   ],
   "metadata": {
    "collapsed": false,
    "ExecuteTime": {
     "end_time": "2024-02-20T07:41:08.924528300Z",
     "start_time": "2024-02-20T07:41:08.895528400Z"
    }
   },
   "id": "1de621ac795352c6",
   "execution_count": 15
  },
  {
   "cell_type": "code",
   "outputs": [],
   "source": [
    "customer_df.columns = [\"CustomerAltID\", \"CustomerName\", \"Gender\"]"
   ],
   "metadata": {
    "collapsed": false,
    "ExecuteTime": {
     "end_time": "2024-02-20T07:41:51.049600800Z",
     "start_time": "2024-02-20T07:41:51.046601100Z"
    }
   },
   "id": "43913ce6fd18e6ae",
   "execution_count": 17
  },
  {
   "cell_type": "code",
   "outputs": [
    {
     "data": {
      "text/plain": "5"
     },
     "execution_count": 18,
     "metadata": {},
     "output_type": "execute_result"
    }
   ],
   "source": [
    "customer_df.to_sql(\"DimCustomer\", con=engine, if_exists=\"append\", index=False)"
   ],
   "metadata": {
    "collapsed": false,
    "ExecuteTime": {
     "end_time": "2024-02-20T07:41:53.028663Z",
     "start_time": "2024-02-20T07:41:53.007156200Z"
    }
   },
   "id": "9cee1970c06a6860",
   "execution_count": 18
  },
  {
   "cell_type": "code",
   "outputs": [],
   "source": [
    "# confirm it via run query "
   ],
   "metadata": {
    "collapsed": false,
    "ExecuteTime": {
     "end_time": "2024-02-20T07:42:04.226476800Z",
     "start_time": "2024-02-20T07:42:04.219967900Z"
    }
   },
   "id": "f785342f5b5d46c5",
   "execution_count": 19
  },
  {
   "cell_type": "code",
   "outputs": [
    {
     "name": "stdout",
     "output_type": "stream",
     "text": [
      "(1, 'IMI-001', 'Henry Ford', 'M')\n",
      "(2, 'IMI-002', 'Bill Gates', 'M')\n",
      "(3, 'IMI-003', 'Muskan Shaikh', 'F')\n",
      "(4, 'IMI-004', 'Richard Thrubin', 'M')\n",
      "(5, 'IMI-005', 'Emma Wattson', 'F')\n"
     ]
    }
   ],
   "source": [
    "conn = pymssql.connect(server_name, username, password, database_name)\n",
    "cursor = conn.cursor()\n",
    "\n",
    "cursor.execute(\"SELECT * FROM DimCustomer\")\n",
    "\n",
    "# Fetch all rows\n",
    "rows = cursor.fetchall()\n",
    "\n",
    "if rows:\n",
    "    # Print each row\n",
    "    for row in rows:\n",
    "        print(row)"
   ],
   "metadata": {
    "collapsed": false,
    "ExecuteTime": {
     "end_time": "2024-02-20T07:43:58.001321900Z",
     "start_time": "2024-02-20T07:43:57.951240400Z"
    }
   },
   "id": "db0a7e96ed7d2a10",
   "execution_count": 22
  },
  {
   "cell_type": "markdown",
   "source": [
    "You can do the rest for the csv files under the AdventureWorkDWDemo folder, and then use this db as the db for the cube creation."
   ],
   "metadata": {
    "collapsed": false
   },
   "id": "d4a034db711ff268"
  }
 ],
 "metadata": {
  "kernelspec": {
   "display_name": "Python 3",
   "language": "python",
   "name": "python3"
  },
  "language_info": {
   "codemirror_mode": {
    "name": "ipython",
    "version": 2
   },
   "file_extension": ".py",
   "mimetype": "text/x-python",
   "name": "python",
   "nbconvert_exporter": "python",
   "pygments_lexer": "ipython2",
   "version": "2.7.6"
  }
 },
 "nbformat": 4,
 "nbformat_minor": 5
}
