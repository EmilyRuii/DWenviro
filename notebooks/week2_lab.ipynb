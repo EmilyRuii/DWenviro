{
 "cells": [
  {
   "cell_type": "markdown",
   "id": "186ceb2ddf615eea",
   "metadata": {
    "collapsed": false,
    "jupyter": {
     "outputs_hidden": false
    }
   },
   "source": [
    "# Week 2 Lab\n",
    "This aims to implement a cube and do presentation\n",
    "## Cube"
   ]
  },
  {
   "cell_type": "code",
   "execution_count": 1,
   "id": "initial_id",
   "metadata": {
    "is_executing": true
   },
   "outputs": [
    {
     "name": "stdout",
     "output_type": "stream",
     "text": [
      "Welcome to Atoti 0.8.7!\n",
      "\n",
      "By using this community edition, you agree with the license available at https://docs.atoti.io/latest/eula.html.\n",
      "Browse the official documentation at https://docs.atoti.io.\n",
      "Join the community at https://www.atoti.io/register.\n",
      "\n",
      "Atoti collects telemetry data, which is used to help understand how to improve the product.\n",
      "If you don't wish to send usage data, you can request a trial license at https://www.atoti.io/evaluation-license-request.\n",
      "\n",
      "You can hide this message by setting the `ATOTI_HIDE_EULA_MESSAGE` environment variable to True.\n"
     ]
    }
   ],
   "source": [
    "import atoti as tt"
   ]
  },
  {
   "cell_type": "code",
   "execution_count": 2,
   "id": "1ce9e2fb78351f0d",
   "metadata": {
    "ExecuteTime": {
     "end_time": "2023-12-08T05:00:52.226640Z",
     "start_time": "2023-12-08T05:00:46.386692Z"
    },
    "collapsed": false,
    "jupyter": {
     "outputs_hidden": false
    }
   },
   "outputs": [],
   "source": [
    "session = tt.Session(\n",
    "    user_content_storage=\".content\",\n",
    "    port=9092,\n",
    "     java_options=[\"-Xms1G\", \"-Xmx10G\"]\n",
    ")"
   ]
  },
  {
   "cell_type": "code",
   "execution_count": 3,
   "id": "8d2096c5d9043d33",
   "metadata": {
    "collapsed": false,
    "jupyter": {
     "outputs_hidden": false
    }
   },
   "outputs": [],
   "source": [
    "db_name = \"AdventureworksDWDemo\"\n",
    "db_user = \"postgres\"\n",
    "db_password = \"postgres\"  # Update with your password\n",
    "db_host = \"localhost\"  # Update if your DB is hosted elsewhere\n",
    "db_port = \"5432\"\n",
    "\n",
    "jdbc_url = f\"jdbc:postgresql://{db_host}:{db_port}/{db_name}?user={db_user}&password={db_password}\""
   ]
  },
  {
   "cell_type": "code",
   "execution_count": 4,
   "id": "b26b1ae1-20b6-4c60-bdf3-4e1c9987cb8f",
   "metadata": {},
   "outputs": [],
   "source": [
    "product_sales_table = session.read_sql(\n",
    "    \"SELECT * FROM factproductsales\",\n",
    "    keys=[\"transactionid\"],\n",
    "    table_name=\"ProductSales\",\n",
    "    url=jdbc_url,\n",
    ")"
   ]
  },
  {
   "cell_type": "code",
   "execution_count": 5,
   "id": "d342d8d3-417b-4f00-81f5-334869f829a1",
   "metadata": {},
   "outputs": [],
   "source": [
    "customer_table = session.read_sql(\n",
    "    \"SELECT * FROM dimcustomer\",\n",
    "    keys=[\"customerid\"],\n",
    "    table_name=\"Customer\",\n",
    "    url=jdbc_url)"
   ]
  },
  {
   "cell_type": "code",
   "execution_count": 6,
   "id": "828e934c-6723-4911-82ec-9759a2fff9fe",
   "metadata": {},
   "outputs": [],
   "source": [
    "product_table = session.read_sql(\n",
    "    \"SELECT * FROM dimproduct\",\n",
    "    keys=[\"productkey\"],\n",
    "    table_name=\"Product\",\n",
    "    url=jdbc_url\n",
    ")"
   ]
  },
  {
   "cell_type": "code",
   "execution_count": 7,
   "id": "47d5d135-02d8-48b0-ba4e-5e00a692cee1",
   "metadata": {},
   "outputs": [],
   "source": [
    "sales_person_table = session.read_sql(\n",
    "    \"SELECT * FROM dimsalesperson\",\n",
    "    keys=[\"salespersonid\"],\n",
    "    table_name=\"SalesPerson\",\n",
    "    url=jdbc_url\n",
    ")"
   ]
  },
  {
   "cell_type": "code",
   "execution_count": 8,
   "id": "fdfcc73e-9d56-4020-bf5f-b1e774c033a9",
   "metadata": {},
   "outputs": [],
   "source": [
    "stores_table = session.read_sql(\n",
    "    \"SELECT * FROM dimstores\",\n",
    "    keys=[\"storeid\"],\n",
    "    table_name=\"Stores\",\n",
    "    url=jdbc_url\n",
    ")"
   ]
  },
  {
   "cell_type": "code",
   "execution_count": 9,
   "id": "e971bb41-0045-4abf-85e0-edb77988bd78",
   "metadata": {},
   "outputs": [
    {
     "data": {
      "text/html": [
       "<div>\n",
       "<style scoped>\n",
       "    .dataframe tbody tr th:only-of-type {\n",
       "        vertical-align: middle;\n",
       "    }\n",
       "\n",
       "    .dataframe tbody tr th {\n",
       "        vertical-align: top;\n",
       "    }\n",
       "\n",
       "    .dataframe thead th {\n",
       "        text-align: right;\n",
       "    }\n",
       "</style>\n",
       "<table border=\"1\" class=\"dataframe\">\n",
       "  <thead>\n",
       "    <tr style=\"text-align: right;\">\n",
       "      <th></th>\n",
       "      <th>salesinvoicenumber</th>\n",
       "      <th>storeid</th>\n",
       "      <th>customerid</th>\n",
       "      <th>productid</th>\n",
       "      <th>salespersonid</th>\n",
       "      <th>quantity</th>\n",
       "      <th>salestotalcost</th>\n",
       "      <th>productactualcost</th>\n",
       "      <th>deviation</th>\n",
       "    </tr>\n",
       "    <tr>\n",
       "      <th>transactionid</th>\n",
       "      <th></th>\n",
       "      <th></th>\n",
       "      <th></th>\n",
       "      <th></th>\n",
       "      <th></th>\n",
       "      <th></th>\n",
       "      <th></th>\n",
       "      <th></th>\n",
       "      <th></th>\n",
       "    </tr>\n",
       "  </thead>\n",
       "  <tbody>\n",
       "    <tr>\n",
       "      <th>18</th>\n",
       "      <td>8</td>\n",
       "      <td>1</td>\n",
       "      <td>1</td>\n",
       "      <td>3</td>\n",
       "      <td>1</td>\n",
       "      <td>2.0</td>\n",
       "      <td>84.0</td>\n",
       "      <td>87.0</td>\n",
       "      <td>3.0</td>\n",
       "    </tr>\n",
       "    <tr>\n",
       "      <th>21</th>\n",
       "      <td>9</td>\n",
       "      <td>1</td>\n",
       "      <td>2</td>\n",
       "      <td>2</td>\n",
       "      <td>1</td>\n",
       "      <td>1.0</td>\n",
       "      <td>22.5</td>\n",
       "      <td>24.0</td>\n",
       "      <td>1.5</td>\n",
       "    </tr>\n",
       "    <tr>\n",
       "      <th>2</th>\n",
       "      <td>1</td>\n",
       "      <td>1</td>\n",
       "      <td>1</td>\n",
       "      <td>2</td>\n",
       "      <td>1</td>\n",
       "      <td>1.0</td>\n",
       "      <td>22.5</td>\n",
       "      <td>24.0</td>\n",
       "      <td>1.5</td>\n",
       "    </tr>\n",
       "    <tr>\n",
       "      <th>23</th>\n",
       "      <td>10</td>\n",
       "      <td>1</td>\n",
       "      <td>3</td>\n",
       "      <td>4</td>\n",
       "      <td>2</td>\n",
       "      <td>3.0</td>\n",
       "      <td>54.0</td>\n",
       "      <td>60.0</td>\n",
       "      <td>6.0</td>\n",
       "    </tr>\n",
       "    <tr>\n",
       "      <th>1</th>\n",
       "      <td>1</td>\n",
       "      <td>1</td>\n",
       "      <td>1</td>\n",
       "      <td>1</td>\n",
       "      <td>1</td>\n",
       "      <td>2.0</td>\n",
       "      <td>11.0</td>\n",
       "      <td>13.0</td>\n",
       "      <td>2.0</td>\n",
       "    </tr>\n",
       "  </tbody>\n",
       "</table>\n",
       "</div>"
      ],
      "text/plain": [
       "               salesinvoicenumber  storeid  customerid  productid  \\\n",
       "transactionid                                                       \n",
       "18                              8        1           1          3   \n",
       "21                              9        1           2          2   \n",
       "2                               1        1           1          2   \n",
       "23                             10        1           3          4   \n",
       "1                               1        1           1          1   \n",
       "\n",
       "               salespersonid  quantity  salestotalcost  productactualcost  \\\n",
       "transactionid                                                               \n",
       "18                         1       2.0            84.0               87.0   \n",
       "21                         1       1.0            22.5               24.0   \n",
       "2                          1       1.0            22.5               24.0   \n",
       "23                         2       3.0            54.0               60.0   \n",
       "1                          1       2.0            11.0               13.0   \n",
       "\n",
       "               deviation  \n",
       "transactionid             \n",
       "18                   3.0  \n",
       "21                   1.5  \n",
       "2                    1.5  \n",
       "23                   6.0  \n",
       "1                    2.0  "
      ]
     },
     "execution_count": 9,
     "metadata": {},
     "output_type": "execute_result"
    }
   ],
   "source": [
    "product_sales_table.head()"
   ]
  },
  {
   "cell_type": "code",
   "execution_count": 10,
   "id": "3bb09fbd-1d25-472b-b5c9-f4ead3f96795",
   "metadata": {},
   "outputs": [],
   "source": [
    "product_sales_table.join(customer_table, product_sales_table[\"customerid\"] == customer_table[\"customerid\"])"
   ]
  },
  {
   "cell_type": "code",
   "execution_count": 11,
   "id": "a2ee4df7-a3ea-4d34-91e9-c83312d48e7e",
   "metadata": {},
   "outputs": [],
   "source": [
    "product_sales_table.join(product_table, product_sales_table[\"productid\"] == product_table[\"productkey\"])"
   ]
  },
  {
   "cell_type": "code",
   "execution_count": 12,
   "id": "99b1cec9-c379-4072-aab8-c94bd3cc7e4a",
   "metadata": {},
   "outputs": [],
   "source": [
    "product_sales_table.join(sales_person_table, product_sales_table[\"salespersonid\"] == sales_person_table[\"salespersonid\"])"
   ]
  },
  {
   "cell_type": "code",
   "execution_count": 13,
   "id": "86b33b06-6faf-4951-af83-b8c16ec381e4",
   "metadata": {},
   "outputs": [],
   "source": [
    "product_sales_table.join(stores_table, product_sales_table[\"storeid\"] == stores_table[\"storeid\"])"
   ]
  },
  {
   "cell_type": "code",
   "execution_count": null,
   "id": "72b5ada9-ef51-4552-bd00-dd816d1c052a",
   "metadata": {},
   "outputs": [],
   "source": [
    "!apt"
   ]
  },
  {
   "cell_type": "code",
   "execution_count": 14,
   "id": "11350840-0849-45ec-9b28-a535b5aa8975",
   "metadata": {},
   "outputs": [
    {
     "data": {
      "image/svg+xml": [
       "<svg xmlns=\"http://www.w3.org/2000/svg\" xmlns:xlink=\"http://www.w3.org/1999/xlink\" width=\"677px\" height=\"750px\" viewBox=\"0.00 0.00 677.00 750.00\">\n",
       "<g id=\"graph0\" class=\"graph\" transform=\"scale(1.0 1.0) rotate(0) translate(4 746)\">\n",
       "<title>Datastore schema</title>\n",
       "<polygon fill=\"white\" stroke=\"transparent\" points=\"-4,4 -4,-746 673,-746 673,4 -4,4\"/>\n",
       "<!-- Customer -->\n",
       "<g id=\"node1\" class=\"node\">\n",
       "<title>Customer</title>\n",
       "<text text-anchor=\"start\" x=\"529.5\" y=\"-722.6\" font-family=\"-apple-system, BlinkMacSystemFont, 'Segoe UI', Helvetica, Arial, sans-serif, 'Apple Color Emoji', 'Segoe UI Emoji', 'Segoe UI Symbol'\" font-weight=\"bold\" font-size=\"13.00\">Customer</text>\n",
       "<polygon fill=\"#f5f5f5\" stroke=\"transparent\" points=\"474.5,-689 474.5,-713 506.5,-713 506.5,-689 474.5,-689\"/>\n",
       "<text text-anchor=\"start\" x=\"479.5\" y=\"-698.6\" font-family=\"-apple-system, BlinkMacSystemFont, 'Segoe UI', Helvetica, Arial, sans-serif, 'Apple Color Emoji', 'Segoe UI Emoji', 'Segoe UI Symbol'\" font-weight=\"bold\" font-size=\"13.00\">key</text>\n",
       "<polygon fill=\"#f5f5f5\" stroke=\"transparent\" points=\"506.5,-689 506.5,-713 604.5,-713 604.5,-689 506.5,-689\"/>\n",
       "<text text-anchor=\"start\" x=\"511.5\" y=\"-697.6\" font-family=\"-apple-system, BlinkMacSystemFont, 'Segoe UI', Helvetica, Arial, sans-serif, 'Apple Color Emoji', 'Segoe UI Emoji', 'Segoe UI Symbol'\" font-size=\"13.00\">customerid</text>\n",
       "<polygon fill=\"#f5f5f5\" stroke=\"transparent\" points=\"604.5,-689 604.5,-713 647.5,-713 647.5,-689 604.5,-689\"/>\n",
       "<text text-anchor=\"start\" x=\"627.5\" y=\"-698.6\" font-family=\"-apple-system, BlinkMacSystemFont, 'Segoe UI', Helvetica, Arial, sans-serif, 'Apple Color Emoji', 'Segoe UI Emoji', 'Segoe UI Symbol'\" font-style=\"italic\" font-size=\"13.00\">int</text>\n",
       "<polygon fill=\"#ffffff\" stroke=\"transparent\" points=\"474.5,-665 474.5,-689 506.5,-689 506.5,-665 474.5,-665\"/>\n",
       "<polygon fill=\"#ffffff\" stroke=\"transparent\" points=\"506.5,-665 506.5,-689 604.5,-689 604.5,-665 506.5,-665\"/>\n",
       "<text text-anchor=\"start\" x=\"511.5\" y=\"-673.6\" font-family=\"-apple-system, BlinkMacSystemFont, 'Segoe UI', Helvetica, Arial, sans-serif, 'Apple Color Emoji', 'Segoe UI Emoji', 'Segoe UI Symbol'\" font-size=\"13.00\">customeraltid</text>\n",
       "<polygon fill=\"#ffffff\" stroke=\"transparent\" points=\"604.5,-665 604.5,-689 647.5,-689 647.5,-665 604.5,-665\"/>\n",
       "<text text-anchor=\"start\" x=\"609.5\" y=\"-674.6\" font-family=\"-apple-system, BlinkMacSystemFont, 'Segoe UI', Helvetica, Arial, sans-serif, 'Apple Color Emoji', 'Segoe UI Emoji', 'Segoe UI Symbol'\" font-style=\"italic\" font-size=\"13.00\">string</text>\n",
       "<polygon fill=\"#f5f5f5\" stroke=\"transparent\" points=\"474.5,-641 474.5,-665 506.5,-665 506.5,-641 474.5,-641\"/>\n",
       "<polygon fill=\"#f5f5f5\" stroke=\"transparent\" points=\"506.5,-641 506.5,-665 604.5,-665 604.5,-641 506.5,-641\"/>\n",
       "<text text-anchor=\"start\" x=\"511.5\" y=\"-649.6\" font-family=\"-apple-system, BlinkMacSystemFont, 'Segoe UI', Helvetica, Arial, sans-serif, 'Apple Color Emoji', 'Segoe UI Emoji', 'Segoe UI Symbol'\" font-size=\"13.00\">customername</text>\n",
       "<polygon fill=\"#f5f5f5\" stroke=\"transparent\" points=\"604.5,-641 604.5,-665 647.5,-665 647.5,-641 604.5,-641\"/>\n",
       "<text text-anchor=\"start\" x=\"609.5\" y=\"-650.6\" font-family=\"-apple-system, BlinkMacSystemFont, 'Segoe UI', Helvetica, Arial, sans-serif, 'Apple Color Emoji', 'Segoe UI Emoji', 'Segoe UI Symbol'\" font-style=\"italic\" font-size=\"13.00\">string</text>\n",
       "<polygon fill=\"#ffffff\" stroke=\"transparent\" points=\"474.5,-617 474.5,-641 506.5,-641 506.5,-617 474.5,-617\"/>\n",
       "<polygon fill=\"#ffffff\" stroke=\"transparent\" points=\"506.5,-617 506.5,-641 604.5,-641 604.5,-617 506.5,-617\"/>\n",
       "<text text-anchor=\"start\" x=\"511.5\" y=\"-625.6\" font-family=\"-apple-system, BlinkMacSystemFont, 'Segoe UI', Helvetica, Arial, sans-serif, 'Apple Color Emoji', 'Segoe UI Emoji', 'Segoe UI Symbol'\" font-size=\"13.00\">gender</text>\n",
       "<polygon fill=\"#ffffff\" stroke=\"transparent\" points=\"604.5,-617 604.5,-641 647.5,-641 647.5,-617 604.5,-617\"/>\n",
       "<text text-anchor=\"start\" x=\"609.5\" y=\"-626.6\" font-family=\"-apple-system, BlinkMacSystemFont, 'Segoe UI', Helvetica, Arial, sans-serif, 'Apple Color Emoji', 'Segoe UI Emoji', 'Segoe UI Symbol'\" font-style=\"italic\" font-size=\"13.00\">string</text>\n",
       "<polygon fill=\"none\" stroke=\"black\" points=\"473,-616 473,-738 648,-738 648,-616 473,-616\"/>\n",
       "</g>\n",
       "<!-- SalesPerson -->\n",
       "<g id=\"node2\" class=\"node\">\n",
       "<title>SalesPerson</title>\n",
       "<text text-anchor=\"start\" x=\"520.5\" y=\"-574.6\" font-family=\"-apple-system, BlinkMacSystemFont, 'Segoe UI', Helvetica, Arial, sans-serif, 'Apple Color Emoji', 'Segoe UI Emoji', 'Segoe UI Symbol'\" font-weight=\"bold\" font-size=\"13.00\">SalesPerson</text>\n",
       "<polygon fill=\"#f5f5f5\" stroke=\"transparent\" points=\"465.5,-541 465.5,-565 497.5,-565 497.5,-541 465.5,-541\"/>\n",
       "<text text-anchor=\"start\" x=\"470.5\" y=\"-550.6\" font-family=\"-apple-system, BlinkMacSystemFont, 'Segoe UI', Helvetica, Arial, sans-serif, 'Apple Color Emoji', 'Segoe UI Emoji', 'Segoe UI Symbol'\" font-weight=\"bold\" font-size=\"13.00\">key</text>\n",
       "<polygon fill=\"#f5f5f5\" stroke=\"transparent\" points=\"497.5,-541 497.5,-565 613.5,-565 613.5,-541 497.5,-541\"/>\n",
       "<text text-anchor=\"start\" x=\"502.5\" y=\"-549.6\" font-family=\"-apple-system, BlinkMacSystemFont, 'Segoe UI', Helvetica, Arial, sans-serif, 'Apple Color Emoji', 'Segoe UI Emoji', 'Segoe UI Symbol'\" font-size=\"13.00\">salespersonid</text>\n",
       "<polygon fill=\"#f5f5f5\" stroke=\"transparent\" points=\"613.5,-541 613.5,-565 656.5,-565 656.5,-541 613.5,-541\"/>\n",
       "<text text-anchor=\"start\" x=\"636.5\" y=\"-550.6\" font-family=\"-apple-system, BlinkMacSystemFont, 'Segoe UI', Helvetica, Arial, sans-serif, 'Apple Color Emoji', 'Segoe UI Emoji', 'Segoe UI Symbol'\" font-style=\"italic\" font-size=\"13.00\">int</text>\n",
       "<polygon fill=\"#ffffff\" stroke=\"transparent\" points=\"465.5,-517 465.5,-541 497.5,-541 497.5,-517 465.5,-517\"/>\n",
       "<polygon fill=\"#ffffff\" stroke=\"transparent\" points=\"497.5,-517 497.5,-541 613.5,-541 613.5,-517 497.5,-517\"/>\n",
       "<text text-anchor=\"start\" x=\"502.5\" y=\"-525.6\" font-family=\"-apple-system, BlinkMacSystemFont, 'Segoe UI', Helvetica, Arial, sans-serif, 'Apple Color Emoji', 'Segoe UI Emoji', 'Segoe UI Symbol'\" font-size=\"13.00\">salespersonaltid</text>\n",
       "<polygon fill=\"#ffffff\" stroke=\"transparent\" points=\"613.5,-517 613.5,-541 656.5,-541 656.5,-517 613.5,-517\"/>\n",
       "<text text-anchor=\"start\" x=\"618.5\" y=\"-526.6\" font-family=\"-apple-system, BlinkMacSystemFont, 'Segoe UI', Helvetica, Arial, sans-serif, 'Apple Color Emoji', 'Segoe UI Emoji', 'Segoe UI Symbol'\" font-style=\"italic\" font-size=\"13.00\">string</text>\n",
       "<polygon fill=\"#f5f5f5\" stroke=\"transparent\" points=\"465.5,-493 465.5,-517 497.5,-517 497.5,-493 465.5,-493\"/>\n",
       "<polygon fill=\"#f5f5f5\" stroke=\"transparent\" points=\"497.5,-493 497.5,-517 613.5,-517 613.5,-493 497.5,-493\"/>\n",
       "<text text-anchor=\"start\" x=\"502.5\" y=\"-501.6\" font-family=\"-apple-system, BlinkMacSystemFont, 'Segoe UI', Helvetica, Arial, sans-serif, 'Apple Color Emoji', 'Segoe UI Emoji', 'Segoe UI Symbol'\" font-size=\"13.00\">salespersonname</text>\n",
       "<polygon fill=\"#f5f5f5\" stroke=\"transparent\" points=\"613.5,-493 613.5,-517 656.5,-517 656.5,-493 613.5,-493\"/>\n",
       "<text text-anchor=\"start\" x=\"618.5\" y=\"-502.6\" font-family=\"-apple-system, BlinkMacSystemFont, 'Segoe UI', Helvetica, Arial, sans-serif, 'Apple Color Emoji', 'Segoe UI Emoji', 'Segoe UI Symbol'\" font-style=\"italic\" font-size=\"13.00\">string</text>\n",
       "<polygon fill=\"#ffffff\" stroke=\"transparent\" points=\"465.5,-469 465.5,-493 497.5,-493 497.5,-469 465.5,-469\"/>\n",
       "<polygon fill=\"#ffffff\" stroke=\"transparent\" points=\"497.5,-469 497.5,-493 613.5,-493 613.5,-469 497.5,-469\"/>\n",
       "<text text-anchor=\"start\" x=\"502.5\" y=\"-477.6\" font-family=\"-apple-system, BlinkMacSystemFont, 'Segoe UI', Helvetica, Arial, sans-serif, 'Apple Color Emoji', 'Segoe UI Emoji', 'Segoe UI Symbol'\" font-size=\"13.00\">storeid</text>\n",
       "<polygon fill=\"#ffffff\" stroke=\"transparent\" points=\"613.5,-469 613.5,-493 656.5,-493 656.5,-469 613.5,-469\"/>\n",
       "<text text-anchor=\"start\" x=\"636.5\" y=\"-478.6\" font-family=\"-apple-system, BlinkMacSystemFont, 'Segoe UI', Helvetica, Arial, sans-serif, 'Apple Color Emoji', 'Segoe UI Emoji', 'Segoe UI Symbol'\" font-style=\"italic\" font-size=\"13.00\">int</text>\n",
       "<polygon fill=\"#f5f5f5\" stroke=\"transparent\" points=\"465.5,-445 465.5,-469 497.5,-469 497.5,-445 465.5,-445\"/>\n",
       "<polygon fill=\"#f5f5f5\" stroke=\"transparent\" points=\"497.5,-445 497.5,-469 613.5,-469 613.5,-445 497.5,-445\"/>\n",
       "<text text-anchor=\"start\" x=\"502.5\" y=\"-453.6\" font-family=\"-apple-system, BlinkMacSystemFont, 'Segoe UI', Helvetica, Arial, sans-serif, 'Apple Color Emoji', 'Segoe UI Emoji', 'Segoe UI Symbol'\" font-size=\"13.00\">city</text>\n",
       "<polygon fill=\"#f5f5f5\" stroke=\"transparent\" points=\"613.5,-445 613.5,-469 656.5,-469 656.5,-445 613.5,-445\"/>\n",
       "<text text-anchor=\"start\" x=\"618.5\" y=\"-454.6\" font-family=\"-apple-system, BlinkMacSystemFont, 'Segoe UI', Helvetica, Arial, sans-serif, 'Apple Color Emoji', 'Segoe UI Emoji', 'Segoe UI Symbol'\" font-style=\"italic\" font-size=\"13.00\">string</text>\n",
       "<polygon fill=\"#ffffff\" stroke=\"transparent\" points=\"465.5,-421 465.5,-445 497.5,-445 497.5,-421 465.5,-421\"/>\n",
       "<polygon fill=\"#ffffff\" stroke=\"transparent\" points=\"497.5,-421 497.5,-445 613.5,-445 613.5,-421 497.5,-421\"/>\n",
       "<text text-anchor=\"start\" x=\"502.5\" y=\"-429.6\" font-family=\"-apple-system, BlinkMacSystemFont, 'Segoe UI', Helvetica, Arial, sans-serif, 'Apple Color Emoji', 'Segoe UI Emoji', 'Segoe UI Symbol'\" font-size=\"13.00\">state</text>\n",
       "<polygon fill=\"#ffffff\" stroke=\"transparent\" points=\"613.5,-421 613.5,-445 656.5,-445 656.5,-421 613.5,-421\"/>\n",
       "<text text-anchor=\"start\" x=\"618.5\" y=\"-430.6\" font-family=\"-apple-system, BlinkMacSystemFont, 'Segoe UI', Helvetica, Arial, sans-serif, 'Apple Color Emoji', 'Segoe UI Emoji', 'Segoe UI Symbol'\" font-style=\"italic\" font-size=\"13.00\">string</text>\n",
       "<polygon fill=\"#f5f5f5\" stroke=\"transparent\" points=\"465.5,-397 465.5,-421 497.5,-421 497.5,-397 465.5,-397\"/>\n",
       "<polygon fill=\"#f5f5f5\" stroke=\"transparent\" points=\"497.5,-397 497.5,-421 613.5,-421 613.5,-397 497.5,-397\"/>\n",
       "<text text-anchor=\"start\" x=\"502.5\" y=\"-405.6\" font-family=\"-apple-system, BlinkMacSystemFont, 'Segoe UI', Helvetica, Arial, sans-serif, 'Apple Color Emoji', 'Segoe UI Emoji', 'Segoe UI Symbol'\" font-size=\"13.00\">country</text>\n",
       "<polygon fill=\"#f5f5f5\" stroke=\"transparent\" points=\"613.5,-397 613.5,-421 656.5,-421 656.5,-397 613.5,-397\"/>\n",
       "<text text-anchor=\"start\" x=\"618.5\" y=\"-406.6\" font-family=\"-apple-system, BlinkMacSystemFont, 'Segoe UI', Helvetica, Arial, sans-serif, 'Apple Color Emoji', 'Segoe UI Emoji', 'Segoe UI Symbol'\" font-style=\"italic\" font-size=\"13.00\">string</text>\n",
       "<polygon fill=\"none\" stroke=\"black\" points=\"464,-396 464,-590 657,-590 657,-396 464,-396\"/>\n",
       "</g>\n",
       "<!-- Product -->\n",
       "<g id=\"node3\" class=\"node\">\n",
       "<title>Product</title>\n",
       "<text text-anchor=\"start\" x=\"535\" y=\"-354.6\" font-family=\"-apple-system, BlinkMacSystemFont, 'Segoe UI', Helvetica, Arial, sans-serif, 'Apple Color Emoji', 'Segoe UI Emoji', 'Segoe UI Symbol'\" font-weight=\"bold\" font-size=\"13.00\">Product</text>\n",
       "<polygon fill=\"#f5f5f5\" stroke=\"transparent\" points=\"461.5,-321 461.5,-345 493.5,-345 493.5,-321 461.5,-321\"/>\n",
       "<text text-anchor=\"start\" x=\"466.5\" y=\"-330.6\" font-family=\"-apple-system, BlinkMacSystemFont, 'Segoe UI', Helvetica, Arial, sans-serif, 'Apple Color Emoji', 'Segoe UI Emoji', 'Segoe UI Symbol'\" font-weight=\"bold\" font-size=\"13.00\">key</text>\n",
       "<polygon fill=\"#f5f5f5\" stroke=\"transparent\" points=\"493.5,-321 493.5,-345 609.5,-345 609.5,-321 493.5,-321\"/>\n",
       "<text text-anchor=\"start\" x=\"498.5\" y=\"-329.6\" font-family=\"-apple-system, BlinkMacSystemFont, 'Segoe UI', Helvetica, Arial, sans-serif, 'Apple Color Emoji', 'Segoe UI Emoji', 'Segoe UI Symbol'\" font-size=\"13.00\">productkey</text>\n",
       "<polygon fill=\"#f5f5f5\" stroke=\"transparent\" points=\"609.5,-321 609.5,-345 660.5,-345 660.5,-321 609.5,-321\"/>\n",
       "<text text-anchor=\"start\" x=\"640.5\" y=\"-330.6\" font-family=\"-apple-system, BlinkMacSystemFont, 'Segoe UI', Helvetica, Arial, sans-serif, 'Apple Color Emoji', 'Segoe UI Emoji', 'Segoe UI Symbol'\" font-style=\"italic\" font-size=\"13.00\">int</text>\n",
       "<polygon fill=\"#ffffff\" stroke=\"transparent\" points=\"461.5,-297 461.5,-321 493.5,-321 493.5,-297 461.5,-297\"/>\n",
       "<polygon fill=\"#ffffff\" stroke=\"transparent\" points=\"493.5,-297 493.5,-321 609.5,-321 609.5,-297 493.5,-297\"/>\n",
       "<text text-anchor=\"start\" x=\"498.5\" y=\"-305.6\" font-family=\"-apple-system, BlinkMacSystemFont, 'Segoe UI', Helvetica, Arial, sans-serif, 'Apple Color Emoji', 'Segoe UI Emoji', 'Segoe UI Symbol'\" font-size=\"13.00\">productaltkey</text>\n",
       "<polygon fill=\"#ffffff\" stroke=\"transparent\" points=\"609.5,-297 609.5,-321 660.5,-321 660.5,-297 609.5,-297\"/>\n",
       "<text text-anchor=\"start\" x=\"622.5\" y=\"-306.6\" font-family=\"-apple-system, BlinkMacSystemFont, 'Segoe UI', Helvetica, Arial, sans-serif, 'Apple Color Emoji', 'Segoe UI Emoji', 'Segoe UI Symbol'\" font-style=\"italic\" font-size=\"13.00\">string</text>\n",
       "<polygon fill=\"#f5f5f5\" stroke=\"transparent\" points=\"461.5,-273 461.5,-297 493.5,-297 493.5,-273 461.5,-273\"/>\n",
       "<polygon fill=\"#f5f5f5\" stroke=\"transparent\" points=\"493.5,-273 493.5,-297 609.5,-297 609.5,-273 493.5,-273\"/>\n",
       "<text text-anchor=\"start\" x=\"498.5\" y=\"-281.6\" font-family=\"-apple-system, BlinkMacSystemFont, 'Segoe UI', Helvetica, Arial, sans-serif, 'Apple Color Emoji', 'Segoe UI Emoji', 'Segoe UI Symbol'\" font-size=\"13.00\">productname</text>\n",
       "<polygon fill=\"#f5f5f5\" stroke=\"transparent\" points=\"609.5,-273 609.5,-297 660.5,-297 660.5,-273 609.5,-273\"/>\n",
       "<text text-anchor=\"start\" x=\"622.5\" y=\"-282.6\" font-family=\"-apple-system, BlinkMacSystemFont, 'Segoe UI', Helvetica, Arial, sans-serif, 'Apple Color Emoji', 'Segoe UI Emoji', 'Segoe UI Symbol'\" font-style=\"italic\" font-size=\"13.00\">string</text>\n",
       "<polygon fill=\"#ffffff\" stroke=\"transparent\" points=\"461.5,-249 461.5,-273 493.5,-273 493.5,-249 461.5,-249\"/>\n",
       "<polygon fill=\"#ffffff\" stroke=\"transparent\" points=\"493.5,-249 493.5,-273 609.5,-273 609.5,-249 493.5,-249\"/>\n",
       "<text text-anchor=\"start\" x=\"498.5\" y=\"-257.6\" font-family=\"-apple-system, BlinkMacSystemFont, 'Segoe UI', Helvetica, Arial, sans-serif, 'Apple Color Emoji', 'Segoe UI Emoji', 'Segoe UI Symbol'\" font-size=\"13.00\">productactualcost</text>\n",
       "<polygon fill=\"#ffffff\" stroke=\"transparent\" points=\"609.5,-249 609.5,-273 660.5,-273 660.5,-249 609.5,-249\"/>\n",
       "<text text-anchor=\"start\" x=\"614.5\" y=\"-258.6\" font-family=\"-apple-system, BlinkMacSystemFont, 'Segoe UI', Helvetica, Arial, sans-serif, 'Apple Color Emoji', 'Segoe UI Emoji', 'Segoe UI Symbol'\" font-style=\"italic\" font-size=\"13.00\">double</text>\n",
       "<polygon fill=\"#f5f5f5\" stroke=\"transparent\" points=\"461.5,-225 461.5,-249 493.5,-249 493.5,-225 461.5,-225\"/>\n",
       "<polygon fill=\"#f5f5f5\" stroke=\"transparent\" points=\"493.5,-225 493.5,-249 609.5,-249 609.5,-225 493.5,-225\"/>\n",
       "<text text-anchor=\"start\" x=\"498.5\" y=\"-233.6\" font-family=\"-apple-system, BlinkMacSystemFont, 'Segoe UI', Helvetica, Arial, sans-serif, 'Apple Color Emoji', 'Segoe UI Emoji', 'Segoe UI Symbol'\" font-size=\"13.00\">productsalescost</text>\n",
       "<polygon fill=\"#f5f5f5\" stroke=\"transparent\" points=\"609.5,-225 609.5,-249 660.5,-249 660.5,-225 609.5,-225\"/>\n",
       "<text text-anchor=\"start\" x=\"614.5\" y=\"-234.6\" font-family=\"-apple-system, BlinkMacSystemFont, 'Segoe UI', Helvetica, Arial, sans-serif, 'Apple Color Emoji', 'Segoe UI Emoji', 'Segoe UI Symbol'\" font-style=\"italic\" font-size=\"13.00\">double</text>\n",
       "<polygon fill=\"none\" stroke=\"black\" points=\"460,-224 460,-370 661,-370 661,-224 460,-224\"/>\n",
       "</g>\n",
       "<!-- Stores -->\n",
       "<g id=\"node4\" class=\"node\">\n",
       "<title>Stores</title>\n",
       "<text text-anchor=\"start\" x=\"539.5\" y=\"-182.6\" font-family=\"-apple-system, BlinkMacSystemFont, 'Segoe UI', Helvetica, Arial, sans-serif, 'Apple Color Emoji', 'Segoe UI Emoji', 'Segoe UI Symbol'\" font-weight=\"bold\" font-size=\"13.00\">Stores</text>\n",
       "<polygon fill=\"#f5f5f5\" stroke=\"transparent\" points=\"480.5,-149 480.5,-173 512.5,-173 512.5,-149 480.5,-149\"/>\n",
       "<text text-anchor=\"start\" x=\"485.5\" y=\"-158.6\" font-family=\"-apple-system, BlinkMacSystemFont, 'Segoe UI', Helvetica, Arial, sans-serif, 'Apple Color Emoji', 'Segoe UI Emoji', 'Segoe UI Symbol'\" font-weight=\"bold\" font-size=\"13.00\">key</text>\n",
       "<polygon fill=\"#f5f5f5\" stroke=\"transparent\" points=\"512.5,-149 512.5,-173 598.5,-173 598.5,-149 512.5,-149\"/>\n",
       "<text text-anchor=\"start\" x=\"517.5\" y=\"-157.6\" font-family=\"-apple-system, BlinkMacSystemFont, 'Segoe UI', Helvetica, Arial, sans-serif, 'Apple Color Emoji', 'Segoe UI Emoji', 'Segoe UI Symbol'\" font-size=\"13.00\">storeid</text>\n",
       "<polygon fill=\"#f5f5f5\" stroke=\"transparent\" points=\"598.5,-149 598.5,-173 641.5,-173 641.5,-149 598.5,-149\"/>\n",
       "<text text-anchor=\"start\" x=\"621.5\" y=\"-158.6\" font-family=\"-apple-system, BlinkMacSystemFont, 'Segoe UI', Helvetica, Arial, sans-serif, 'Apple Color Emoji', 'Segoe UI Emoji', 'Segoe UI Symbol'\" font-style=\"italic\" font-size=\"13.00\">int</text>\n",
       "<polygon fill=\"#ffffff\" stroke=\"transparent\" points=\"480.5,-125 480.5,-149 512.5,-149 512.5,-125 480.5,-125\"/>\n",
       "<polygon fill=\"#ffffff\" stroke=\"transparent\" points=\"512.5,-125 512.5,-149 598.5,-149 598.5,-125 512.5,-125\"/>\n",
       "<text text-anchor=\"start\" x=\"517.5\" y=\"-133.6\" font-family=\"-apple-system, BlinkMacSystemFont, 'Segoe UI', Helvetica, Arial, sans-serif, 'Apple Color Emoji', 'Segoe UI Emoji', 'Segoe UI Symbol'\" font-size=\"13.00\">storealtid</text>\n",
       "<polygon fill=\"#ffffff\" stroke=\"transparent\" points=\"598.5,-125 598.5,-149 641.5,-149 641.5,-125 598.5,-125\"/>\n",
       "<text text-anchor=\"start\" x=\"603.5\" y=\"-134.6\" font-family=\"-apple-system, BlinkMacSystemFont, 'Segoe UI', Helvetica, Arial, sans-serif, 'Apple Color Emoji', 'Segoe UI Emoji', 'Segoe UI Symbol'\" font-style=\"italic\" font-size=\"13.00\">string</text>\n",
       "<polygon fill=\"#f5f5f5\" stroke=\"transparent\" points=\"480.5,-101 480.5,-125 512.5,-125 512.5,-101 480.5,-101\"/>\n",
       "<polygon fill=\"#f5f5f5\" stroke=\"transparent\" points=\"512.5,-101 512.5,-125 598.5,-125 598.5,-101 512.5,-101\"/>\n",
       "<text text-anchor=\"start\" x=\"517.5\" y=\"-109.6\" font-family=\"-apple-system, BlinkMacSystemFont, 'Segoe UI', Helvetica, Arial, sans-serif, 'Apple Color Emoji', 'Segoe UI Emoji', 'Segoe UI Symbol'\" font-size=\"13.00\">storename</text>\n",
       "<polygon fill=\"#f5f5f5\" stroke=\"transparent\" points=\"598.5,-101 598.5,-125 641.5,-125 641.5,-101 598.5,-101\"/>\n",
       "<text text-anchor=\"start\" x=\"603.5\" y=\"-110.6\" font-family=\"-apple-system, BlinkMacSystemFont, 'Segoe UI', Helvetica, Arial, sans-serif, 'Apple Color Emoji', 'Segoe UI Emoji', 'Segoe UI Symbol'\" font-style=\"italic\" font-size=\"13.00\">string</text>\n",
       "<polygon fill=\"#ffffff\" stroke=\"transparent\" points=\"480.5,-77 480.5,-101 512.5,-101 512.5,-77 480.5,-77\"/>\n",
       "<polygon fill=\"#ffffff\" stroke=\"transparent\" points=\"512.5,-77 512.5,-101 598.5,-101 598.5,-77 512.5,-77\"/>\n",
       "<text text-anchor=\"start\" x=\"517.5\" y=\"-85.6\" font-family=\"-apple-system, BlinkMacSystemFont, 'Segoe UI', Helvetica, Arial, sans-serif, 'Apple Color Emoji', 'Segoe UI Emoji', 'Segoe UI Symbol'\" font-size=\"13.00\">storelocation</text>\n",
       "<polygon fill=\"#ffffff\" stroke=\"transparent\" points=\"598.5,-77 598.5,-101 641.5,-101 641.5,-77 598.5,-77\"/>\n",
       "<text text-anchor=\"start\" x=\"603.5\" y=\"-86.6\" font-family=\"-apple-system, BlinkMacSystemFont, 'Segoe UI', Helvetica, Arial, sans-serif, 'Apple Color Emoji', 'Segoe UI Emoji', 'Segoe UI Symbol'\" font-style=\"italic\" font-size=\"13.00\">string</text>\n",
       "<polygon fill=\"#f5f5f5\" stroke=\"transparent\" points=\"480.5,-53 480.5,-77 512.5,-77 512.5,-53 480.5,-53\"/>\n",
       "<polygon fill=\"#f5f5f5\" stroke=\"transparent\" points=\"512.5,-53 512.5,-77 598.5,-77 598.5,-53 512.5,-53\"/>\n",
       "<text text-anchor=\"start\" x=\"517.5\" y=\"-61.6\" font-family=\"-apple-system, BlinkMacSystemFont, 'Segoe UI', Helvetica, Arial, sans-serif, 'Apple Color Emoji', 'Segoe UI Emoji', 'Segoe UI Symbol'\" font-size=\"13.00\">city</text>\n",
       "<polygon fill=\"#f5f5f5\" stroke=\"transparent\" points=\"598.5,-53 598.5,-77 641.5,-77 641.5,-53 598.5,-53\"/>\n",
       "<text text-anchor=\"start\" x=\"603.5\" y=\"-62.6\" font-family=\"-apple-system, BlinkMacSystemFont, 'Segoe UI', Helvetica, Arial, sans-serif, 'Apple Color Emoji', 'Segoe UI Emoji', 'Segoe UI Symbol'\" font-style=\"italic\" font-size=\"13.00\">string</text>\n",
       "<polygon fill=\"#ffffff\" stroke=\"transparent\" points=\"480.5,-29 480.5,-53 512.5,-53 512.5,-29 480.5,-29\"/>\n",
       "<polygon fill=\"#ffffff\" stroke=\"transparent\" points=\"512.5,-29 512.5,-53 598.5,-53 598.5,-29 512.5,-29\"/>\n",
       "<text text-anchor=\"start\" x=\"517.5\" y=\"-37.6\" font-family=\"-apple-system, BlinkMacSystemFont, 'Segoe UI', Helvetica, Arial, sans-serif, 'Apple Color Emoji', 'Segoe UI Emoji', 'Segoe UI Symbol'\" font-size=\"13.00\">state</text>\n",
       "<polygon fill=\"#ffffff\" stroke=\"transparent\" points=\"598.5,-29 598.5,-53 641.5,-53 641.5,-29 598.5,-29\"/>\n",
       "<text text-anchor=\"start\" x=\"603.5\" y=\"-38.6\" font-family=\"-apple-system, BlinkMacSystemFont, 'Segoe UI', Helvetica, Arial, sans-serif, 'Apple Color Emoji', 'Segoe UI Emoji', 'Segoe UI Symbol'\" font-style=\"italic\" font-size=\"13.00\">string</text>\n",
       "<polygon fill=\"#f5f5f5\" stroke=\"transparent\" points=\"480.5,-5 480.5,-29 512.5,-29 512.5,-5 480.5,-5\"/>\n",
       "<polygon fill=\"#f5f5f5\" stroke=\"transparent\" points=\"512.5,-5 512.5,-29 598.5,-29 598.5,-5 512.5,-5\"/>\n",
       "<text text-anchor=\"start\" x=\"517.5\" y=\"-13.6\" font-family=\"-apple-system, BlinkMacSystemFont, 'Segoe UI', Helvetica, Arial, sans-serif, 'Apple Color Emoji', 'Segoe UI Emoji', 'Segoe UI Symbol'\" font-size=\"13.00\">country</text>\n",
       "<polygon fill=\"#f5f5f5\" stroke=\"transparent\" points=\"598.5,-5 598.5,-29 641.5,-29 641.5,-5 598.5,-5\"/>\n",
       "<text text-anchor=\"start\" x=\"603.5\" y=\"-14.6\" font-family=\"-apple-system, BlinkMacSystemFont, 'Segoe UI', Helvetica, Arial, sans-serif, 'Apple Color Emoji', 'Segoe UI Emoji', 'Segoe UI Symbol'\" font-style=\"italic\" font-size=\"13.00\">string</text>\n",
       "<polygon fill=\"none\" stroke=\"black\" points=\"479,-4 479,-198 642,-198 642,-4 479,-4\"/>\n",
       "</g>\n",
       "<!-- ProductSales -->\n",
       "<g id=\"node5\" class=\"node\">\n",
       "<title>ProductSales</title>\n",
       "<text text-anchor=\"start\" x=\"71.5\" y=\"-512.6\" font-family=\"-apple-system, BlinkMacSystemFont, 'Segoe UI', Helvetica, Arial, sans-serif, 'Apple Color Emoji', 'Segoe UI Emoji', 'Segoe UI Symbol'\" font-weight=\"bold\" font-size=\"13.00\">ProductSales</text>\n",
       "<polygon fill=\"#f5f5f5\" stroke=\"transparent\" points=\"9.5,-479 9.5,-503 41.5,-503 41.5,-479 9.5,-479\"/>\n",
       "<text text-anchor=\"start\" x=\"14.5\" y=\"-488.6\" font-family=\"-apple-system, BlinkMacSystemFont, 'Segoe UI', Helvetica, Arial, sans-serif, 'Apple Color Emoji', 'Segoe UI Emoji', 'Segoe UI Symbol'\" font-weight=\"bold\" font-size=\"13.00\">key</text>\n",
       "<polygon fill=\"#f5f5f5\" stroke=\"transparent\" points=\"41.5,-479 41.5,-503 169.5,-503 169.5,-479 41.5,-479\"/>\n",
       "<text text-anchor=\"start\" x=\"46.5\" y=\"-487.6\" font-family=\"-apple-system, BlinkMacSystemFont, 'Segoe UI', Helvetica, Arial, sans-serif, 'Apple Color Emoji', 'Segoe UI Emoji', 'Segoe UI Symbol'\" font-size=\"13.00\">transactionid</text>\n",
       "<polygon fill=\"#f5f5f5\" stroke=\"transparent\" points=\"169.5,-479 169.5,-503 220.5,-503 220.5,-479 169.5,-479\"/>\n",
       "<text text-anchor=\"start\" x=\"189.5\" y=\"-488.6\" font-family=\"-apple-system, BlinkMacSystemFont, 'Segoe UI', Helvetica, Arial, sans-serif, 'Apple Color Emoji', 'Segoe UI Emoji', 'Segoe UI Symbol'\" font-style=\"italic\" font-size=\"13.00\">long</text>\n",
       "<polygon fill=\"#ffffff\" stroke=\"transparent\" points=\"9.5,-455 9.5,-479 41.5,-479 41.5,-455 9.5,-455\"/>\n",
       "<polygon fill=\"#ffffff\" stroke=\"transparent\" points=\"41.5,-455 41.5,-479 169.5,-479 169.5,-455 41.5,-455\"/>\n",
       "<text text-anchor=\"start\" x=\"46.5\" y=\"-463.6\" font-family=\"-apple-system, BlinkMacSystemFont, 'Segoe UI', Helvetica, Arial, sans-serif, 'Apple Color Emoji', 'Segoe UI Emoji', 'Segoe UI Symbol'\" font-size=\"13.00\">salesinvoicenumber</text>\n",
       "<polygon fill=\"#ffffff\" stroke=\"transparent\" points=\"169.5,-455 169.5,-479 220.5,-479 220.5,-455 169.5,-455\"/>\n",
       "<text text-anchor=\"start\" x=\"200.5\" y=\"-464.6\" font-family=\"-apple-system, BlinkMacSystemFont, 'Segoe UI', Helvetica, Arial, sans-serif, 'Apple Color Emoji', 'Segoe UI Emoji', 'Segoe UI Symbol'\" font-style=\"italic\" font-size=\"13.00\">int</text>\n",
       "<polygon fill=\"#f5f5f5\" stroke=\"transparent\" points=\"9.5,-431 9.5,-455 41.5,-455 41.5,-431 9.5,-431\"/>\n",
       "<polygon fill=\"#f5f5f5\" stroke=\"transparent\" points=\"41.5,-431 41.5,-455 169.5,-455 169.5,-431 41.5,-431\"/>\n",
       "<text text-anchor=\"start\" x=\"46.5\" y=\"-439.6\" font-family=\"-apple-system, BlinkMacSystemFont, 'Segoe UI', Helvetica, Arial, sans-serif, 'Apple Color Emoji', 'Segoe UI Emoji', 'Segoe UI Symbol'\" font-size=\"13.00\">storeid</text>\n",
       "<polygon fill=\"#f5f5f5\" stroke=\"transparent\" points=\"169.5,-431 169.5,-455 220.5,-455 220.5,-431 169.5,-431\"/>\n",
       "<text text-anchor=\"start\" x=\"200.5\" y=\"-440.6\" font-family=\"-apple-system, BlinkMacSystemFont, 'Segoe UI', Helvetica, Arial, sans-serif, 'Apple Color Emoji', 'Segoe UI Emoji', 'Segoe UI Symbol'\" font-style=\"italic\" font-size=\"13.00\">int</text>\n",
       "<polygon fill=\"#ffffff\" stroke=\"transparent\" points=\"9.5,-407 9.5,-431 41.5,-431 41.5,-407 9.5,-407\"/>\n",
       "<polygon fill=\"#ffffff\" stroke=\"transparent\" points=\"41.5,-407 41.5,-431 169.5,-431 169.5,-407 41.5,-407\"/>\n",
       "<text text-anchor=\"start\" x=\"46.5\" y=\"-415.6\" font-family=\"-apple-system, BlinkMacSystemFont, 'Segoe UI', Helvetica, Arial, sans-serif, 'Apple Color Emoji', 'Segoe UI Emoji', 'Segoe UI Symbol'\" font-size=\"13.00\">customerid</text>\n",
       "<polygon fill=\"#ffffff\" stroke=\"transparent\" points=\"169.5,-407 169.5,-431 220.5,-431 220.5,-407 169.5,-407\"/>\n",
       "<text text-anchor=\"start\" x=\"200.5\" y=\"-416.6\" font-family=\"-apple-system, BlinkMacSystemFont, 'Segoe UI', Helvetica, Arial, sans-serif, 'Apple Color Emoji', 'Segoe UI Emoji', 'Segoe UI Symbol'\" font-style=\"italic\" font-size=\"13.00\">int</text>\n",
       "<polygon fill=\"#f5f5f5\" stroke=\"transparent\" points=\"9.5,-383 9.5,-407 41.5,-407 41.5,-383 9.5,-383\"/>\n",
       "<polygon fill=\"#f5f5f5\" stroke=\"transparent\" points=\"41.5,-383 41.5,-407 169.5,-407 169.5,-383 41.5,-383\"/>\n",
       "<text text-anchor=\"start\" x=\"46.5\" y=\"-391.6\" font-family=\"-apple-system, BlinkMacSystemFont, 'Segoe UI', Helvetica, Arial, sans-serif, 'Apple Color Emoji', 'Segoe UI Emoji', 'Segoe UI Symbol'\" font-size=\"13.00\">productid</text>\n",
       "<polygon fill=\"#f5f5f5\" stroke=\"transparent\" points=\"169.5,-383 169.5,-407 220.5,-407 220.5,-383 169.5,-383\"/>\n",
       "<text text-anchor=\"start\" x=\"200.5\" y=\"-392.6\" font-family=\"-apple-system, BlinkMacSystemFont, 'Segoe UI', Helvetica, Arial, sans-serif, 'Apple Color Emoji', 'Segoe UI Emoji', 'Segoe UI Symbol'\" font-style=\"italic\" font-size=\"13.00\">int</text>\n",
       "<polygon fill=\"#ffffff\" stroke=\"transparent\" points=\"9.5,-359 9.5,-383 41.5,-383 41.5,-359 9.5,-359\"/>\n",
       "<polygon fill=\"#ffffff\" stroke=\"transparent\" points=\"41.5,-359 41.5,-383 169.5,-383 169.5,-359 41.5,-359\"/>\n",
       "<text text-anchor=\"start\" x=\"46.5\" y=\"-367.6\" font-family=\"-apple-system, BlinkMacSystemFont, 'Segoe UI', Helvetica, Arial, sans-serif, 'Apple Color Emoji', 'Segoe UI Emoji', 'Segoe UI Symbol'\" font-size=\"13.00\">salespersonid</text>\n",
       "<polygon fill=\"#ffffff\" stroke=\"transparent\" points=\"169.5,-359 169.5,-383 220.5,-383 220.5,-359 169.5,-359\"/>\n",
       "<text text-anchor=\"start\" x=\"200.5\" y=\"-368.6\" font-family=\"-apple-system, BlinkMacSystemFont, 'Segoe UI', Helvetica, Arial, sans-serif, 'Apple Color Emoji', 'Segoe UI Emoji', 'Segoe UI Symbol'\" font-style=\"italic\" font-size=\"13.00\">int</text>\n",
       "<polygon fill=\"#f5f5f5\" stroke=\"transparent\" points=\"9.5,-335 9.5,-359 41.5,-359 41.5,-335 9.5,-335\"/>\n",
       "<polygon fill=\"#f5f5f5\" stroke=\"transparent\" points=\"41.5,-335 41.5,-359 169.5,-359 169.5,-335 41.5,-335\"/>\n",
       "<text text-anchor=\"start\" x=\"46.5\" y=\"-343.6\" font-family=\"-apple-system, BlinkMacSystemFont, 'Segoe UI', Helvetica, Arial, sans-serif, 'Apple Color Emoji', 'Segoe UI Emoji', 'Segoe UI Symbol'\" font-size=\"13.00\">quantity</text>\n",
       "<polygon fill=\"#f5f5f5\" stroke=\"transparent\" points=\"169.5,-335 169.5,-359 220.5,-359 220.5,-335 169.5,-335\"/>\n",
       "<text text-anchor=\"start\" x=\"174.5\" y=\"-344.6\" font-family=\"-apple-system, BlinkMacSystemFont, 'Segoe UI', Helvetica, Arial, sans-serif, 'Apple Color Emoji', 'Segoe UI Emoji', 'Segoe UI Symbol'\" font-style=\"italic\" font-size=\"13.00\">double</text>\n",
       "<polygon fill=\"#ffffff\" stroke=\"transparent\" points=\"9.5,-311 9.5,-335 41.5,-335 41.5,-311 9.5,-311\"/>\n",
       "<polygon fill=\"#ffffff\" stroke=\"transparent\" points=\"41.5,-311 41.5,-335 169.5,-335 169.5,-311 41.5,-311\"/>\n",
       "<text text-anchor=\"start\" x=\"46.5\" y=\"-319.6\" font-family=\"-apple-system, BlinkMacSystemFont, 'Segoe UI', Helvetica, Arial, sans-serif, 'Apple Color Emoji', 'Segoe UI Emoji', 'Segoe UI Symbol'\" font-size=\"13.00\">salestotalcost</text>\n",
       "<polygon fill=\"#ffffff\" stroke=\"transparent\" points=\"169.5,-311 169.5,-335 220.5,-335 220.5,-311 169.5,-311\"/>\n",
       "<text text-anchor=\"start\" x=\"174.5\" y=\"-320.6\" font-family=\"-apple-system, BlinkMacSystemFont, 'Segoe UI', Helvetica, Arial, sans-serif, 'Apple Color Emoji', 'Segoe UI Emoji', 'Segoe UI Symbol'\" font-style=\"italic\" font-size=\"13.00\">double</text>\n",
       "<polygon fill=\"#f5f5f5\" stroke=\"transparent\" points=\"9.5,-287 9.5,-311 41.5,-311 41.5,-287 9.5,-287\"/>\n",
       "<polygon fill=\"#f5f5f5\" stroke=\"transparent\" points=\"41.5,-287 41.5,-311 169.5,-311 169.5,-287 41.5,-287\"/>\n",
       "<text text-anchor=\"start\" x=\"46.5\" y=\"-295.6\" font-family=\"-apple-system, BlinkMacSystemFont, 'Segoe UI', Helvetica, Arial, sans-serif, 'Apple Color Emoji', 'Segoe UI Emoji', 'Segoe UI Symbol'\" font-size=\"13.00\">productactualcost</text>\n",
       "<polygon fill=\"#f5f5f5\" stroke=\"transparent\" points=\"169.5,-287 169.5,-311 220.5,-311 220.5,-287 169.5,-287\"/>\n",
       "<text text-anchor=\"start\" x=\"174.5\" y=\"-296.6\" font-family=\"-apple-system, BlinkMacSystemFont, 'Segoe UI', Helvetica, Arial, sans-serif, 'Apple Color Emoji', 'Segoe UI Emoji', 'Segoe UI Symbol'\" font-style=\"italic\" font-size=\"13.00\">double</text>\n",
       "<polygon fill=\"#ffffff\" stroke=\"transparent\" points=\"9.5,-263 9.5,-287 41.5,-287 41.5,-263 9.5,-263\"/>\n",
       "<polygon fill=\"#ffffff\" stroke=\"transparent\" points=\"41.5,-263 41.5,-287 169.5,-287 169.5,-263 41.5,-263\"/>\n",
       "<text text-anchor=\"start\" x=\"46.5\" y=\"-271.6\" font-family=\"-apple-system, BlinkMacSystemFont, 'Segoe UI', Helvetica, Arial, sans-serif, 'Apple Color Emoji', 'Segoe UI Emoji', 'Segoe UI Symbol'\" font-size=\"13.00\">deviation</text>\n",
       "<polygon fill=\"#ffffff\" stroke=\"transparent\" points=\"169.5,-263 169.5,-287 220.5,-287 220.5,-263 169.5,-263\"/>\n",
       "<text text-anchor=\"start\" x=\"174.5\" y=\"-272.6\" font-family=\"-apple-system, BlinkMacSystemFont, 'Segoe UI', Helvetica, Arial, sans-serif, 'Apple Color Emoji', 'Segoe UI Emoji', 'Segoe UI Symbol'\" font-style=\"italic\" font-size=\"13.00\">double</text>\n",
       "<polygon fill=\"none\" stroke=\"black\" points=\"8,-262 8,-528 221,-528 221,-262 8,-262\"/>\n",
       "</g>\n",
       "<!-- ProductSales&#45;&gt;Customer -->\n",
       "<g id=\"edge3\" class=\"edge\">\n",
       "<title>ProductSales-&gt;Customer</title>\n",
       "<path fill=\"none\" stroke=\"black\" d=\"M229.06,-470.4C235.12,-474.34 241.13,-478.23 247,-482 316.22,-526.49 394.81,-575.52 455.85,-613.28\"/>\n",
       "<polygon fill=\"black\" stroke=\"black\" points=\"454.38,-616.49 464.73,-618.77 458.07,-610.54 454.38,-616.49\"/>\n",
       "<text text-anchor=\"middle\" x=\"340.5\" y=\"-601.6\" font-family=\"-apple-system, BlinkMacSystemFont, 'Segoe UI', Helvetica, Arial, sans-serif, 'Apple Color Emoji', 'Segoe UI Emoji', 'Segoe UI Symbol'\" font-size=\"13.00\">customerid → customerid</text>\n",
       "</g>\n",
       "<!-- ProductSales&#45;&gt;SalesPerson -->\n",
       "<g id=\"edge2\" class=\"edge\">\n",
       "<title>ProductSales-&gt;SalesPerson</title>\n",
       "<path fill=\"none\" stroke=\"black\" d=\"M229.26,-420.11C295.74,-434.78 379.35,-453.24 445.81,-467.91\"/>\n",
       "<polygon fill=\"black\" stroke=\"black\" points=\"445.39,-471.4 455.91,-470.14 446.9,-464.56 445.39,-471.4\"/>\n",
       "<text text-anchor=\"middle\" x=\"340.5\" y=\"-467.6\" font-family=\"-apple-system, BlinkMacSystemFont, 'Segoe UI', Helvetica, Arial, sans-serif, 'Apple Color Emoji', 'Segoe UI Emoji', 'Segoe UI Symbol'\" font-size=\"13.00\">salespersonid → salespersonid</text>\n",
       "</g>\n",
       "<!-- ProductSales&#45;&gt;Product -->\n",
       "<g id=\"edge4\" class=\"edge\">\n",
       "<title>ProductSales-&gt;Product</title>\n",
       "<path fill=\"none\" stroke=\"black\" d=\"M229.26,-369.89C294.39,-355.51 375.98,-337.51 441.76,-322.99\"/>\n",
       "<polygon fill=\"black\" stroke=\"black\" points=\"442.75,-326.35 451.76,-320.78 441.24,-319.52 442.75,-326.35\"/>\n",
       "<text text-anchor=\"middle\" x=\"340.5\" y=\"-366.6\" font-family=\"-apple-system, BlinkMacSystemFont, 'Segoe UI', Helvetica, Arial, sans-serif, 'Apple Color Emoji', 'Segoe UI Emoji', 'Segoe UI Symbol'\" font-size=\"13.00\">productid → productkey</text>\n",
       "</g>\n",
       "<!-- ProductSales&#45;&gt;Stores -->\n",
       "<g id=\"edge1\" class=\"edge\">\n",
       "<title>ProductSales-&gt;Stores</title>\n",
       "<path fill=\"none\" stroke=\"black\" d=\"M229.15,-318.87C235.19,-314.85 241.16,-310.88 247,-307 318.99,-259.19 400.52,-205.45 462.25,-164.86\"/>\n",
       "<polygon fill=\"black\" stroke=\"black\" points=\"464.39,-167.64 470.83,-159.22 460.55,-161.79 464.39,-167.64\"/>\n",
       "<text text-anchor=\"middle\" x=\"340.5\" y=\"-310.6\" font-family=\"-apple-system, BlinkMacSystemFont, 'Segoe UI', Helvetica, Arial, sans-serif, 'Apple Color Emoji', 'Segoe UI Emoji', 'Segoe UI Symbol'\" font-size=\"13.00\">storeid → storeid</text>\n",
       "</g>\n",
       "</g>\n",
       "</svg>"
      ],
      "text/plain": [
       "<IPython.core.display.SVG object>"
      ]
     },
     "execution_count": 14,
     "metadata": {},
     "output_type": "execute_result"
    }
   ],
   "source": [
    "session.tables.schema"
   ]
  },
  {
   "cell_type": "code",
   "execution_count": 15,
   "id": "cef318a0-52c2-4c1a-a1c0-295b966aa4cf",
   "metadata": {},
   "outputs": [],
   "source": [
    "cube = session.create_cube(product_sales_table)"
   ]
  },
  {
   "cell_type": "code",
   "execution_count": 16,
   "id": "16e2c037-0119-4732-b927-df06479addd9",
   "metadata": {},
   "outputs": [
    {
     "data": {
      "application/json": {
       "Dimensions": {
        "Customer": {
         "customeraltid": [
          "customeraltid"
         ],
         "customername": [
          "customername"
         ],
         "gender": [
          "gender"
         ]
        },
        "Product": {
         "productaltkey": [
          "productaltkey"
         ],
         "productname": [
          "productname"
         ]
        },
        "ProductSales": {
         "transactionid": [
          "transactionid"
         ]
        },
        "SalesPerson": {
         "city": [
          "city"
         ],
         "country": [
          "country"
         ],
         "salespersonaltid": [
          "salespersonaltid"
         ],
         "salespersonname": [
          "salespersonname"
         ],
         "state": [
          "state"
         ]
        },
        "Stores": {
         "city": [
          "city"
         ],
         "country": [
          "country"
         ],
         "state": [
          "state"
         ],
         "storealtid": [
          "storealtid"
         ],
         "storelocation": [
          "storelocation"
         ],
         "storename": [
          "storename"
         ]
        }
       },
       "Measures": {
        "contributors.COUNT": {
         "formatter": "INT[#,###]"
        },
        "customerid.MEAN": {
         "formatter": "DOUBLE[#,###.00]"
        },
        "customerid.SUM": {
         "formatter": "INT[#,###]"
        },
        "deviation.MEAN": {
         "formatter": "DOUBLE[#,###.00]"
        },
        "deviation.SUM": {
         "formatter": "DOUBLE[#,###.00]"
        },
        "productactualcost.MEAN": {
         "formatter": "DOUBLE[#,###.00]"
        },
        "productactualcost.SUM": {
         "formatter": "DOUBLE[#,###.00]"
        },
        "productid.MEAN": {
         "formatter": "DOUBLE[#,###.00]"
        },
        "productid.SUM": {
         "formatter": "INT[#,###]"
        },
        "quantity.MEAN": {
         "formatter": "DOUBLE[#,###.00]"
        },
        "quantity.SUM": {
         "formatter": "DOUBLE[#,###.00]"
        },
        "salesinvoicenumber.MEAN": {
         "formatter": "DOUBLE[#,###.00]"
        },
        "salesinvoicenumber.SUM": {
         "formatter": "INT[#,###]"
        },
        "salespersonid.MEAN": {
         "formatter": "DOUBLE[#,###.00]"
        },
        "salespersonid.SUM": {
         "formatter": "INT[#,###]"
        },
        "salestotalcost.MEAN": {
         "formatter": "DOUBLE[#,###.00]"
        },
        "salestotalcost.SUM": {
         "formatter": "DOUBLE[#,###.00]"
        },
        "storeid.MEAN": {
         "formatter": "DOUBLE[#,###.00]"
        },
        "storeid.SUM": {
         "formatter": "INT[#,###]"
        }
       }
      },
      "text/html": [
       "<ul>\n",
       "<li>ProductSales\n",
       "  <ul>\n",
       "  <li>Dimensions\n",
       "    <ul>\n",
       "    <li>Customer\n",
       "      <ul>\n",
       "      <li>customeraltid\n",
       "        <ol>\n",
       "        <li>customeraltid</li>\n",
       "        </ol>      </li>\n",
       "      <li>customername\n",
       "        <ol>\n",
       "        <li>customername</li>\n",
       "        </ol>      </li>\n",
       "      <li>gender\n",
       "        <ol>\n",
       "        <li>gender</li>\n",
       "        </ol>      </li>\n",
       "      </ul>\n",
       "    </li>\n",
       "    <li>Product\n",
       "      <ul>\n",
       "      <li>productaltkey\n",
       "        <ol>\n",
       "        <li>productaltkey</li>\n",
       "        </ol>      </li>\n",
       "      <li>productname\n",
       "        <ol>\n",
       "        <li>productname</li>\n",
       "        </ol>      </li>\n",
       "      </ul>\n",
       "    </li>\n",
       "    <li>ProductSales\n",
       "      <ul>\n",
       "      <li>transactionid\n",
       "        <ol>\n",
       "        <li>transactionid</li>\n",
       "        </ol>      </li>\n",
       "      </ul>\n",
       "    </li>\n",
       "    <li>SalesPerson\n",
       "      <ul>\n",
       "      <li>city\n",
       "        <ol>\n",
       "        <li>city</li>\n",
       "        </ol>      </li>\n",
       "      <li>country\n",
       "        <ol>\n",
       "        <li>country</li>\n",
       "        </ol>      </li>\n",
       "      <li>salespersonaltid\n",
       "        <ol>\n",
       "        <li>salespersonaltid</li>\n",
       "        </ol>      </li>\n",
       "      <li>salespersonname\n",
       "        <ol>\n",
       "        <li>salespersonname</li>\n",
       "        </ol>      </li>\n",
       "      <li>state\n",
       "        <ol>\n",
       "        <li>state</li>\n",
       "        </ol>      </li>\n",
       "      </ul>\n",
       "    </li>\n",
       "    <li>Stores\n",
       "      <ul>\n",
       "      <li>city\n",
       "        <ol>\n",
       "        <li>city</li>\n",
       "        </ol>      </li>\n",
       "      <li>country\n",
       "        <ol>\n",
       "        <li>country</li>\n",
       "        </ol>      </li>\n",
       "      <li>state\n",
       "        <ol>\n",
       "        <li>state</li>\n",
       "        </ol>      </li>\n",
       "      <li>storealtid\n",
       "        <ol>\n",
       "        <li>storealtid</li>\n",
       "        </ol>      </li>\n",
       "      <li>storelocation\n",
       "        <ol>\n",
       "        <li>storelocation</li>\n",
       "        </ol>      </li>\n",
       "      <li>storename\n",
       "        <ol>\n",
       "        <li>storename</li>\n",
       "        </ol>      </li>\n",
       "      </ul>\n",
       "    </li>\n",
       "    </ul>\n",
       "  </li>\n",
       "  <li>Measures\n",
       "    <ul>\n",
       "    <li>contributors.COUNT\n",
       "      <ul>\n",
       "      <li>formatter: INT[#,###]</li>\n",
       "      </ul>\n",
       "    </li>\n",
       "    <li>customerid.MEAN\n",
       "      <ul>\n",
       "      <li>formatter: DOUBLE[#,###.00]</li>\n",
       "      </ul>\n",
       "    </li>\n",
       "    <li>customerid.SUM\n",
       "      <ul>\n",
       "      <li>formatter: INT[#,###]</li>\n",
       "      </ul>\n",
       "    </li>\n",
       "    <li>deviation.MEAN\n",
       "      <ul>\n",
       "      <li>formatter: DOUBLE[#,###.00]</li>\n",
       "      </ul>\n",
       "    </li>\n",
       "    <li>deviation.SUM\n",
       "      <ul>\n",
       "      <li>formatter: DOUBLE[#,###.00]</li>\n",
       "      </ul>\n",
       "    </li>\n",
       "    <li>productactualcost.MEAN\n",
       "      <ul>\n",
       "      <li>formatter: DOUBLE[#,###.00]</li>\n",
       "      </ul>\n",
       "    </li>\n",
       "    <li>productactualcost.SUM\n",
       "      <ul>\n",
       "      <li>formatter: DOUBLE[#,###.00]</li>\n",
       "      </ul>\n",
       "    </li>\n",
       "    <li>productid.MEAN\n",
       "      <ul>\n",
       "      <li>formatter: DOUBLE[#,###.00]</li>\n",
       "      </ul>\n",
       "    </li>\n",
       "    <li>productid.SUM\n",
       "      <ul>\n",
       "      <li>formatter: INT[#,###]</li>\n",
       "      </ul>\n",
       "    </li>\n",
       "    <li>quantity.MEAN\n",
       "      <ul>\n",
       "      <li>formatter: DOUBLE[#,###.00]</li>\n",
       "      </ul>\n",
       "    </li>\n",
       "    <li>quantity.SUM\n",
       "      <ul>\n",
       "      <li>formatter: DOUBLE[#,###.00]</li>\n",
       "      </ul>\n",
       "    </li>\n",
       "    <li>salesinvoicenumber.MEAN\n",
       "      <ul>\n",
       "      <li>formatter: DOUBLE[#,###.00]</li>\n",
       "      </ul>\n",
       "    </li>\n",
       "    <li>salesinvoicenumber.SUM\n",
       "      <ul>\n",
       "      <li>formatter: INT[#,###]</li>\n",
       "      </ul>\n",
       "    </li>\n",
       "    <li>salespersonid.MEAN\n",
       "      <ul>\n",
       "      <li>formatter: DOUBLE[#,###.00]</li>\n",
       "      </ul>\n",
       "    </li>\n",
       "    <li>salespersonid.SUM\n",
       "      <ul>\n",
       "      <li>formatter: INT[#,###]</li>\n",
       "      </ul>\n",
       "    </li>\n",
       "    <li>salestotalcost.MEAN\n",
       "      <ul>\n",
       "      <li>formatter: DOUBLE[#,###.00]</li>\n",
       "      </ul>\n",
       "    </li>\n",
       "    <li>salestotalcost.SUM\n",
       "      <ul>\n",
       "      <li>formatter: DOUBLE[#,###.00]</li>\n",
       "      </ul>\n",
       "    </li>\n",
       "    <li>storeid.MEAN\n",
       "      <ul>\n",
       "      <li>formatter: DOUBLE[#,###.00]</li>\n",
       "      </ul>\n",
       "    </li>\n",
       "    <li>storeid.SUM\n",
       "      <ul>\n",
       "      <li>formatter: INT[#,###]</li>\n",
       "      </ul>\n",
       "    </li>\n",
       "    </ul>\n",
       "  </li>\n",
       "  </ul>\n",
       "</li>\n",
       "</ul>\n"
      ],
      "text/plain": [
       "<atoti.cube.Cube at 0x148cb5190>"
      ]
     },
     "execution_count": 16,
     "metadata": {
      "application/json": {
       "expanded": false,
       "root": "ProductSales"
      }
     },
     "output_type": "execute_result"
    }
   ],
   "source": [
    "cube"
   ]
  },
  {
   "cell_type": "code",
   "execution_count": 17,
   "id": "6cf0fe21-c3fb-4b65-9965-065de9277395",
   "metadata": {},
   "outputs": [],
   "source": [
    "hierarchies, levels, measures = cube.hierarchies, cube.levels, cube.measures"
   ]
  },
  {
   "cell_type": "code",
   "execution_count": 18,
   "id": "e619517c-2f79-4169-b201-64fbff5d418e",
   "metadata": {},
   "outputs": [
    {
     "data": {
      "application/json": {
       "Customer": {
        "customeraltid": [
         "customeraltid"
        ],
        "customername": [
         "customername"
        ],
        "gender": [
         "gender"
        ]
       },
       "Product": {
        "productaltkey": [
         "productaltkey"
        ],
        "productname": [
         "productname"
        ]
       },
       "ProductSales": {
        "transactionid": [
         "transactionid"
        ]
       },
       "SalesPerson": {
        "city": [
         "city"
        ],
        "country": [
         "country"
        ],
        "salespersonaltid": [
         "salespersonaltid"
        ],
        "salespersonname": [
         "salespersonname"
        ],
        "state": [
         "state"
        ]
       },
       "Stores": {
        "city": [
         "city"
        ],
        "country": [
         "country"
        ],
        "state": [
         "state"
        ],
        "storealtid": [
         "storealtid"
        ],
        "storelocation": [
         "storelocation"
        ],
        "storename": [
         "storename"
        ]
       }
      },
      "text/html": [
       "<ul>\n",
       "<li>Dimensions\n",
       "  <ul>\n",
       "  <li>Customer\n",
       "    <ul>\n",
       "    <li>customeraltid\n",
       "      <ol>\n",
       "      <li>customeraltid</li>\n",
       "      </ol>    </li>\n",
       "    <li>customername\n",
       "      <ol>\n",
       "      <li>customername</li>\n",
       "      </ol>    </li>\n",
       "    <li>gender\n",
       "      <ol>\n",
       "      <li>gender</li>\n",
       "      </ol>    </li>\n",
       "    </ul>\n",
       "  </li>\n",
       "  <li>Product\n",
       "    <ul>\n",
       "    <li>productaltkey\n",
       "      <ol>\n",
       "      <li>productaltkey</li>\n",
       "      </ol>    </li>\n",
       "    <li>productname\n",
       "      <ol>\n",
       "      <li>productname</li>\n",
       "      </ol>    </li>\n",
       "    </ul>\n",
       "  </li>\n",
       "  <li>ProductSales\n",
       "    <ul>\n",
       "    <li>transactionid\n",
       "      <ol>\n",
       "      <li>transactionid</li>\n",
       "      </ol>    </li>\n",
       "    </ul>\n",
       "  </li>\n",
       "  <li>SalesPerson\n",
       "    <ul>\n",
       "    <li>city\n",
       "      <ol>\n",
       "      <li>city</li>\n",
       "      </ol>    </li>\n",
       "    <li>country\n",
       "      <ol>\n",
       "      <li>country</li>\n",
       "      </ol>    </li>\n",
       "    <li>salespersonaltid\n",
       "      <ol>\n",
       "      <li>salespersonaltid</li>\n",
       "      </ol>    </li>\n",
       "    <li>salespersonname\n",
       "      <ol>\n",
       "      <li>salespersonname</li>\n",
       "      </ol>    </li>\n",
       "    <li>state\n",
       "      <ol>\n",
       "      <li>state</li>\n",
       "      </ol>    </li>\n",
       "    </ul>\n",
       "  </li>\n",
       "  <li>Stores\n",
       "    <ul>\n",
       "    <li>city\n",
       "      <ol>\n",
       "      <li>city</li>\n",
       "      </ol>    </li>\n",
       "    <li>country\n",
       "      <ol>\n",
       "      <li>country</li>\n",
       "      </ol>    </li>\n",
       "    <li>state\n",
       "      <ol>\n",
       "      <li>state</li>\n",
       "      </ol>    </li>\n",
       "    <li>storealtid\n",
       "      <ol>\n",
       "      <li>storealtid</li>\n",
       "      </ol>    </li>\n",
       "    <li>storelocation\n",
       "      <ol>\n",
       "      <li>storelocation</li>\n",
       "      </ol>    </li>\n",
       "    <li>storename\n",
       "      <ol>\n",
       "      <li>storename</li>\n",
       "      </ol>    </li>\n",
       "    </ul>\n",
       "  </li>\n",
       "  </ul>\n",
       "</li>\n",
       "</ul>\n"
      ],
      "text/plain": [
       "{('Stores', 'storename'): <atoti.hierarchy.Hierarchy object at 0x148cc3a10>, ('Stores', 'state'): <atoti.hierarchy.Hierarchy object at 0x148d04090>, ('Product', 'productname'): <atoti.hierarchy.Hierarchy object at 0x148d04210>, ('SalesPerson', 'city'): <atoti.hierarchy.Hierarchy object at 0x148d04390>, ('Product', 'productaltkey'): <atoti.hierarchy.Hierarchy object at 0x148d04510>, ('SalesPerson', 'salespersonaltid'): <atoti.hierarchy.Hierarchy object at 0x148cb7950>, ('Stores', 'storealtid'): <atoti.hierarchy.Hierarchy object at 0x148cb7e50>, ('Stores', 'city'): <atoti.hierarchy.Hierarchy object at 0x148cfbad0>, ('ProductSales', 'transactionid'): <atoti.hierarchy.Hierarchy object at 0x148cfbb90>, ('Customer', 'customername'): <atoti.hierarchy.Hierarchy object at 0x148cfb790>, ('SalesPerson', 'salespersonname'): <atoti.hierarchy.Hierarchy object at 0x148cfb890>, ('SalesPerson', 'country'): <atoti.hierarchy.Hierarchy object at 0x148cfb5d0>, ('Customer', 'customeraltid'): <atoti.hierarchy.Hierarchy object at 0x148cfafd0>, ('Stores', 'storelocation'): <atoti.hierarchy.Hierarchy object at 0x148cfae50>, ('SalesPerson', 'state'): <atoti.hierarchy.Hierarchy object at 0x148cf8650>, ('Stores', 'country'): <atoti.hierarchy.Hierarchy object at 0x148cf8d90>, ('Customer', 'gender'): <atoti.hierarchy.Hierarchy object at 0x148cf9890>}"
      ]
     },
     "execution_count": 18,
     "metadata": {
      "application/json": {
       "expanded": true,
       "root": "Dimensions"
      }
     },
     "output_type": "execute_result"
    }
   ],
   "source": [
    "# original hierarchies\n",
    "hierarchies"
   ]
  },
  {
   "cell_type": "code",
   "execution_count": 19,
   "id": "dd91e63e-43f5-46bf-8e0d-8da58157f852",
   "metadata": {},
   "outputs": [
    {
     "data": {
      "application/json": {
       "city (SalesPerson/city/city)": {
        "dimension": "SalesPerson",
        "hierarchy": "city",
        "order": "NaturalOrder",
        "type": "String"
       },
       "city (Stores/city/city)": {
        "dimension": "Stores",
        "hierarchy": "city",
        "order": "NaturalOrder",
        "type": "String"
       },
       "country (SalesPerson/country/country)": {
        "dimension": "SalesPerson",
        "hierarchy": "country",
        "order": "NaturalOrder",
        "type": "String"
       },
       "country (Stores/country/country)": {
        "dimension": "Stores",
        "hierarchy": "country",
        "order": "NaturalOrder",
        "type": "String"
       },
       "customeraltid (Customer/customeraltid/customeraltid)": {
        "dimension": "Customer",
        "hierarchy": "customeraltid",
        "order": "NaturalOrder",
        "type": "String"
       },
       "customername (Customer/customername/customername)": {
        "dimension": "Customer",
        "hierarchy": "customername",
        "order": "NaturalOrder",
        "type": "String"
       },
       "gender (Customer/gender/gender)": {
        "dimension": "Customer",
        "hierarchy": "gender",
        "order": "NaturalOrder",
        "type": "String"
       },
       "productaltkey (Product/productaltkey/productaltkey)": {
        "dimension": "Product",
        "hierarchy": "productaltkey",
        "order": "NaturalOrder",
        "type": "String"
       },
       "productname (Product/productname/productname)": {
        "dimension": "Product",
        "hierarchy": "productname",
        "order": "NaturalOrder",
        "type": "String"
       },
       "salespersonaltid (SalesPerson/salespersonaltid/salespersonaltid)": {
        "dimension": "SalesPerson",
        "hierarchy": "salespersonaltid",
        "order": "NaturalOrder",
        "type": "String"
       },
       "salespersonname (SalesPerson/salespersonname/salespersonname)": {
        "dimension": "SalesPerson",
        "hierarchy": "salespersonname",
        "order": "NaturalOrder",
        "type": "String"
       },
       "state (SalesPerson/state/state)": {
        "dimension": "SalesPerson",
        "hierarchy": "state",
        "order": "NaturalOrder",
        "type": "String"
       },
       "state (Stores/state/state)": {
        "dimension": "Stores",
        "hierarchy": "state",
        "order": "NaturalOrder",
        "type": "String"
       },
       "storealtid (Stores/storealtid/storealtid)": {
        "dimension": "Stores",
        "hierarchy": "storealtid",
        "order": "NaturalOrder",
        "type": "String"
       },
       "storelocation (Stores/storelocation/storelocation)": {
        "dimension": "Stores",
        "hierarchy": "storelocation",
        "order": "NaturalOrder",
        "type": "String"
       },
       "storename (Stores/storename/storename)": {
        "dimension": "Stores",
        "hierarchy": "storename",
        "order": "NaturalOrder",
        "type": "String"
       },
       "transactionid (ProductSales/transactionid/transactionid)": {
        "dimension": "ProductSales",
        "hierarchy": "transactionid",
        "order": "NaturalOrder",
        "type": "long"
       }
      },
      "text/html": [
       "<ul>\n",
       "<li>Levels\n",
       "  <ul>\n",
       "  <li>city (SalesPerson/city/city)\n",
       "    <ul>\n",
       "    <li>dimension: SalesPerson</li>\n",
       "    <li>hierarchy: city</li>\n",
       "    <li>type: String</li>\n",
       "    <li>order: NaturalOrder</li>\n",
       "    </ul>\n",
       "  </li>\n",
       "  <li>city (Stores/city/city)\n",
       "    <ul>\n",
       "    <li>dimension: Stores</li>\n",
       "    <li>hierarchy: city</li>\n",
       "    <li>type: String</li>\n",
       "    <li>order: NaturalOrder</li>\n",
       "    </ul>\n",
       "  </li>\n",
       "  <li>country (SalesPerson/country/country)\n",
       "    <ul>\n",
       "    <li>dimension: SalesPerson</li>\n",
       "    <li>hierarchy: country</li>\n",
       "    <li>type: String</li>\n",
       "    <li>order: NaturalOrder</li>\n",
       "    </ul>\n",
       "  </li>\n",
       "  <li>country (Stores/country/country)\n",
       "    <ul>\n",
       "    <li>dimension: Stores</li>\n",
       "    <li>hierarchy: country</li>\n",
       "    <li>type: String</li>\n",
       "    <li>order: NaturalOrder</li>\n",
       "    </ul>\n",
       "  </li>\n",
       "  <li>customeraltid (Customer/customeraltid/customeraltid)\n",
       "    <ul>\n",
       "    <li>dimension: Customer</li>\n",
       "    <li>hierarchy: customeraltid</li>\n",
       "    <li>type: String</li>\n",
       "    <li>order: NaturalOrder</li>\n",
       "    </ul>\n",
       "  </li>\n",
       "  <li>customername (Customer/customername/customername)\n",
       "    <ul>\n",
       "    <li>dimension: Customer</li>\n",
       "    <li>hierarchy: customername</li>\n",
       "    <li>type: String</li>\n",
       "    <li>order: NaturalOrder</li>\n",
       "    </ul>\n",
       "  </li>\n",
       "  <li>gender (Customer/gender/gender)\n",
       "    <ul>\n",
       "    <li>dimension: Customer</li>\n",
       "    <li>hierarchy: gender</li>\n",
       "    <li>type: String</li>\n",
       "    <li>order: NaturalOrder</li>\n",
       "    </ul>\n",
       "  </li>\n",
       "  <li>productaltkey (Product/productaltkey/productaltkey)\n",
       "    <ul>\n",
       "    <li>dimension: Product</li>\n",
       "    <li>hierarchy: productaltkey</li>\n",
       "    <li>type: String</li>\n",
       "    <li>order: NaturalOrder</li>\n",
       "    </ul>\n",
       "  </li>\n",
       "  <li>productname (Product/productname/productname)\n",
       "    <ul>\n",
       "    <li>dimension: Product</li>\n",
       "    <li>hierarchy: productname</li>\n",
       "    <li>type: String</li>\n",
       "    <li>order: NaturalOrder</li>\n",
       "    </ul>\n",
       "  </li>\n",
       "  <li>salespersonaltid (SalesPerson/salespersonaltid/salespersonaltid)\n",
       "    <ul>\n",
       "    <li>dimension: SalesPerson</li>\n",
       "    <li>hierarchy: salespersonaltid</li>\n",
       "    <li>type: String</li>\n",
       "    <li>order: NaturalOrder</li>\n",
       "    </ul>\n",
       "  </li>\n",
       "  <li>salespersonname (SalesPerson/salespersonname/salespersonname)\n",
       "    <ul>\n",
       "    <li>dimension: SalesPerson</li>\n",
       "    <li>hierarchy: salespersonname</li>\n",
       "    <li>type: String</li>\n",
       "    <li>order: NaturalOrder</li>\n",
       "    </ul>\n",
       "  </li>\n",
       "  <li>state (SalesPerson/state/state)\n",
       "    <ul>\n",
       "    <li>dimension: SalesPerson</li>\n",
       "    <li>hierarchy: state</li>\n",
       "    <li>type: String</li>\n",
       "    <li>order: NaturalOrder</li>\n",
       "    </ul>\n",
       "  </li>\n",
       "  <li>state (Stores/state/state)\n",
       "    <ul>\n",
       "    <li>dimension: Stores</li>\n",
       "    <li>hierarchy: state</li>\n",
       "    <li>type: String</li>\n",
       "    <li>order: NaturalOrder</li>\n",
       "    </ul>\n",
       "  </li>\n",
       "  <li>storealtid (Stores/storealtid/storealtid)\n",
       "    <ul>\n",
       "    <li>dimension: Stores</li>\n",
       "    <li>hierarchy: storealtid</li>\n",
       "    <li>type: String</li>\n",
       "    <li>order: NaturalOrder</li>\n",
       "    </ul>\n",
       "  </li>\n",
       "  <li>storelocation (Stores/storelocation/storelocation)\n",
       "    <ul>\n",
       "    <li>dimension: Stores</li>\n",
       "    <li>hierarchy: storelocation</li>\n",
       "    <li>type: String</li>\n",
       "    <li>order: NaturalOrder</li>\n",
       "    </ul>\n",
       "  </li>\n",
       "  <li>storename (Stores/storename/storename)\n",
       "    <ul>\n",
       "    <li>dimension: Stores</li>\n",
       "    <li>hierarchy: storename</li>\n",
       "    <li>type: String</li>\n",
       "    <li>order: NaturalOrder</li>\n",
       "    </ul>\n",
       "  </li>\n",
       "  <li>transactionid (ProductSales/transactionid/transactionid)\n",
       "    <ul>\n",
       "    <li>dimension: ProductSales</li>\n",
       "    <li>hierarchy: transactionid</li>\n",
       "    <li>type: long</li>\n",
       "    <li>order: NaturalOrder</li>\n",
       "    </ul>\n",
       "  </li>\n",
       "  </ul>\n",
       "</li>\n",
       "</ul>\n"
      ],
      "text/plain": [
       "<atoti.levels.Levels at 0x148cb6c90>"
      ]
     },
     "execution_count": 19,
     "metadata": {
      "application/json": {
       "expanded": true,
       "root": "Levels"
      }
     },
     "output_type": "execute_result"
    }
   ],
   "source": [
    "# original levels\n",
    "levels"
   ]
  },
  {
   "cell_type": "code",
   "execution_count": 20,
   "id": "8b013aca-3857-4909-a210-7d7401a55bd0",
   "metadata": {},
   "outputs": [
    {
     "data": {
      "application/json": {
       "contributors.COUNT": {
        "formatter": "INT[#,###]"
       },
       "customerid.MEAN": {
        "formatter": "DOUBLE[#,###.00]"
       },
       "customerid.SUM": {
        "formatter": "INT[#,###]"
       },
       "deviation.MEAN": {
        "formatter": "DOUBLE[#,###.00]"
       },
       "deviation.SUM": {
        "formatter": "DOUBLE[#,###.00]"
       },
       "productactualcost.MEAN": {
        "formatter": "DOUBLE[#,###.00]"
       },
       "productactualcost.SUM": {
        "formatter": "DOUBLE[#,###.00]"
       },
       "productid.MEAN": {
        "formatter": "DOUBLE[#,###.00]"
       },
       "productid.SUM": {
        "formatter": "INT[#,###]"
       },
       "quantity.MEAN": {
        "formatter": "DOUBLE[#,###.00]"
       },
       "quantity.SUM": {
        "formatter": "DOUBLE[#,###.00]"
       },
       "salesinvoicenumber.MEAN": {
        "formatter": "DOUBLE[#,###.00]"
       },
       "salesinvoicenumber.SUM": {
        "formatter": "INT[#,###]"
       },
       "salespersonid.MEAN": {
        "formatter": "DOUBLE[#,###.00]"
       },
       "salespersonid.SUM": {
        "formatter": "INT[#,###]"
       },
       "salestotalcost.MEAN": {
        "formatter": "DOUBLE[#,###.00]"
       },
       "salestotalcost.SUM": {
        "formatter": "DOUBLE[#,###.00]"
       },
       "storeid.MEAN": {
        "formatter": "DOUBLE[#,###.00]"
       },
       "storeid.SUM": {
        "formatter": "INT[#,###]"
       }
      },
      "text/html": [
       "<ul>\n",
       "<li>Measures\n",
       "  <ul>\n",
       "  <li>contributors.COUNT\n",
       "    <ul>\n",
       "    <li>formatter: INT[#,###]</li>\n",
       "    </ul>\n",
       "  </li>\n",
       "  <li>customerid.MEAN\n",
       "    <ul>\n",
       "    <li>formatter: DOUBLE[#,###.00]</li>\n",
       "    </ul>\n",
       "  </li>\n",
       "  <li>customerid.SUM\n",
       "    <ul>\n",
       "    <li>formatter: INT[#,###]</li>\n",
       "    </ul>\n",
       "  </li>\n",
       "  <li>deviation.MEAN\n",
       "    <ul>\n",
       "    <li>formatter: DOUBLE[#,###.00]</li>\n",
       "    </ul>\n",
       "  </li>\n",
       "  <li>deviation.SUM\n",
       "    <ul>\n",
       "    <li>formatter: DOUBLE[#,###.00]</li>\n",
       "    </ul>\n",
       "  </li>\n",
       "  <li>productactualcost.MEAN\n",
       "    <ul>\n",
       "    <li>formatter: DOUBLE[#,###.00]</li>\n",
       "    </ul>\n",
       "  </li>\n",
       "  <li>productactualcost.SUM\n",
       "    <ul>\n",
       "    <li>formatter: DOUBLE[#,###.00]</li>\n",
       "    </ul>\n",
       "  </li>\n",
       "  <li>productid.MEAN\n",
       "    <ul>\n",
       "    <li>formatter: DOUBLE[#,###.00]</li>\n",
       "    </ul>\n",
       "  </li>\n",
       "  <li>productid.SUM\n",
       "    <ul>\n",
       "    <li>formatter: INT[#,###]</li>\n",
       "    </ul>\n",
       "  </li>\n",
       "  <li>quantity.MEAN\n",
       "    <ul>\n",
       "    <li>formatter: DOUBLE[#,###.00]</li>\n",
       "    </ul>\n",
       "  </li>\n",
       "  <li>quantity.SUM\n",
       "    <ul>\n",
       "    <li>formatter: DOUBLE[#,###.00]</li>\n",
       "    </ul>\n",
       "  </li>\n",
       "  <li>salesinvoicenumber.MEAN\n",
       "    <ul>\n",
       "    <li>formatter: DOUBLE[#,###.00]</li>\n",
       "    </ul>\n",
       "  </li>\n",
       "  <li>salesinvoicenumber.SUM\n",
       "    <ul>\n",
       "    <li>formatter: INT[#,###]</li>\n",
       "    </ul>\n",
       "  </li>\n",
       "  <li>salespersonid.MEAN\n",
       "    <ul>\n",
       "    <li>formatter: DOUBLE[#,###.00]</li>\n",
       "    </ul>\n",
       "  </li>\n",
       "  <li>salespersonid.SUM\n",
       "    <ul>\n",
       "    <li>formatter: INT[#,###]</li>\n",
       "    </ul>\n",
       "  </li>\n",
       "  <li>salestotalcost.MEAN\n",
       "    <ul>\n",
       "    <li>formatter: DOUBLE[#,###.00]</li>\n",
       "    </ul>\n",
       "  </li>\n",
       "  <li>salestotalcost.SUM\n",
       "    <ul>\n",
       "    <li>formatter: DOUBLE[#,###.00]</li>\n",
       "    </ul>\n",
       "  </li>\n",
       "  <li>storeid.MEAN\n",
       "    <ul>\n",
       "    <li>formatter: DOUBLE[#,###.00]</li>\n",
       "    </ul>\n",
       "  </li>\n",
       "  <li>storeid.SUM\n",
       "    <ul>\n",
       "    <li>formatter: INT[#,###]</li>\n",
       "    </ul>\n",
       "  </li>\n",
       "  </ul>\n",
       "</li>\n",
       "</ul>\n"
      ],
      "text/plain": [
       "{'contributors.COUNT': <atoti.measure.Measure object at 0x148d3ee10>, 'update.TIMESTAMP': <atoti.measure.Measure object at 0x148d3ee90>, 'quantity.MEAN': <atoti.measure.Measure object at 0x148d3eed0>, 'quantity.SUM': <atoti.measure.Measure object at 0x148d3ef10>, 'productid.MEAN': <atoti.measure.Measure object at 0x148d3ef50>, 'productid.SUM': <atoti.measure.Measure object at 0x148d3ef90>, 'salespersonid.MEAN': <atoti.measure.Measure object at 0x148d3efd0>, 'salespersonid.SUM': <atoti.measure.Measure object at 0x148d3f010>, 'salestotalcost.MEAN': <atoti.measure.Measure object at 0x148d3f050>, 'salestotalcost.SUM': <atoti.measure.Measure object at 0x148d3f090>, 'deviation.MEAN': <atoti.measure.Measure object at 0x148d3f0d0>, 'deviation.SUM': <atoti.measure.Measure object at 0x148d3f110>, 'salesinvoicenumber.MEAN': <atoti.measure.Measure object at 0x148d3f150>, 'salesinvoicenumber.SUM': <atoti.measure.Measure object at 0x148d3f190>, 'customerid.MEAN': <atoti.measure.Measure object at 0x148d3f1d0>, 'customerid.SUM': <atoti.measure.Measure object at 0x148d3f210>, 'productactualcost.MEAN': <atoti.measure.Measure object at 0x148d3f250>, 'productactualcost.SUM': <atoti.measure.Measure object at 0x148d3f290>, 'storeid.MEAN': <atoti.measure.Measure object at 0x148d3f2d0>, 'storeid.SUM': <atoti.measure.Measure object at 0x148d3f310>}"
      ]
     },
     "execution_count": 20,
     "metadata": {
      "application/json": {
       "expanded": false,
       "root": "Measures"
      }
     },
     "output_type": "execute_result"
    }
   ],
   "source": [
    "# original measures\n",
    "measures"
   ]
  },
  {
   "cell_type": "code",
   "execution_count": 21,
   "id": "25f9d042-4f46-411d-ae5e-cf5503a8c212",
   "metadata": {},
   "outputs": [],
   "source": [
    "# dimensions\n",
    "# Customer: CustomerName, Gender\n",
    "# SalesPerson: SalesPersonName, City, State, Country\n",
    "# Product: ProductName\n",
    "# Store: StoreName, City, State"
   ]
  },
  {
   "cell_type": "code",
   "execution_count": 22,
   "id": "a1e60270-b699-4f79-82cd-8d114a7d843f",
   "metadata": {},
   "outputs": [],
   "source": [
    "hierarchies[\"Customer\"] = [levels[\"customername\"], levels[\"gender\"]]"
   ]
  },
  {
   "cell_type": "code",
   "execution_count": 23,
   "id": "7e33c4c5-a9c1-4724-8dd7-1e26d61d35ca",
   "metadata": {},
   "outputs": [],
   "source": [
    "hierarchies[\"Product\"] = [levels[\"productname\"]]"
   ]
  },
  {
   "cell_type": "code",
   "execution_count": 24,
   "id": "1eb03503-ca6d-49c6-bb59-f971aef72c31",
   "metadata": {},
   "outputs": [],
   "source": [
    "hierarchies[\"SalesPerson\"] = [levels[\"salespersonname\"], levels[('SalesPerson', 'city', 'city')], levels[('SalesPerson', 'state', 'state')], levels[('SalesPerson', 'country', 'country')]]"
   ]
  },
  {
   "cell_type": "code",
   "execution_count": 25,
   "id": "0caf22ae-3873-4699-89ed-0589a690a12f",
   "metadata": {},
   "outputs": [],
   "source": [
    "hierarchies[\"Stores\"] = [levels[('Stores', 'storename', 'storename')], levels[('Stores', 'city', 'city')], levels[('Stores', 'state', 'state')], levels[('Stores', 'country', 'country')]]"
   ]
  },
  {
   "cell_type": "code",
   "execution_count": 26,
   "id": "ce72cc29-6ad8-4ab7-a52f-a91641dc225c",
   "metadata": {},
   "outputs": [
    {
     "data": {
      "application/json": {
       "Customer": {
        "Customer": [
         "customername",
         "gender"
        ],
        "customeraltid": [
         "customeraltid"
        ],
        "customername": [
         "customername"
        ],
        "gender": [
         "gender"
        ]
       },
       "Product": {
        "Product": [
         "productname"
        ],
        "productaltkey": [
         "productaltkey"
        ],
        "productname": [
         "productname"
        ]
       },
       "ProductSales": {
        "transactionid": [
         "transactionid"
        ]
       },
       "SalesPerson": {
        "SalesPerson": [
         "salespersonname",
         "city",
         "state",
         "country"
        ],
        "city": [
         "city"
        ],
        "country": [
         "country"
        ],
        "salespersonaltid": [
         "salespersonaltid"
        ],
        "salespersonname": [
         "salespersonname"
        ],
        "state": [
         "state"
        ]
       },
       "Stores": {
        "Stores": [
         "storename",
         "city",
         "state",
         "country"
        ],
        "city": [
         "city"
        ],
        "country": [
         "country"
        ],
        "state": [
         "state"
        ],
        "storealtid": [
         "storealtid"
        ],
        "storelocation": [
         "storelocation"
        ],
        "storename": [
         "storename"
        ]
       }
      },
      "text/html": [
       "<ul>\n",
       "<li>Dimensions\n",
       "  <ul>\n",
       "  <li>Customer\n",
       "    <ul>\n",
       "    <li>Customer\n",
       "      <ol>\n",
       "      <li>customername</li>\n",
       "      <li>gender</li>\n",
       "      </ol>    </li>\n",
       "    <li>customeraltid\n",
       "      <ol>\n",
       "      <li>customeraltid</li>\n",
       "      </ol>    </li>\n",
       "    <li>customername\n",
       "      <ol>\n",
       "      <li>customername</li>\n",
       "      </ol>    </li>\n",
       "    <li>gender\n",
       "      <ol>\n",
       "      <li>gender</li>\n",
       "      </ol>    </li>\n",
       "    </ul>\n",
       "  </li>\n",
       "  <li>Product\n",
       "    <ul>\n",
       "    <li>Product\n",
       "      <ol>\n",
       "      <li>productname</li>\n",
       "      </ol>    </li>\n",
       "    <li>productaltkey\n",
       "      <ol>\n",
       "      <li>productaltkey</li>\n",
       "      </ol>    </li>\n",
       "    <li>productname\n",
       "      <ol>\n",
       "      <li>productname</li>\n",
       "      </ol>    </li>\n",
       "    </ul>\n",
       "  </li>\n",
       "  <li>ProductSales\n",
       "    <ul>\n",
       "    <li>transactionid\n",
       "      <ol>\n",
       "      <li>transactionid</li>\n",
       "      </ol>    </li>\n",
       "    </ul>\n",
       "  </li>\n",
       "  <li>SalesPerson\n",
       "    <ul>\n",
       "    <li>SalesPerson\n",
       "      <ol>\n",
       "      <li>salespersonname</li>\n",
       "      <li>city</li>\n",
       "      <li>state</li>\n",
       "      <li>country</li>\n",
       "      </ol>    </li>\n",
       "    <li>city\n",
       "      <ol>\n",
       "      <li>city</li>\n",
       "      </ol>    </li>\n",
       "    <li>country\n",
       "      <ol>\n",
       "      <li>country</li>\n",
       "      </ol>    </li>\n",
       "    <li>salespersonaltid\n",
       "      <ol>\n",
       "      <li>salespersonaltid</li>\n",
       "      </ol>    </li>\n",
       "    <li>salespersonname\n",
       "      <ol>\n",
       "      <li>salespersonname</li>\n",
       "      </ol>    </li>\n",
       "    <li>state\n",
       "      <ol>\n",
       "      <li>state</li>\n",
       "      </ol>    </li>\n",
       "    </ul>\n",
       "  </li>\n",
       "  <li>Stores\n",
       "    <ul>\n",
       "    <li>Stores\n",
       "      <ol>\n",
       "      <li>storename</li>\n",
       "      <li>city</li>\n",
       "      <li>state</li>\n",
       "      <li>country</li>\n",
       "      </ol>    </li>\n",
       "    <li>city\n",
       "      <ol>\n",
       "      <li>city</li>\n",
       "      </ol>    </li>\n",
       "    <li>country\n",
       "      <ol>\n",
       "      <li>country</li>\n",
       "      </ol>    </li>\n",
       "    <li>state\n",
       "      <ol>\n",
       "      <li>state</li>\n",
       "      </ol>    </li>\n",
       "    <li>storealtid\n",
       "      <ol>\n",
       "      <li>storealtid</li>\n",
       "      </ol>    </li>\n",
       "    <li>storelocation\n",
       "      <ol>\n",
       "      <li>storelocation</li>\n",
       "      </ol>    </li>\n",
       "    <li>storename\n",
       "      <ol>\n",
       "      <li>storename</li>\n",
       "      </ol>    </li>\n",
       "    </ul>\n",
       "  </li>\n",
       "  </ul>\n",
       "</li>\n",
       "</ul>\n"
      ],
      "text/plain": [
       "{('Stores', 'storename'): <atoti.hierarchy.Hierarchy object at 0x148d31f90>, ('Stores', 'state'): <atoti.hierarchy.Hierarchy object at 0x148d6d590>, ('Stores', 'Stores'): <atoti.hierarchy.Hierarchy object at 0x148d6d6d0>, ('Customer', 'Customer'): <atoti.hierarchy.Hierarchy object at 0x148d6da50>, ('Product', 'productname'): <atoti.hierarchy.Hierarchy object at 0x148d6dc50>, ('SalesPerson', 'city'): <atoti.hierarchy.Hierarchy object at 0x148d6dd90>, ('Product', 'productaltkey'): <atoti.hierarchy.Hierarchy object at 0x148d6df50>, ('SalesPerson', 'salespersonaltid'): <atoti.hierarchy.Hierarchy object at 0x148d6e110>, ('Stores', 'storealtid'): <atoti.hierarchy.Hierarchy object at 0x148d6e2d0>, ('Stores', 'city'): <atoti.hierarchy.Hierarchy object at 0x148d6e490>, ('ProductSales', 'transactionid'): <atoti.hierarchy.Hierarchy object at 0x148d6e650>, ('Customer', 'customername'): <atoti.hierarchy.Hierarchy object at 0x148d6e810>, ('SalesPerson', 'SalesPerson'): <atoti.hierarchy.Hierarchy object at 0x148d6e9d0>, ('SalesPerson', 'salespersonname'): <atoti.hierarchy.Hierarchy object at 0x148d6edd0>, ('SalesPerson', 'country'): <atoti.hierarchy.Hierarchy object at 0x148d6ef90>, ('Product', 'Product'): <atoti.hierarchy.Hierarchy object at 0x148d6f150>, ('Customer', 'customeraltid'): <atoti.hierarchy.Hierarchy object at 0x148d6f310>, ('Stores', 'storelocation'): <atoti.hierarchy.Hierarchy object at 0x148d6f4d0>, ('SalesPerson', 'state'): <atoti.hierarchy.Hierarchy object at 0x148d6f690>, ('Stores', 'country'): <atoti.hierarchy.Hierarchy object at 0x148d6f850>, ('Customer', 'gender'): <atoti.hierarchy.Hierarchy object at 0x148d6fa10>}"
      ]
     },
     "execution_count": 26,
     "metadata": {
      "application/json": {
       "expanded": true,
       "root": "Dimensions"
      }
     },
     "output_type": "execute_result"
    }
   ],
   "source": [
    "hierarchies"
   ]
  },
  {
   "cell_type": "code",
   "execution_count": 27,
   "id": "ffcb9bdc-946f-4091-ad1f-59dbf644182c",
   "metadata": {},
   "outputs": [],
   "source": [
    "# clean customer\n",
    "del hierarchies[('Customer', 'customeraltid')]\n",
    "del hierarchies[('Customer', 'customername')]\n",
    "del hierarchies[('Customer', 'gender')]"
   ]
  },
  {
   "cell_type": "code",
   "execution_count": 28,
   "id": "e5f48877-b317-40f5-a7af-65717a158965",
   "metadata": {},
   "outputs": [],
   "source": [
    "# clean product\n",
    "del hierarchies[('Product', 'productname')]\n",
    "del hierarchies[('Product', 'productaltkey')]"
   ]
  },
  {
   "cell_type": "code",
   "execution_count": 29,
   "id": "fa5e840c-a8a9-417d-b221-3492a0c396d3",
   "metadata": {},
   "outputs": [],
   "source": [
    "# clean salesperson\n",
    "del hierarchies[('SalesPerson', 'city')]\n",
    "del hierarchies[('SalesPerson', 'salespersonname')]\n",
    "del hierarchies[('SalesPerson', 'country')]\n",
    "del hierarchies[('SalesPerson', 'state')]\n",
    "del hierarchies[('SalesPerson', 'salespersonaltid')]"
   ]
  },
  {
   "cell_type": "code",
   "execution_count": 30,
   "id": "46c974d2-9bd4-4399-a64e-153fd9d78b29",
   "metadata": {},
   "outputs": [],
   "source": [
    "# clean stores\n",
    "del hierarchies[('Stores', 'storename')]\n",
    "del hierarchies[('Stores', 'state')]\n",
    "del hierarchies[('Stores', 'country')]\n",
    "del hierarchies[('Stores', 'storealtid')]\n",
    "del hierarchies[('Stores', 'city')]"
   ]
  },
  {
   "cell_type": "code",
   "execution_count": 31,
   "id": "d3aaa105-253d-4c41-9e05-a375c0545779",
   "metadata": {},
   "outputs": [],
   "source": [
    "# clean product sales\n",
    "del hierarchies[('ProductSales', 'transactionid')]"
   ]
  },
  {
   "cell_type": "code",
   "execution_count": 32,
   "id": "3e72dcbf-3fbe-4f0c-b031-d3d9339a98fb",
   "metadata": {},
   "outputs": [
    {
     "data": {
      "application/json": {
       "Customer": {
        "Customer": [
         "customername",
         "gender"
        ]
       },
       "Product": {
        "Product": [
         "productname"
        ]
       },
       "SalesPerson": {
        "SalesPerson": [
         "salespersonname",
         "city",
         "state",
         "country"
        ]
       },
       "Stores": {
        "Stores": [
         "storename",
         "city",
         "state",
         "country"
        ],
        "storelocation": [
         "storelocation"
        ]
       }
      },
      "text/html": [
       "<ul>\n",
       "<li>Dimensions\n",
       "  <ul>\n",
       "  <li>Customer\n",
       "    <ul>\n",
       "    <li>Customer\n",
       "      <ol>\n",
       "      <li>customername</li>\n",
       "      <li>gender</li>\n",
       "      </ol>    </li>\n",
       "    </ul>\n",
       "  </li>\n",
       "  <li>Product\n",
       "    <ul>\n",
       "    <li>Product\n",
       "      <ol>\n",
       "      <li>productname</li>\n",
       "      </ol>    </li>\n",
       "    </ul>\n",
       "  </li>\n",
       "  <li>SalesPerson\n",
       "    <ul>\n",
       "    <li>SalesPerson\n",
       "      <ol>\n",
       "      <li>salespersonname</li>\n",
       "      <li>city</li>\n",
       "      <li>state</li>\n",
       "      <li>country</li>\n",
       "      </ol>    </li>\n",
       "    </ul>\n",
       "  </li>\n",
       "  <li>Stores\n",
       "    <ul>\n",
       "    <li>Stores\n",
       "      <ol>\n",
       "      <li>storename</li>\n",
       "      <li>city</li>\n",
       "      <li>state</li>\n",
       "      <li>country</li>\n",
       "      </ol>    </li>\n",
       "    <li>storelocation\n",
       "      <ol>\n",
       "      <li>storelocation</li>\n",
       "      </ol>    </li>\n",
       "    </ul>\n",
       "  </li>\n",
       "  </ul>\n",
       "</li>\n",
       "</ul>\n"
      ],
      "text/plain": [
       "{('SalesPerson', 'SalesPerson'): <atoti.hierarchy.Hierarchy object at 0x148d61e90>, ('Stores', 'Stores'): <atoti.hierarchy.Hierarchy object at 0x148d739d0>, ('Product', 'Product'): <atoti.hierarchy.Hierarchy object at 0x148d69ed0>, ('Customer', 'Customer'): <atoti.hierarchy.Hierarchy object at 0x148d69590>, ('Stores', 'storelocation'): <atoti.hierarchy.Hierarchy object at 0x148d6ae90>}"
      ]
     },
     "execution_count": 32,
     "metadata": {
      "application/json": {
       "expanded": true,
       "root": "Dimensions"
      }
     },
     "output_type": "execute_result"
    }
   ],
   "source": [
    "hierarchies"
   ]
  },
  {
   "cell_type": "code",
   "execution_count": 33,
   "id": "aa9efd8b-cf0d-43d0-9733-b1d21a3b3dc9",
   "metadata": {},
   "outputs": [],
   "source": [
    "# clean measures\n",
    "del measures[\"contributors.COUNT\"]\n",
    "del measures[\"customerid.MEAN\"]\n",
    "del measures[\"customerid.SUM\"]\n",
    "del measures[\"deviation.MEAN\"]\n",
    "del measures[\"deviation.SUM\"]\n",
    "del measures[\"productactualcost.MEAN\"]\n",
    "del measures[\"productid.MEAN\"]\n",
    "del measures[\"productid.SUM\"]\n",
    "del measures[\"salesinvoicenumber.MEAN\"]\n",
    "del measures[\"salesinvoicenumber.SUM\"]\n",
    "del measures[\"salespersonid.MEAN\"]\n",
    "del measures[\"salespersonid.SUM\"]\n",
    "del measures[\"storeid.MEAN\"]\n",
    "del measures[\"storeid.SUM\"]\n",
    "del measures[\"salestotalcost.MEAN\"]\n",
    "del measures[\"quantity.MEAN\"]"
   ]
  },
  {
   "cell_type": "code",
   "execution_count": 34,
   "id": "77526eac-4025-469b-ab16-4eb9c2d4f64e",
   "metadata": {},
   "outputs": [
    {
     "data": {
      "application/json": {
       "productactualcost.SUM": {
        "formatter": "DOUBLE[#,###.00]"
       },
       "quantity.SUM": {
        "formatter": "DOUBLE[#,###.00]"
       },
       "salestotalcost.SUM": {
        "formatter": "DOUBLE[#,###.00]"
       }
      },
      "text/html": [
       "<ul>\n",
       "<li>Measures\n",
       "  <ul>\n",
       "  <li>productactualcost.SUM\n",
       "    <ul>\n",
       "    <li>formatter: DOUBLE[#,###.00]</li>\n",
       "    </ul>\n",
       "  </li>\n",
       "  <li>quantity.SUM\n",
       "    <ul>\n",
       "    <li>formatter: DOUBLE[#,###.00]</li>\n",
       "    </ul>\n",
       "  </li>\n",
       "  <li>salestotalcost.SUM\n",
       "    <ul>\n",
       "    <li>formatter: DOUBLE[#,###.00]</li>\n",
       "    </ul>\n",
       "  </li>\n",
       "  </ul>\n",
       "</li>\n",
       "</ul>\n"
      ],
      "text/plain": [
       "{'update.TIMESTAMP': <atoti.measure.Measure object at 0x148d77390>, 'quantity.SUM': <atoti.measure.Measure object at 0x148d74750>, 'salestotalcost.SUM': <atoti.measure.Measure object at 0x148d762d0>, 'productactualcost.SUM': <atoti.measure.Measure object at 0x148d77ed0>}"
      ]
     },
     "execution_count": 34,
     "metadata": {
      "application/json": {
       "expanded": false,
       "root": "Measures"
      }
     },
     "output_type": "execute_result"
    }
   ],
   "source": [
    "measures"
   ]
  },
  {
   "cell_type": "code",
   "execution_count": 35,
   "id": "1e874102-e542-458d-a120-f06f2cc7f905",
   "metadata": {},
   "outputs": [
    {
     "data": {
      "text/html": [
       "<div>\n",
       "<style scoped>\n",
       "    .dataframe tbody tr th:only-of-type {\n",
       "        vertical-align: middle;\n",
       "    }\n",
       "\n",
       "    .dataframe tbody tr th {\n",
       "        vertical-align: top;\n",
       "    }\n",
       "\n",
       "    .dataframe thead th {\n",
       "        text-align: right;\n",
       "    }\n",
       "</style>\n",
       "<table border=\"1\" class=\"dataframe\">\n",
       "  <thead>\n",
       "    <tr style=\"text-align: right;\">\n",
       "      <th></th>\n",
       "      <th></th>\n",
       "      <th>quantity.SUM</th>\n",
       "    </tr>\n",
       "    <tr>\n",
       "      <th>storename</th>\n",
       "      <th>city</th>\n",
       "      <th></th>\n",
       "    </tr>\n",
       "  </thead>\n",
       "  <tbody>\n",
       "    <tr>\n",
       "      <th>X-Mart</th>\n",
       "      <th>Ahmedabad</th>\n",
       "      <td>43.00</td>\n",
       "    </tr>\n",
       "  </tbody>\n",
       "</table>\n",
       "</div>"
      ],
      "text/plain": [
       "                    quantity.SUM\n",
       "storename city                  \n",
       "X-Mart    Ahmedabad        43.00"
      ]
     },
     "execution_count": 35,
     "metadata": {},
     "output_type": "execute_result"
    }
   ],
   "source": [
    "cube.query(measures[\"quantity.SUM\"], levels=[levels[('Stores', 'Stores', 'city')]])"
   ]
  },
  {
   "cell_type": "markdown",
   "id": "8281cb2d-013a-4d57-abc4-f20cbcaaca17",
   "metadata": {},
   "source": [
    "## Presentation"
   ]
  },
  {
   "cell_type": "code",
   "execution_count": 36,
   "id": "70508704-ba4e-439d-84d2-f6078b52ef0a",
   "metadata": {
    "atoti": {
     "widget": {
      "mapping": {
       "color": [
        "[Customer].[Customer].[gender]"
       ],
       "horizontalSubplots": [],
       "size": [],
       "splitBy": [
        "[SalesPerson].[SalesPerson].[state]"
       ],
       "verticalSubplots": [],
       "xValues": [
        "[Measures].[quantity.SUM]"
       ],
       "yValues": []
      },
      "query": {
       "mdx": "SELECT NON EMPTY Crossjoin(Hierarchize(Descendants({[Customer].[Customer].[ALL].[AllMember]}, 2, SELF_AND_BEFORE)), Hierarchize(Descendants({[SalesPerson].[SalesPerson].[ALL].[AllMember]}, 3, SELF_AND_BEFORE))) ON ROWS, NON EMPTY {[Measures].[quantity.SUM]} ON COLUMNS FROM [ProductSales] CELL PROPERTIES VALUE, FORMATTED_VALUE, BACK_COLOR, FORE_COLOR, FONT_FLAGS",
       "updateMode": "once"
      },
      "serverKey": "default",
      "switchedTo": "plotly-pie-chart",
      "widgetKey": "plotly-scatter-plot"
     }
    }
   },
   "outputs": [
    {
     "data": {
      "application/vnd.atoti.widget.v0+json": {
       "sessionId": "1702033283_U46ROQ",
       "sessionLocation": {
        "https": false,
        "port": 9092
       },
       "widgetCreationCode": "session.widget"
      },
      "text/html": [
       "<img height=\"352\" width=\"2128\" src=\"data:image/png;base64,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\" />"
      ],
      "text/plain": [
       "Open the notebook in JupyterLab with the Atoti JupyterLab extension enabled to build this widget."
      ]
     },
     "metadata": {},
     "output_type": "display_data"
    }
   ],
   "source": [
    "session.widget"
   ]
  },
  {
   "cell_type": "code",
   "execution_count": 37,
   "id": "679b108a-e6ee-4bb9-ae66-f5503e318520",
   "metadata": {},
   "outputs": [
    {
     "data": {
      "application/vnd.atoti.link.v0+json": {
       "path": "",
       "sessionLocation": {
        "https": false,
        "port": 9092
       }
      },
      "text/markdown": [
       "http://localhost:9092\n",
       "\n",
       "_Note_: This is the session's local URL: it may not be reachable if Atoti is running on another machine."
      ],
      "text/plain": [
       "http://localhost:9092 (This is the session's local URL: it may not be reachable if Atoti is running on another machine.)"
      ]
     },
     "execution_count": 37,
     "metadata": {},
     "output_type": "execute_result"
    }
   ],
   "source": [
    "session.link"
   ]
  }
 ],
 "metadata": {
  "kernelspec": {
   "display_name": "Python 3 (ipykernel)",
   "language": "python",
   "name": "python3"
  },
  "language_info": {
   "codemirror_mode": {
    "name": "ipython",
    "version": 3
   },
   "file_extension": ".py",
   "mimetype": "text/x-python",
   "name": "python",
   "nbconvert_exporter": "python",
   "pygments_lexer": "ipython3",
   "version": "3.10.12"
  }
 },
 "nbformat": 4,
 "nbformat_minor": 5
}
