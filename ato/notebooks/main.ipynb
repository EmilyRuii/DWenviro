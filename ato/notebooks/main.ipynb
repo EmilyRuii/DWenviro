{
 "cells": [
  {
   "cell_type": "code",
   "execution_count": null,
   "id": "03768229-2579-466d-bdfe-331c260475d2",
   "metadata": {
    "is_executing": true
   },
   "outputs": [],
   "source": [
    "import atoti as tt"
   ]
  },
  {
   "cell_type": "code",
   "execution_count": 2,
   "id": "05c777b7-09d5-4fce-b193-eea41aff4514",
   "metadata": {},
   "outputs": [],
   "source": [
    "session = tt.Session()"
   ]
  },
  {
   "cell_type": "code",
   "execution_count": 3,
   "id": "950a0520-2220-41bd-b9e4-c279324942dd",
   "metadata": {},
   "outputs": [
    {
     "name": "stderr",
     "output_type": "stream",
     "text": [
      "Closing existing \"Unnamed\" session to create the new one.\n"
     ]
    }
   ],
   "source": [
    "session = tt.Session(\n",
    "    user_content_storage=\"./content\",\n",
    "    port=9092,\n",
    "    java_options=[\"-Xms1G\", \"-Xmx10G\"]\n",
    ")"
   ]
  },
  {
   "cell_type": "code",
   "execution_count": 4,
   "id": "1e49a2c5-afe8-40b6-94da-bea90bf8d413",
   "metadata": {},
   "outputs": [
    {
     "name": "stderr",
     "output_type": "stream",
     "text": [
      "/opt/homebrew/lib/python3.11/site-packages/atoti_core/_link.py:27: FutureWarning: Calling `Session.link()` is deprecated, just access the `Session.link` property instead. Use `session.link / 'some_path'` to add a path to the linked URL.\n",
      "  deprecated(\n"
     ]
    },
    {
     "data": {
      "application/vnd.atoti.link.v0+json": {
       "path": "",
       "sessionLocation": {
        "https": false,
        "port": 9092
       }
      },
      "text/markdown": [
       "http://localhost:9092\n",
       "\n",
       "_Note_: This is the session's local URL: it may not be reachable if Atoti is running on another machine."
      ],
      "text/plain": [
       "http://localhost:9092 (This is the session's local URL: it may not be reachable if Atoti is running on another machine.)"
      ]
     },
     "execution_count": 4,
     "metadata": {},
     "output_type": "execute_result"
    }
   ],
   "source": [
    "session.link()"
   ]
  },
  {
   "cell_type": "code",
   "execution_count": 5,
   "id": "2651dd38-88ef-47a9-b5a6-509d3a3e6aea",
   "metadata": {},
   "outputs": [
    {
     "data": {
      "text/html": [
       "<div>\n",
       "<style scoped>\n",
       "    .dataframe tbody tr th:only-of-type {\n",
       "        vertical-align: middle;\n",
       "    }\n",
       "\n",
       "    .dataframe tbody tr th {\n",
       "        vertical-align: top;\n",
       "    }\n",
       "\n",
       "    .dataframe thead th {\n",
       "        text-align: right;\n",
       "    }\n",
       "</style>\n",
       "<table border=\"1\" class=\"dataframe\">\n",
       "  <thead>\n",
       "    <tr style=\"text-align: right;\">\n",
       "      <th></th>\n",
       "      <th>ProductName</th>\n",
       "      <th>ProductCategory</th>\n",
       "      <th>Supplier</th>\n",
       "      <th>PurchasingPricePerUnit</th>\n",
       "    </tr>\n",
       "    <tr>\n",
       "      <th>ProductId</th>\n",
       "      <th></th>\n",
       "      <th></th>\n",
       "      <th></th>\n",
       "      <th></th>\n",
       "    </tr>\n",
       "  </thead>\n",
       "  <tbody>\n",
       "  </tbody>\n",
       "</table>\n",
       "</div>"
      ],
      "text/plain": [
       "Empty DataFrame\n",
       "Columns: [ProductName, ProductCategory, Supplier, PurchasingPricePerUnit]\n",
       "Index: []"
      ]
     },
     "execution_count": 5,
     "metadata": {},
     "output_type": "execute_result"
    }
   ],
   "source": [
    "product_tbl = session.create_table(\n",
    "    name=\"Products\",\n",
    "    types={\n",
    "        \"ProductId\": tt.type.STRING,\n",
    "        \"ProductName\": tt.type.STRING,\n",
    "        \"ProductCategory\": tt.type.STRING,\n",
    "        \"Supplier\": tt.type.STRING,\n",
    "        \"PurchasingPricePerUnit\": tt.type.FLOAT,\n",
    "    },\n",
    "    keys=[\"ProductId\"],\n",
    "    # optional. Setting default value to 0 for demonstrative purpose\n",
    "    default_values={\"PurchasingPricePerUnit\": 0},\n",
    ")\n",
    "\n",
    "product_tbl.head()"
   ]
  },
  {
   "cell_type": "code",
   "execution_count": 6,
   "id": "5a793bc9-e972-4101-9ee3-8e5afb748dc3",
   "metadata": {},
   "outputs": [
    {
     "data": {
      "text/html": [
       "<div>\n",
       "<style scoped>\n",
       "    .dataframe tbody tr th:only-of-type {\n",
       "        vertical-align: middle;\n",
       "    }\n",
       "\n",
       "    .dataframe tbody tr th {\n",
       "        vertical-align: top;\n",
       "    }\n",
       "\n",
       "    .dataframe thead th {\n",
       "        text-align: right;\n",
       "    }\n",
       "</style>\n",
       "<table border=\"1\" class=\"dataframe\">\n",
       "  <thead>\n",
       "    <tr style=\"text-align: right;\">\n",
       "      <th></th>\n",
       "      <th>OrderId</th>\n",
       "      <th>OrderDate</th>\n",
       "      <th>QuantitySold</th>\n",
       "      <th>SellingPricePerUnit</th>\n",
       "      <th>ShipperName</th>\n",
       "      <th>ProductId</th>\n",
       "      <th>EmployeeId</th>\n",
       "      <th>CustomerId</th>\n",
       "    </tr>\n",
       "  </thead>\n",
       "  <tbody>\n",
       "    <tr>\n",
       "      <th>0</th>\n",
       "      <td>1</td>\n",
       "      <td>18/2/2019</td>\n",
       "      <td>650</td>\n",
       "      <td>22.42</td>\n",
       "      <td>Freight United</td>\n",
       "      <td>994</td>\n",
       "      <td>18336</td>\n",
       "      <td>c4411</td>\n",
       "    </tr>\n",
       "    <tr>\n",
       "      <th>1</th>\n",
       "      <td>7</td>\n",
       "      <td>18/2/2019</td>\n",
       "      <td>25</td>\n",
       "      <td>52.77</td>\n",
       "      <td>Freight United</td>\n",
       "      <td>916</td>\n",
       "      <td>18637</td>\n",
       "      <td>c3851</td>\n",
       "    </tr>\n",
       "    <tr>\n",
       "      <th>2</th>\n",
       "      <td>19</td>\n",
       "      <td>18/2/2019</td>\n",
       "      <td>971</td>\n",
       "      <td>11.1</td>\n",
       "      <td>Freight United</td>\n",
       "      <td>708</td>\n",
       "      <td>18422</td>\n",
       "      <td>c1891</td>\n",
       "    </tr>\n",
       "    <tr>\n",
       "      <th>3</th>\n",
       "      <td>42</td>\n",
       "      <td>18/2/2019</td>\n",
       "      <td>300</td>\n",
       "      <td>20.5</td>\n",
       "      <td>The Transporter</td>\n",
       "      <td>955</td>\n",
       "      <td>18594</td>\n",
       "      <td>c2507</td>\n",
       "    </tr>\n",
       "    <tr>\n",
       "      <th>4</th>\n",
       "      <td>70</td>\n",
       "      <td>18/2/2019</td>\n",
       "      <td>496</td>\n",
       "      <td>34.48</td>\n",
       "      <td>The Transporter</td>\n",
       "      <td>682</td>\n",
       "      <td>63528</td>\n",
       "      <td>c2843</td>\n",
       "    </tr>\n",
       "  </tbody>\n",
       "</table>\n",
       "</div>"
      ],
      "text/plain": [
       "   OrderId  OrderDate  QuantitySold  SellingPricePerUnit      ShipperName  \\\n",
       "0        1  18/2/2019           650                22.42   Freight United   \n",
       "1        7  18/2/2019            25                52.77   Freight United   \n",
       "2       19  18/2/2019           971                 11.1   Freight United   \n",
       "3       42  18/2/2019           300                 20.5  The Transporter   \n",
       "4       70  18/2/2019           496                34.48  The Transporter   \n",
       "\n",
       "   ProductId  EmployeeId CustomerId  \n",
       "0        994       18336      c4411  \n",
       "1        916       18637      c3851  \n",
       "2        708       18422      c1891  \n",
       "3        955       18594      c2507  \n",
       "4        682       63528      c2843  "
      ]
     },
     "execution_count": 6,
     "metadata": {},
     "output_type": "execute_result"
    }
   ],
   "source": [
    "orders_tbl = session.read_csv(\"Orders.csv\")\n",
    "orders_tbl.head()"
   ]
  },
  {
   "cell_type": "code",
   "execution_count": 7,
   "id": "2d1314b2-c45e-406a-9a71-003de22087dc",
   "metadata": {},
   "outputs": [
    {
     "data": {
      "application/json": {
       "CustomerId": {
        "default_value": "N/A",
        "key": false,
        "type": "String"
       },
       "EmployeeId": {
        "default_value": null,
        "key": false,
        "type": "int"
       },
       "OrderDate": {
        "default_value": "N/A",
        "key": false,
        "type": "String"
       },
       "OrderId": {
        "default_value": null,
        "key": false,
        "type": "int"
       },
       "ProductId": {
        "default_value": null,
        "key": false,
        "type": "int"
       },
       "QuantitySold": {
        "default_value": null,
        "key": false,
        "type": "int"
       },
       "SellingPricePerUnit": {
        "default_value": null,
        "key": false,
        "type": "double"
       },
       "ShipperName": {
        "default_value": "N/A",
        "key": false,
        "type": "String"
       }
      },
      "text/html": [
       "<ul>\n",
       "<li>Orders\n",
       "  <ul>\n",
       "  <li>OrderId\n",
       "    <ul>\n",
       "    <li>key: False</li>\n",
       "    <li>type: int</li>\n",
       "    <li>default_value: None</li>\n",
       "    </ul>\n",
       "  </li>\n",
       "  <li>OrderDate\n",
       "    <ul>\n",
       "    <li>key: False</li>\n",
       "    <li>type: String</li>\n",
       "    <li>default_value: N/A</li>\n",
       "    </ul>\n",
       "  </li>\n",
       "  <li>QuantitySold\n",
       "    <ul>\n",
       "    <li>key: False</li>\n",
       "    <li>type: int</li>\n",
       "    <li>default_value: None</li>\n",
       "    </ul>\n",
       "  </li>\n",
       "  <li>SellingPricePerUnit\n",
       "    <ul>\n",
       "    <li>key: False</li>\n",
       "    <li>type: double</li>\n",
       "    <li>default_value: None</li>\n",
       "    </ul>\n",
       "  </li>\n",
       "  <li>ShipperName\n",
       "    <ul>\n",
       "    <li>key: False</li>\n",
       "    <li>type: String</li>\n",
       "    <li>default_value: N/A</li>\n",
       "    </ul>\n",
       "  </li>\n",
       "  <li>ProductId\n",
       "    <ul>\n",
       "    <li>key: False</li>\n",
       "    <li>type: int</li>\n",
       "    <li>default_value: None</li>\n",
       "    </ul>\n",
       "  </li>\n",
       "  <li>EmployeeId\n",
       "    <ul>\n",
       "    <li>key: False</li>\n",
       "    <li>type: int</li>\n",
       "    <li>default_value: None</li>\n",
       "    </ul>\n",
       "  </li>\n",
       "  <li>CustomerId\n",
       "    <ul>\n",
       "    <li>key: False</li>\n",
       "    <li>type: String</li>\n",
       "    <li>default_value: N/A</li>\n",
       "    </ul>\n",
       "  </li>\n",
       "  </ul>\n",
       "</li>\n",
       "</ul>\n"
      ],
      "text/plain": [
       "<atoti.table.Table at 0x11fccfad0>"
      ]
     },
     "execution_count": 7,
     "metadata": {
      "application/json": {
       "expanded": true,
       "root": "Orders"
      }
     },
     "output_type": "execute_result"
    }
   ],
   "source": [
    "orders_tbl"
   ]
  },
  {
   "cell_type": "code",
   "execution_count": 8,
   "id": "107b59c1-4536-4752-90ca-e41dc3e2632c",
   "metadata": {},
   "outputs": [
    {
     "data": {
      "text/plain": [
       "'double'"
      ]
     },
     "execution_count": 8,
     "metadata": {},
     "output_type": "execute_result"
    }
   ],
   "source": [
    "orders_tbl[\"SellingPricePerUnit\"].data_type"
   ]
  },
  {
   "cell_type": "code",
   "execution_count": 9,
   "id": "af24d294-2522-4532-8abc-ab5987c4157b",
   "metadata": {},
   "outputs": [
    {
     "name": "stdout",
     "output_type": "stream",
     "text": [
      "OrderId is a numerical type column.\n",
      "OrderDate is a hierarchical type column.\n",
      "QuantitySold is a numerical type column.\n",
      "SellingPricePerUnit is a numerical type column.\n",
      "ShipperName is a hierarchical type column.\n",
      "ProductId is a numerical type column.\n",
      "EmployeeId is a numerical type column.\n",
      "CustomerId is a hierarchical type column.\n"
     ]
    }
   ],
   "source": [
    "for col in orders_tbl.columns:\n",
    "    print(f\"{col} is a numerical type column.\") if orders_tbl[col].data_type in [\n",
    "        \"int\",\n",
    "        \"double\",\n",
    "        \"float\",\n",
    "        \"int[]\",\n",
    "        \"double[]\",\n",
    "    ] else print(f\"{col} is a hierarchical type column.\")"
   ]
  },
  {
   "cell_type": "code",
   "execution_count": 10,
   "id": "376e17a8-56ab-4f75-9d54-cc9a6888bc55",
   "metadata": {},
   "outputs": [],
   "source": [
    "# del session.tables[\"Orders\"]\n",
    "del session.tables[orders_tbl.name]"
   ]
  },
  {
   "cell_type": "code",
   "execution_count": 11,
   "id": "2cd811c3-64c8-4eb3-8f99-0e63efc25867",
   "metadata": {},
   "outputs": [],
   "source": [
    "orders_tbl = session.read_csv(\n",
    "    \"Orders.csv\",\n",
    "    table_name=\"Orders\",\n",
    "    columns={\n",
    "        \"OrderId\": \"Order Id\",\n",
    "        \"OrderDate\": \"Order Date\",\n",
    "        \"QuantitySold\": \"Quantity Sold\",\n",
    "        \"SellingPricePerUnit\": \"Selling Price Per Unit\",\n",
    "        \"ShipperName\": \"Shipper Name\",\n",
    "        \"ProductId\": \"Product Id\",\n",
    "    },\n",
    "    keys=[\"Order Id\", \"Product Id\"],\n",
    "    types={\n",
    "        \"Order Id\": tt.type.STRING,\n",
    "        \"Product Id\": tt.type.STRING,\n",
    "        \"Order Date\": tt.type.LOCAL_DATE,\n",
    "    },\n",
    "    date_patterns={\"Order Date\": \"dd/M/yyyy\"},\n",
    "    default_values={\"Quantity Sold\": 0, \"Selling Price Per Unit\": 0.0},\n",
    ")"
   ]
  },
  {
   "cell_type": "code",
   "execution_count": 12,
   "id": "20f84e82-1cbc-49d3-acbc-5feed9199010",
   "metadata": {},
   "outputs": [],
   "source": [
    "orders_tbl.join(product_tbl, (orders_tbl[\"Product Id\"] == product_tbl[\"ProductId\"]))"
   ]
  },
  {
   "cell_type": "code",
   "execution_count": 13,
   "id": "d10c6717-9918-45a0-a096-32af946e824c",
   "metadata": {},
   "outputs": [
    {
     "data": {
      "image/svg+xml": [
       "<svg xmlns=\"http://www.w3.org/2000/svg\" xmlns:xlink=\"http://www.w3.org/1999/xlink\" width=\"687px\" height=\"179px\" viewBox=\"0.00 0.00 686.50 179.00\">\n",
       "<g id=\"graph0\" class=\"graph\" transform=\"scale(1.0 1.0) rotate(0) translate(4 175)\">\n",
       "<title>Datastore schema</title>\n",
       "<polygon fill=\"white\" stroke=\"none\" points=\"-4,4 -4,-175 682.5,-175 682.5,4 -4,4\"/>\n",
       "<!-- Orders -->\n",
       "<g id=\"node1\" class=\"node\">\n",
       "<title>Orders</title>\n",
       "<text text-anchor=\"start\" x=\"106.75\" y=\"-149.65\" font-family=\"-apple-system, BlinkMacSystemFont, 'Segoe UI', Helvetica, Arial, sans-serif, 'Apple Color Emoji', 'Segoe UI Emoji', 'Segoe UI Symbol'\" font-weight=\"bold\" font-size=\"13.00\">Orders</text>\n",
       "<polygon fill=\"#f5f5f5\" stroke=\"none\" points=\"9,-120 9,-143 41,-143 41,-120 9,-120\"/>\n",
       "<text text-anchor=\"start\" x=\"13.75\" y=\"-126.65\" font-family=\"-apple-system, BlinkMacSystemFont, 'Segoe UI', Helvetica, Arial, sans-serif, 'Apple Color Emoji', 'Segoe UI Emoji', 'Segoe UI Symbol'\" font-weight=\"bold\" font-size=\"13.00\">key</text>\n",
       "<polygon fill=\"#f5f5f5\" stroke=\"none\" points=\"41,-120 41,-143 178,-143 178,-120 41,-120\"/>\n",
       "<text text-anchor=\"start\" x=\"46\" y=\"-125.65\" font-family=\"-apple-system, BlinkMacSystemFont, 'Segoe UI', Helvetica, Arial, sans-serif, 'Apple Color Emoji', 'Segoe UI Emoji', 'Segoe UI Symbol'\" font-size=\"13.00\">Order Id</text>\n",
       "<polygon fill=\"#f5f5f5\" stroke=\"none\" points=\"178,-120 178,-143 248,-143 248,-120 178,-120\"/>\n",
       "<text text-anchor=\"start\" x=\"210\" y=\"-126.65\" font-family=\"-apple-system, BlinkMacSystemFont, 'Segoe UI', Helvetica, Arial, sans-serif, 'Apple Color Emoji', 'Segoe UI Emoji', 'Segoe UI Symbol'\" font-style=\"italic\" font-size=\"13.00\">string</text>\n",
       "<polygon fill=\"#ffffff\" stroke=\"none\" points=\"9,-97 9,-120 41,-120 41,-97 9,-97\"/>\n",
       "<polygon fill=\"#ffffff\" stroke=\"none\" points=\"41,-97 41,-120 178,-120 178,-97 41,-97\"/>\n",
       "<text text-anchor=\"start\" x=\"46\" y=\"-102.65\" font-family=\"-apple-system, BlinkMacSystemFont, 'Segoe UI', Helvetica, Arial, sans-serif, 'Apple Color Emoji', 'Segoe UI Emoji', 'Segoe UI Symbol'\" font-size=\"13.00\">Order Date</text>\n",
       "<polygon fill=\"#ffffff\" stroke=\"none\" points=\"178,-97 178,-120 248,-120 248,-97 178,-97\"/>\n",
       "<text text-anchor=\"start\" x=\"182.62\" y=\"-103.65\" font-family=\"-apple-system, BlinkMacSystemFont, 'Segoe UI', Helvetica, Arial, sans-serif, 'Apple Color Emoji', 'Segoe UI Emoji', 'Segoe UI Symbol'\" font-style=\"italic\" font-size=\"13.00\">LocalDate</text>\n",
       "<polygon fill=\"#f5f5f5\" stroke=\"none\" points=\"9,-74 9,-97 41,-97 41,-74 9,-74\"/>\n",
       "<polygon fill=\"#f5f5f5\" stroke=\"none\" points=\"41,-74 41,-97 178,-97 178,-74 41,-74\"/>\n",
       "<text text-anchor=\"start\" x=\"46\" y=\"-79.65\" font-family=\"-apple-system, BlinkMacSystemFont, 'Segoe UI', Helvetica, Arial, sans-serif, 'Apple Color Emoji', 'Segoe UI Emoji', 'Segoe UI Symbol'\" font-size=\"13.00\">Quantity Sold</text>\n",
       "<polygon fill=\"#f5f5f5\" stroke=\"none\" points=\"178,-74 178,-97 248,-97 248,-74 178,-74\"/>\n",
       "<text text-anchor=\"start\" x=\"228.75\" y=\"-80.65\" font-family=\"-apple-system, BlinkMacSystemFont, 'Segoe UI', Helvetica, Arial, sans-serif, 'Apple Color Emoji', 'Segoe UI Emoji', 'Segoe UI Symbol'\" font-style=\"italic\" font-size=\"13.00\">int</text>\n",
       "<polygon fill=\"#ffffff\" stroke=\"none\" points=\"9,-51 9,-74 41,-74 41,-51 9,-51\"/>\n",
       "<polygon fill=\"#ffffff\" stroke=\"none\" points=\"41,-51 41,-74 178,-74 178,-51 41,-51\"/>\n",
       "<text text-anchor=\"start\" x=\"45.75\" y=\"-56.65\" font-family=\"-apple-system, BlinkMacSystemFont, 'Segoe UI', Helvetica, Arial, sans-serif, 'Apple Color Emoji', 'Segoe UI Emoji', 'Segoe UI Symbol'\" font-size=\"13.00\">Selling Price Per Unit</text>\n",
       "<polygon fill=\"#ffffff\" stroke=\"none\" points=\"178,-51 178,-74 248,-74 248,-51 178,-51\"/>\n",
       "<text text-anchor=\"start\" x=\"202.5\" y=\"-57.65\" font-family=\"-apple-system, BlinkMacSystemFont, 'Segoe UI', Helvetica, Arial, sans-serif, 'Apple Color Emoji', 'Segoe UI Emoji', 'Segoe UI Symbol'\" font-style=\"italic\" font-size=\"13.00\">double</text>\n",
       "<polygon fill=\"#f5f5f5\" stroke=\"none\" points=\"9,-28 9,-51 41,-51 41,-28 9,-28\"/>\n",
       "<polygon fill=\"#f5f5f5\" stroke=\"none\" points=\"41,-28 41,-51 178,-51 178,-28 41,-28\"/>\n",
       "<text text-anchor=\"start\" x=\"46\" y=\"-33.65\" font-family=\"-apple-system, BlinkMacSystemFont, 'Segoe UI', Helvetica, Arial, sans-serif, 'Apple Color Emoji', 'Segoe UI Emoji', 'Segoe UI Symbol'\" font-size=\"13.00\">Shipper Name</text>\n",
       "<polygon fill=\"#f5f5f5\" stroke=\"none\" points=\"178,-28 178,-51 248,-51 248,-28 178,-28\"/>\n",
       "<text text-anchor=\"start\" x=\"210\" y=\"-34.65\" font-family=\"-apple-system, BlinkMacSystemFont, 'Segoe UI', Helvetica, Arial, sans-serif, 'Apple Color Emoji', 'Segoe UI Emoji', 'Segoe UI Symbol'\" font-style=\"italic\" font-size=\"13.00\">string</text>\n",
       "<polygon fill=\"#ffffff\" stroke=\"none\" points=\"9,-5 9,-28 41,-28 41,-5 9,-5\"/>\n",
       "<text text-anchor=\"start\" x=\"13.75\" y=\"-11.65\" font-family=\"-apple-system, BlinkMacSystemFont, 'Segoe UI', Helvetica, Arial, sans-serif, 'Apple Color Emoji', 'Segoe UI Emoji', 'Segoe UI Symbol'\" font-weight=\"bold\" font-size=\"13.00\">key</text>\n",
       "<polygon fill=\"#ffffff\" stroke=\"none\" points=\"41,-5 41,-28 178,-28 178,-5 41,-5\"/>\n",
       "<text text-anchor=\"start\" x=\"46\" y=\"-10.65\" font-family=\"-apple-system, BlinkMacSystemFont, 'Segoe UI', Helvetica, Arial, sans-serif, 'Apple Color Emoji', 'Segoe UI Emoji', 'Segoe UI Symbol'\" font-size=\"13.00\">Product Id</text>\n",
       "<polygon fill=\"#ffffff\" stroke=\"none\" points=\"178,-5 178,-28 248,-28 248,-5 178,-5\"/>\n",
       "<text text-anchor=\"start\" x=\"210\" y=\"-11.65\" font-family=\"-apple-system, BlinkMacSystemFont, 'Segoe UI', Helvetica, Arial, sans-serif, 'Apple Color Emoji', 'Segoe UI Emoji', 'Segoe UI Symbol'\" font-style=\"italic\" font-size=\"13.00\">string</text>\n",
       "<polygon fill=\"none\" stroke=\"black\" points=\"8,-4 8,-167 249,-167 249,-4 8,-4\"/>\n",
       "</g>\n",
       "<!-- Products -->\n",
       "<g id=\"node2\" class=\"node\">\n",
       "<title>Products</title>\n",
       "<text text-anchor=\"start\" x=\"526.25\" y=\"-138.15\" font-family=\"-apple-system, BlinkMacSystemFont, 'Segoe UI', Helvetica, Arial, sans-serif, 'Apple Color Emoji', 'Segoe UI Emoji', 'Segoe UI Symbol'\" font-weight=\"bold\" font-size=\"13.00\">Products</text>\n",
       "<polygon fill=\"#f5f5f5\" stroke=\"none\" points=\"441.5,-108.5 441.5,-131.5 473.5,-131.5 473.5,-108.5 441.5,-108.5\"/>\n",
       "<text text-anchor=\"start\" x=\"446.25\" y=\"-115.15\" font-family=\"-apple-system, BlinkMacSystemFont, 'Segoe UI', Helvetica, Arial, sans-serif, 'Apple Color Emoji', 'Segoe UI Emoji', 'Segoe UI Symbol'\" font-weight=\"bold\" font-size=\"13.00\">key</text>\n",
       "<polygon fill=\"#f5f5f5\" stroke=\"none\" points=\"473.5,-108.5 473.5,-131.5 626.5,-131.5 626.5,-108.5 473.5,-108.5\"/>\n",
       "<text text-anchor=\"start\" x=\"478.5\" y=\"-114.15\" font-family=\"-apple-system, BlinkMacSystemFont, 'Segoe UI', Helvetica, Arial, sans-serif, 'Apple Color Emoji', 'Segoe UI Emoji', 'Segoe UI Symbol'\" font-size=\"13.00\">ProductId</text>\n",
       "<polygon fill=\"#f5f5f5\" stroke=\"none\" points=\"626.5,-108.5 626.5,-131.5 669.5,-131.5 669.5,-108.5 626.5,-108.5\"/>\n",
       "<text text-anchor=\"start\" x=\"631.5\" y=\"-115.15\" font-family=\"-apple-system, BlinkMacSystemFont, 'Segoe UI', Helvetica, Arial, sans-serif, 'Apple Color Emoji', 'Segoe UI Emoji', 'Segoe UI Symbol'\" font-style=\"italic\" font-size=\"13.00\">string</text>\n",
       "<polygon fill=\"#ffffff\" stroke=\"none\" points=\"441.5,-85.5 441.5,-108.5 473.5,-108.5 473.5,-85.5 441.5,-85.5\"/>\n",
       "<polygon fill=\"#ffffff\" stroke=\"none\" points=\"473.5,-85.5 473.5,-108.5 626.5,-108.5 626.5,-85.5 473.5,-85.5\"/>\n",
       "<text text-anchor=\"start\" x=\"478.5\" y=\"-91.15\" font-family=\"-apple-system, BlinkMacSystemFont, 'Segoe UI', Helvetica, Arial, sans-serif, 'Apple Color Emoji', 'Segoe UI Emoji', 'Segoe UI Symbol'\" font-size=\"13.00\">ProductName</text>\n",
       "<polygon fill=\"#ffffff\" stroke=\"none\" points=\"626.5,-85.5 626.5,-108.5 669.5,-108.5 669.5,-85.5 626.5,-85.5\"/>\n",
       "<text text-anchor=\"start\" x=\"631.5\" y=\"-92.15\" font-family=\"-apple-system, BlinkMacSystemFont, 'Segoe UI', Helvetica, Arial, sans-serif, 'Apple Color Emoji', 'Segoe UI Emoji', 'Segoe UI Symbol'\" font-style=\"italic\" font-size=\"13.00\">string</text>\n",
       "<polygon fill=\"#f5f5f5\" stroke=\"none\" points=\"441.5,-62.5 441.5,-85.5 473.5,-85.5 473.5,-62.5 441.5,-62.5\"/>\n",
       "<polygon fill=\"#f5f5f5\" stroke=\"none\" points=\"473.5,-62.5 473.5,-85.5 626.5,-85.5 626.5,-62.5 473.5,-62.5\"/>\n",
       "<text text-anchor=\"start\" x=\"478.5\" y=\"-68.15\" font-family=\"-apple-system, BlinkMacSystemFont, 'Segoe UI', Helvetica, Arial, sans-serif, 'Apple Color Emoji', 'Segoe UI Emoji', 'Segoe UI Symbol'\" font-size=\"13.00\">ProductCategory</text>\n",
       "<polygon fill=\"#f5f5f5\" stroke=\"none\" points=\"626.5,-62.5 626.5,-85.5 669.5,-85.5 669.5,-62.5 626.5,-62.5\"/>\n",
       "<text text-anchor=\"start\" x=\"631.5\" y=\"-69.15\" font-family=\"-apple-system, BlinkMacSystemFont, 'Segoe UI', Helvetica, Arial, sans-serif, 'Apple Color Emoji', 'Segoe UI Emoji', 'Segoe UI Symbol'\" font-style=\"italic\" font-size=\"13.00\">string</text>\n",
       "<polygon fill=\"#ffffff\" stroke=\"none\" points=\"441.5,-39.5 441.5,-62.5 473.5,-62.5 473.5,-39.5 441.5,-39.5\"/>\n",
       "<polygon fill=\"#ffffff\" stroke=\"none\" points=\"473.5,-39.5 473.5,-62.5 626.5,-62.5 626.5,-39.5 473.5,-39.5\"/>\n",
       "<text text-anchor=\"start\" x=\"478.5\" y=\"-45.15\" font-family=\"-apple-system, BlinkMacSystemFont, 'Segoe UI', Helvetica, Arial, sans-serif, 'Apple Color Emoji', 'Segoe UI Emoji', 'Segoe UI Symbol'\" font-size=\"13.00\">Supplier</text>\n",
       "<polygon fill=\"#ffffff\" stroke=\"none\" points=\"626.5,-39.5 626.5,-62.5 669.5,-62.5 669.5,-39.5 626.5,-39.5\"/>\n",
       "<text text-anchor=\"start\" x=\"631.5\" y=\"-46.15\" font-family=\"-apple-system, BlinkMacSystemFont, 'Segoe UI', Helvetica, Arial, sans-serif, 'Apple Color Emoji', 'Segoe UI Emoji', 'Segoe UI Symbol'\" font-style=\"italic\" font-size=\"13.00\">string</text>\n",
       "<polygon fill=\"#f5f5f5\" stroke=\"none\" points=\"441.5,-16.5 441.5,-39.5 473.5,-39.5 473.5,-16.5 441.5,-16.5\"/>\n",
       "<polygon fill=\"#f5f5f5\" stroke=\"none\" points=\"473.5,-16.5 473.5,-39.5 626.5,-39.5 626.5,-16.5 473.5,-16.5\"/>\n",
       "<text text-anchor=\"start\" x=\"478.38\" y=\"-22.15\" font-family=\"-apple-system, BlinkMacSystemFont, 'Segoe UI', Helvetica, Arial, sans-serif, 'Apple Color Emoji', 'Segoe UI Emoji', 'Segoe UI Symbol'\" font-size=\"13.00\">PurchasingPricePerUnit</text>\n",
       "<polygon fill=\"#f5f5f5\" stroke=\"none\" points=\"626.5,-16.5 626.5,-39.5 669.5,-39.5 669.5,-16.5 626.5,-16.5\"/>\n",
       "<text text-anchor=\"start\" x=\"639\" y=\"-23.15\" font-family=\"-apple-system, BlinkMacSystemFont, 'Segoe UI', Helvetica, Arial, sans-serif, 'Apple Color Emoji', 'Segoe UI Emoji', 'Segoe UI Symbol'\" font-style=\"italic\" font-size=\"13.00\">float</text>\n",
       "<polygon fill=\"none\" stroke=\"black\" points=\"440.5,-15.5 440.5,-155.5 670.5,-155.5 670.5,-15.5 440.5,-15.5\"/>\n",
       "</g>\n",
       "<!-- Orders&#45;&gt;Products -->\n",
       "<g id=\"edge1\" class=\"edge\">\n",
       "<title>Orders-&gt;Products</title>\n",
       "<path fill=\"none\" stroke=\"black\" d=\"M256.73,-85.5C308.67,-85.5 368.77,-85.5 421.31,-85.5\"/>\n",
       "<polygon fill=\"black\" stroke=\"black\" points=\"421.24,-89 431.24,-85.5 421.24,-82 421.24,-89\"/>\n",
       "<text text-anchor=\"middle\" x=\"344.75\" y=\"-88.15\" font-family=\"-apple-system, BlinkMacSystemFont, 'Segoe UI', Helvetica, Arial, sans-serif, 'Apple Color Emoji', 'Segoe UI Emoji', 'Segoe UI Symbol'\" font-size=\"13.00\">Product Id → ProductId</text>\n",
       "</g>\n",
       "</g>\n",
       "</svg>"
      ],
      "text/plain": [
       "<IPython.core.display.SVG object>"
      ]
     },
     "execution_count": 13,
     "metadata": {},
     "output_type": "execute_result"
    }
   ],
   "source": [
    "session.tables.schema"
   ]
  },
  {
   "cell_type": "code",
   "execution_count": 14,
   "id": "1f93079a-1f3d-4011-b5ee-7b45a1d6c781",
   "metadata": {},
   "outputs": [],
   "source": [
    "cube = session.create_cube(orders_tbl, name=\"Order Cube\")"
   ]
  },
  {
   "cell_type": "code",
   "execution_count": 15,
   "id": "b66eeb66-0817-47d0-b6f3-928033ae2ec8",
   "metadata": {},
   "outputs": [
    {
     "data": {
      "image/svg+xml": [
       "<svg xmlns=\"http://www.w3.org/2000/svg\" xmlns:xlink=\"http://www.w3.org/1999/xlink\" width=\"687px\" height=\"179px\" viewBox=\"0.00 0.00 686.50 179.00\">\n",
       "<g id=\"graph0\" class=\"graph\" transform=\"scale(1.0 1.0) rotate(0) translate(4 175)\">\n",
       "<title>Order Cube schema</title>\n",
       "<polygon fill=\"white\" stroke=\"none\" points=\"-4,4 -4,-175 682.5,-175 682.5,4 -4,4\"/>\n",
       "<!-- Orders -->\n",
       "<g id=\"node1\" class=\"node\">\n",
       "<title>Orders</title>\n",
       "<text text-anchor=\"start\" x=\"106.75\" y=\"-149.65\" font-family=\"-apple-system, BlinkMacSystemFont, 'Segoe UI', Helvetica, Arial, sans-serif, 'Apple Color Emoji', 'Segoe UI Emoji', 'Segoe UI Symbol'\" font-weight=\"bold\" font-size=\"13.00\">Orders</text>\n",
       "<polygon fill=\"#f5f5f5\" stroke=\"none\" points=\"9,-120 9,-143 41,-143 41,-120 9,-120\"/>\n",
       "<text text-anchor=\"start\" x=\"13.75\" y=\"-126.65\" font-family=\"-apple-system, BlinkMacSystemFont, 'Segoe UI', Helvetica, Arial, sans-serif, 'Apple Color Emoji', 'Segoe UI Emoji', 'Segoe UI Symbol'\" font-weight=\"bold\" font-size=\"13.00\">key</text>\n",
       "<polygon fill=\"#f5f5f5\" stroke=\"none\" points=\"41,-120 41,-143 178,-143 178,-120 41,-120\"/>\n",
       "<text text-anchor=\"start\" x=\"46\" y=\"-125.65\" font-family=\"-apple-system, BlinkMacSystemFont, 'Segoe UI', Helvetica, Arial, sans-serif, 'Apple Color Emoji', 'Segoe UI Emoji', 'Segoe UI Symbol'\" font-size=\"13.00\">Order Id</text>\n",
       "<polygon fill=\"#f5f5f5\" stroke=\"none\" points=\"178,-120 178,-143 248,-143 248,-120 178,-120\"/>\n",
       "<text text-anchor=\"start\" x=\"210\" y=\"-126.65\" font-family=\"-apple-system, BlinkMacSystemFont, 'Segoe UI', Helvetica, Arial, sans-serif, 'Apple Color Emoji', 'Segoe UI Emoji', 'Segoe UI Symbol'\" font-style=\"italic\" font-size=\"13.00\">string</text>\n",
       "<polygon fill=\"#ffffff\" stroke=\"none\" points=\"9,-97 9,-120 41,-120 41,-97 9,-97\"/>\n",
       "<polygon fill=\"#ffffff\" stroke=\"none\" points=\"41,-97 41,-120 178,-120 178,-97 41,-97\"/>\n",
       "<text text-anchor=\"start\" x=\"46\" y=\"-102.65\" font-family=\"-apple-system, BlinkMacSystemFont, 'Segoe UI', Helvetica, Arial, sans-serif, 'Apple Color Emoji', 'Segoe UI Emoji', 'Segoe UI Symbol'\" font-size=\"13.00\">Order Date</text>\n",
       "<polygon fill=\"#ffffff\" stroke=\"none\" points=\"178,-97 178,-120 248,-120 248,-97 178,-97\"/>\n",
       "<text text-anchor=\"start\" x=\"182.62\" y=\"-103.65\" font-family=\"-apple-system, BlinkMacSystemFont, 'Segoe UI', Helvetica, Arial, sans-serif, 'Apple Color Emoji', 'Segoe UI Emoji', 'Segoe UI Symbol'\" font-style=\"italic\" font-size=\"13.00\">LocalDate</text>\n",
       "<polygon fill=\"#f5f5f5\" stroke=\"none\" points=\"9,-74 9,-97 41,-97 41,-74 9,-74\"/>\n",
       "<polygon fill=\"#f5f5f5\" stroke=\"none\" points=\"41,-74 41,-97 178,-97 178,-74 41,-74\"/>\n",
       "<text text-anchor=\"start\" x=\"46\" y=\"-79.65\" font-family=\"-apple-system, BlinkMacSystemFont, 'Segoe UI', Helvetica, Arial, sans-serif, 'Apple Color Emoji', 'Segoe UI Emoji', 'Segoe UI Symbol'\" font-size=\"13.00\">Quantity Sold</text>\n",
       "<polygon fill=\"#f5f5f5\" stroke=\"none\" points=\"178,-74 178,-97 248,-97 248,-74 178,-74\"/>\n",
       "<text text-anchor=\"start\" x=\"228.75\" y=\"-80.65\" font-family=\"-apple-system, BlinkMacSystemFont, 'Segoe UI', Helvetica, Arial, sans-serif, 'Apple Color Emoji', 'Segoe UI Emoji', 'Segoe UI Symbol'\" font-style=\"italic\" font-size=\"13.00\">int</text>\n",
       "<polygon fill=\"#ffffff\" stroke=\"none\" points=\"9,-51 9,-74 41,-74 41,-51 9,-51\"/>\n",
       "<polygon fill=\"#ffffff\" stroke=\"none\" points=\"41,-51 41,-74 178,-74 178,-51 41,-51\"/>\n",
       "<text text-anchor=\"start\" x=\"45.75\" y=\"-56.65\" font-family=\"-apple-system, BlinkMacSystemFont, 'Segoe UI', Helvetica, Arial, sans-serif, 'Apple Color Emoji', 'Segoe UI Emoji', 'Segoe UI Symbol'\" font-size=\"13.00\">Selling Price Per Unit</text>\n",
       "<polygon fill=\"#ffffff\" stroke=\"none\" points=\"178,-51 178,-74 248,-74 248,-51 178,-51\"/>\n",
       "<text text-anchor=\"start\" x=\"202.5\" y=\"-57.65\" font-family=\"-apple-system, BlinkMacSystemFont, 'Segoe UI', Helvetica, Arial, sans-serif, 'Apple Color Emoji', 'Segoe UI Emoji', 'Segoe UI Symbol'\" font-style=\"italic\" font-size=\"13.00\">double</text>\n",
       "<polygon fill=\"#f5f5f5\" stroke=\"none\" points=\"9,-28 9,-51 41,-51 41,-28 9,-28\"/>\n",
       "<polygon fill=\"#f5f5f5\" stroke=\"none\" points=\"41,-28 41,-51 178,-51 178,-28 41,-28\"/>\n",
       "<text text-anchor=\"start\" x=\"46\" y=\"-33.65\" font-family=\"-apple-system, BlinkMacSystemFont, 'Segoe UI', Helvetica, Arial, sans-serif, 'Apple Color Emoji', 'Segoe UI Emoji', 'Segoe UI Symbol'\" font-size=\"13.00\">Shipper Name</text>\n",
       "<polygon fill=\"#f5f5f5\" stroke=\"none\" points=\"178,-28 178,-51 248,-51 248,-28 178,-28\"/>\n",
       "<text text-anchor=\"start\" x=\"210\" y=\"-34.65\" font-family=\"-apple-system, BlinkMacSystemFont, 'Segoe UI', Helvetica, Arial, sans-serif, 'Apple Color Emoji', 'Segoe UI Emoji', 'Segoe UI Symbol'\" font-style=\"italic\" font-size=\"13.00\">string</text>\n",
       "<polygon fill=\"#ffffff\" stroke=\"none\" points=\"9,-5 9,-28 41,-28 41,-5 9,-5\"/>\n",
       "<text text-anchor=\"start\" x=\"13.75\" y=\"-11.65\" font-family=\"-apple-system, BlinkMacSystemFont, 'Segoe UI', Helvetica, Arial, sans-serif, 'Apple Color Emoji', 'Segoe UI Emoji', 'Segoe UI Symbol'\" font-weight=\"bold\" font-size=\"13.00\">key</text>\n",
       "<polygon fill=\"#ffffff\" stroke=\"none\" points=\"41,-5 41,-28 178,-28 178,-5 41,-5\"/>\n",
       "<text text-anchor=\"start\" x=\"46\" y=\"-10.65\" font-family=\"-apple-system, BlinkMacSystemFont, 'Segoe UI', Helvetica, Arial, sans-serif, 'Apple Color Emoji', 'Segoe UI Emoji', 'Segoe UI Symbol'\" font-size=\"13.00\">Product Id</text>\n",
       "<polygon fill=\"#ffffff\" stroke=\"none\" points=\"178,-5 178,-28 248,-28 248,-5 178,-5\"/>\n",
       "<text text-anchor=\"start\" x=\"210\" y=\"-11.65\" font-family=\"-apple-system, BlinkMacSystemFont, 'Segoe UI', Helvetica, Arial, sans-serif, 'Apple Color Emoji', 'Segoe UI Emoji', 'Segoe UI Symbol'\" font-style=\"italic\" font-size=\"13.00\">string</text>\n",
       "<polygon fill=\"none\" stroke=\"black\" points=\"8,-4 8,-167 249,-167 249,-4 8,-4\"/>\n",
       "</g>\n",
       "<!-- Products -->\n",
       "<g id=\"node2\" class=\"node\">\n",
       "<title>Products</title>\n",
       "<text text-anchor=\"start\" x=\"526.25\" y=\"-138.15\" font-family=\"-apple-system, BlinkMacSystemFont, 'Segoe UI', Helvetica, Arial, sans-serif, 'Apple Color Emoji', 'Segoe UI Emoji', 'Segoe UI Symbol'\" font-weight=\"bold\" font-size=\"13.00\">Products</text>\n",
       "<polygon fill=\"#f5f5f5\" stroke=\"none\" points=\"441.5,-108.5 441.5,-131.5 473.5,-131.5 473.5,-108.5 441.5,-108.5\"/>\n",
       "<text text-anchor=\"start\" x=\"446.25\" y=\"-115.15\" font-family=\"-apple-system, BlinkMacSystemFont, 'Segoe UI', Helvetica, Arial, sans-serif, 'Apple Color Emoji', 'Segoe UI Emoji', 'Segoe UI Symbol'\" font-weight=\"bold\" font-size=\"13.00\">key</text>\n",
       "<polygon fill=\"#f5f5f5\" stroke=\"none\" points=\"473.5,-108.5 473.5,-131.5 626.5,-131.5 626.5,-108.5 473.5,-108.5\"/>\n",
       "<text text-anchor=\"start\" x=\"478.5\" y=\"-114.15\" font-family=\"-apple-system, BlinkMacSystemFont, 'Segoe UI', Helvetica, Arial, sans-serif, 'Apple Color Emoji', 'Segoe UI Emoji', 'Segoe UI Symbol'\" font-size=\"13.00\">ProductId</text>\n",
       "<polygon fill=\"#f5f5f5\" stroke=\"none\" points=\"626.5,-108.5 626.5,-131.5 669.5,-131.5 669.5,-108.5 626.5,-108.5\"/>\n",
       "<text text-anchor=\"start\" x=\"631.5\" y=\"-115.15\" font-family=\"-apple-system, BlinkMacSystemFont, 'Segoe UI', Helvetica, Arial, sans-serif, 'Apple Color Emoji', 'Segoe UI Emoji', 'Segoe UI Symbol'\" font-style=\"italic\" font-size=\"13.00\">string</text>\n",
       "<polygon fill=\"#ffffff\" stroke=\"none\" points=\"441.5,-85.5 441.5,-108.5 473.5,-108.5 473.5,-85.5 441.5,-85.5\"/>\n",
       "<polygon fill=\"#ffffff\" stroke=\"none\" points=\"473.5,-85.5 473.5,-108.5 626.5,-108.5 626.5,-85.5 473.5,-85.5\"/>\n",
       "<text text-anchor=\"start\" x=\"478.5\" y=\"-91.15\" font-family=\"-apple-system, BlinkMacSystemFont, 'Segoe UI', Helvetica, Arial, sans-serif, 'Apple Color Emoji', 'Segoe UI Emoji', 'Segoe UI Symbol'\" font-size=\"13.00\">ProductName</text>\n",
       "<polygon fill=\"#ffffff\" stroke=\"none\" points=\"626.5,-85.5 626.5,-108.5 669.5,-108.5 669.5,-85.5 626.5,-85.5\"/>\n",
       "<text text-anchor=\"start\" x=\"631.5\" y=\"-92.15\" font-family=\"-apple-system, BlinkMacSystemFont, 'Segoe UI', Helvetica, Arial, sans-serif, 'Apple Color Emoji', 'Segoe UI Emoji', 'Segoe UI Symbol'\" font-style=\"italic\" font-size=\"13.00\">string</text>\n",
       "<polygon fill=\"#f5f5f5\" stroke=\"none\" points=\"441.5,-62.5 441.5,-85.5 473.5,-85.5 473.5,-62.5 441.5,-62.5\"/>\n",
       "<polygon fill=\"#f5f5f5\" stroke=\"none\" points=\"473.5,-62.5 473.5,-85.5 626.5,-85.5 626.5,-62.5 473.5,-62.5\"/>\n",
       "<text text-anchor=\"start\" x=\"478.5\" y=\"-68.15\" font-family=\"-apple-system, BlinkMacSystemFont, 'Segoe UI', Helvetica, Arial, sans-serif, 'Apple Color Emoji', 'Segoe UI Emoji', 'Segoe UI Symbol'\" font-size=\"13.00\">ProductCategory</text>\n",
       "<polygon fill=\"#f5f5f5\" stroke=\"none\" points=\"626.5,-62.5 626.5,-85.5 669.5,-85.5 669.5,-62.5 626.5,-62.5\"/>\n",
       "<text text-anchor=\"start\" x=\"631.5\" y=\"-69.15\" font-family=\"-apple-system, BlinkMacSystemFont, 'Segoe UI', Helvetica, Arial, sans-serif, 'Apple Color Emoji', 'Segoe UI Emoji', 'Segoe UI Symbol'\" font-style=\"italic\" font-size=\"13.00\">string</text>\n",
       "<polygon fill=\"#ffffff\" stroke=\"none\" points=\"441.5,-39.5 441.5,-62.5 473.5,-62.5 473.5,-39.5 441.5,-39.5\"/>\n",
       "<polygon fill=\"#ffffff\" stroke=\"none\" points=\"473.5,-39.5 473.5,-62.5 626.5,-62.5 626.5,-39.5 473.5,-39.5\"/>\n",
       "<text text-anchor=\"start\" x=\"478.5\" y=\"-45.15\" font-family=\"-apple-system, BlinkMacSystemFont, 'Segoe UI', Helvetica, Arial, sans-serif, 'Apple Color Emoji', 'Segoe UI Emoji', 'Segoe UI Symbol'\" font-size=\"13.00\">Supplier</text>\n",
       "<polygon fill=\"#ffffff\" stroke=\"none\" points=\"626.5,-39.5 626.5,-62.5 669.5,-62.5 669.5,-39.5 626.5,-39.5\"/>\n",
       "<text text-anchor=\"start\" x=\"631.5\" y=\"-46.15\" font-family=\"-apple-system, BlinkMacSystemFont, 'Segoe UI', Helvetica, Arial, sans-serif, 'Apple Color Emoji', 'Segoe UI Emoji', 'Segoe UI Symbol'\" font-style=\"italic\" font-size=\"13.00\">string</text>\n",
       "<polygon fill=\"#f5f5f5\" stroke=\"none\" points=\"441.5,-16.5 441.5,-39.5 473.5,-39.5 473.5,-16.5 441.5,-16.5\"/>\n",
       "<polygon fill=\"#f5f5f5\" stroke=\"none\" points=\"473.5,-16.5 473.5,-39.5 626.5,-39.5 626.5,-16.5 473.5,-16.5\"/>\n",
       "<text text-anchor=\"start\" x=\"478.38\" y=\"-22.15\" font-family=\"-apple-system, BlinkMacSystemFont, 'Segoe UI', Helvetica, Arial, sans-serif, 'Apple Color Emoji', 'Segoe UI Emoji', 'Segoe UI Symbol'\" font-size=\"13.00\">PurchasingPricePerUnit</text>\n",
       "<polygon fill=\"#f5f5f5\" stroke=\"none\" points=\"626.5,-16.5 626.5,-39.5 669.5,-39.5 669.5,-16.5 626.5,-16.5\"/>\n",
       "<text text-anchor=\"start\" x=\"639\" y=\"-23.15\" font-family=\"-apple-system, BlinkMacSystemFont, 'Segoe UI', Helvetica, Arial, sans-serif, 'Apple Color Emoji', 'Segoe UI Emoji', 'Segoe UI Symbol'\" font-style=\"italic\" font-size=\"13.00\">float</text>\n",
       "<polygon fill=\"none\" stroke=\"black\" points=\"440.5,-15.5 440.5,-155.5 670.5,-155.5 670.5,-15.5 440.5,-15.5\"/>\n",
       "</g>\n",
       "<!-- Orders&#45;&gt;Products -->\n",
       "<g id=\"edge1\" class=\"edge\">\n",
       "<title>Orders-&gt;Products</title>\n",
       "<path fill=\"none\" stroke=\"black\" d=\"M256.73,-85.5C308.67,-85.5 368.77,-85.5 421.31,-85.5\"/>\n",
       "<polygon fill=\"black\" stroke=\"black\" points=\"421.24,-89 431.24,-85.5 421.24,-82 421.24,-89\"/>\n",
       "<text text-anchor=\"middle\" x=\"344.75\" y=\"-88.15\" font-family=\"-apple-system, BlinkMacSystemFont, 'Segoe UI', Helvetica, Arial, sans-serif, 'Apple Color Emoji', 'Segoe UI Emoji', 'Segoe UI Symbol'\" font-size=\"13.00\">Product Id → ProductId</text>\n",
       "</g>\n",
       "</g>\n",
       "</svg>"
      ],
      "text/plain": [
       "<IPython.core.display.SVG object>"
      ]
     },
     "execution_count": 15,
     "metadata": {},
     "output_type": "execute_result"
    }
   ],
   "source": [
    "cube.schema"
   ]
  },
  {
   "cell_type": "code",
   "execution_count": 16,
   "id": "99152d85-86c7-439a-aa5c-5cedfac66fb1",
   "metadata": {},
   "outputs": [
    {
     "data": {
      "application/json": {
       "Dimensions": {
        "Orders": {
         "Order Date": [
          "Order Date"
         ],
         "Order Id": [
          "Order Id"
         ],
         "Product Id": [
          "Product Id"
         ],
         "Shipper Name": [
          "Shipper Name"
         ]
        },
        "Products": {
         "ProductCategory": [
          "ProductCategory"
         ],
         "ProductName": [
          "ProductName"
         ],
         "Supplier": [
          "Supplier"
         ]
        }
       },
       "Measures": {
        "Quantity Sold.MEAN": {
         "formatter": "DOUBLE[#,###.00]"
        },
        "Quantity Sold.SUM": {
         "formatter": "INT[#,###]"
        },
        "Selling Price Per Unit.MEAN": {
         "formatter": "DOUBLE[#,###.00]"
        },
        "Selling Price Per Unit.SUM": {
         "formatter": "DOUBLE[#,###.00]"
        },
        "contributors.COUNT": {
         "formatter": "INT[#,###]"
        }
       }
      },
      "text/html": [
       "<ul>\n",
       "<li>Order Cube\n",
       "  <ul>\n",
       "  <li>Dimensions\n",
       "    <ul>\n",
       "    <li>Orders\n",
       "      <ul>\n",
       "      <li>Order Date\n",
       "        <ol>\n",
       "        <li>Order Date</li>\n",
       "        </ol>      </li>\n",
       "      <li>Order Id\n",
       "        <ol>\n",
       "        <li>Order Id</li>\n",
       "        </ol>      </li>\n",
       "      <li>Product Id\n",
       "        <ol>\n",
       "        <li>Product Id</li>\n",
       "        </ol>      </li>\n",
       "      <li>Shipper Name\n",
       "        <ol>\n",
       "        <li>Shipper Name</li>\n",
       "        </ol>      </li>\n",
       "      </ul>\n",
       "    </li>\n",
       "    <li>Products\n",
       "      <ul>\n",
       "      <li>ProductCategory\n",
       "        <ol>\n",
       "        <li>ProductCategory</li>\n",
       "        </ol>      </li>\n",
       "      <li>ProductName\n",
       "        <ol>\n",
       "        <li>ProductName</li>\n",
       "        </ol>      </li>\n",
       "      <li>Supplier\n",
       "        <ol>\n",
       "        <li>Supplier</li>\n",
       "        </ol>      </li>\n",
       "      </ul>\n",
       "    </li>\n",
       "    </ul>\n",
       "  </li>\n",
       "  <li>Measures\n",
       "    <ul>\n",
       "    <li>Quantity Sold.MEAN\n",
       "      <ul>\n",
       "      <li>formatter: DOUBLE[#,###.00]</li>\n",
       "      </ul>\n",
       "    </li>\n",
       "    <li>Quantity Sold.SUM\n",
       "      <ul>\n",
       "      <li>formatter: INT[#,###]</li>\n",
       "      </ul>\n",
       "    </li>\n",
       "    <li>Selling Price Per Unit.MEAN\n",
       "      <ul>\n",
       "      <li>formatter: DOUBLE[#,###.00]</li>\n",
       "      </ul>\n",
       "    </li>\n",
       "    <li>Selling Price Per Unit.SUM\n",
       "      <ul>\n",
       "      <li>formatter: DOUBLE[#,###.00]</li>\n",
       "      </ul>\n",
       "    </li>\n",
       "    <li>contributors.COUNT\n",
       "      <ul>\n",
       "      <li>formatter: INT[#,###]</li>\n",
       "      </ul>\n",
       "    </li>\n",
       "    </ul>\n",
       "  </li>\n",
       "  </ul>\n",
       "</li>\n",
       "</ul>\n"
      ],
      "text/plain": [
       "<atoti.cube.Cube at 0x11fd16410>"
      ]
     },
     "execution_count": 16,
     "metadata": {
      "application/json": {
       "expanded": false,
       "root": "Order Cube"
      }
     },
     "output_type": "execute_result"
    }
   ],
   "source": [
    "cube"
   ]
  },
  {
   "cell_type": "code",
   "execution_count": 17,
   "id": "090b6964-07c7-45d1-9620-4654d06e8dd4",
   "metadata": {},
   "outputs": [
    {
     "data": {
      "application/json": {
       "Quantity Sold.MEAN": {
        "formatter": "DOUBLE[#,###.00]"
       },
       "Quantity Sold.SUM": {
        "formatter": "INT[#,###]"
       },
       "Selling Price Per Unit.MEAN": {
        "formatter": "DOUBLE[#,###.00]"
       },
       "Selling Price Per Unit.SUM": {
        "formatter": "DOUBLE[#,###.00]"
       },
       "contributors.COUNT": {
        "formatter": "INT[#,###]"
       }
      },
      "text/html": [
       "<ul>\n",
       "<li>Measures\n",
       "  <ul>\n",
       "  <li>Quantity Sold.MEAN\n",
       "    <ul>\n",
       "    <li>formatter: DOUBLE[#,###.00]</li>\n",
       "    </ul>\n",
       "  </li>\n",
       "  <li>Quantity Sold.SUM\n",
       "    <ul>\n",
       "    <li>formatter: INT[#,###]</li>\n",
       "    </ul>\n",
       "  </li>\n",
       "  <li>Selling Price Per Unit.MEAN\n",
       "    <ul>\n",
       "    <li>formatter: DOUBLE[#,###.00]</li>\n",
       "    </ul>\n",
       "  </li>\n",
       "  <li>Selling Price Per Unit.SUM\n",
       "    <ul>\n",
       "    <li>formatter: DOUBLE[#,###.00]</li>\n",
       "    </ul>\n",
       "  </li>\n",
       "  <li>contributors.COUNT\n",
       "    <ul>\n",
       "    <li>formatter: INT[#,###]</li>\n",
       "    </ul>\n",
       "  </li>\n",
       "  </ul>\n",
       "</li>\n",
       "</ul>\n"
      ],
      "text/plain": [
       "{'contributors.COUNT': <atoti.measure.Measure object at 0x11fd50e10>, 'update.TIMESTAMP': <atoti.measure.Measure object at 0x11fd50950>, 'Quantity Sold.MEAN': <atoti.measure.Measure object at 0x11fd50c10>, 'Quantity Sold.SUM': <atoti.measure.Measure object at 0x11fd50ad0>, 'Selling Price Per Unit.MEAN': <atoti.measure.Measure object at 0x11fd50b50>, 'Selling Price Per Unit.SUM': <atoti.measure.Measure object at 0x11fd50a90>}"
      ]
     },
     "execution_count": 17,
     "metadata": {
      "application/json": {
       "expanded": false,
       "root": "Measures"
      }
     },
     "output_type": "execute_result"
    }
   ],
   "source": [
    "cube.measures"
   ]
  },
  {
   "cell_type": "code",
   "execution_count": 18,
   "id": "b063c206-10f9-4418-b9c8-0e71af9c165d",
   "metadata": {},
   "outputs": [],
   "source": [
    "h, l, m = cube.hierarchies, cube.levels, cube.measures"
   ]
  },
  {
   "cell_type": "code",
   "execution_count": 19,
   "id": "b58b9995-2b4a-42ec-9f0e-c760f50b1989",
   "metadata": {},
   "outputs": [
    {
     "data": {
      "application/json": [
       "Order Date"
      ],
      "text/html": [
       "<ul>\n",
       "<li>Order Date\n",
       "  <ol>\n",
       "  <li>Order Date</li>\n",
       "  </ol></li>\n",
       "</ul>\n"
      ],
      "text/plain": [
       "<atoti.hierarchy.Hierarchy at 0x11fd6cf10>"
      ]
     },
     "execution_count": 19,
     "metadata": {
      "application/json": {
       "expanded": false,
       "root": "Order Date"
      }
     },
     "output_type": "execute_result"
    }
   ],
   "source": [
    "h[\"Order Date\"]"
   ]
  },
  {
   "cell_type": "code",
   "execution_count": 20,
   "id": "a201fc1c-5024-4eaa-9bc0-4f32f8ffebd6",
   "metadata": {},
   "outputs": [],
   "source": [
    "cube.hierarchies[\"Product Tree\"] = [\n",
    "    product_tbl[\"ProductCategory\"],\n",
    "    product_tbl[\"ProductName\"],\n",
    "]"
   ]
  },
  {
   "cell_type": "code",
   "execution_count": 21,
   "id": "9cfd31d4-87aa-4e4f-90d3-b15cdf55f810",
   "metadata": {},
   "outputs": [],
   "source": [
    "cube.create_date_hierarchy(\n",
    "    \"Date Hierarchy\",\n",
    "    column=orders_tbl[\"Order Date\"],\n",
    "    levels={\"Year\": \"yyyy\", \"Month\": \"MM\"},\n",
    ")\n",
    "h[\"Date Hierarchy\"] = {\n",
    "    **h[\"Date Hierarchy\"].levels,\n",
    "    \"Order Date\": orders_tbl[\"Order Date\"],\n",
    "}"
   ]
  },
  {
   "cell_type": "code",
   "execution_count": null,
   "id": "a6e013f1-980a-4a41-8a4e-17f5dbfb064b",
   "metadata": {},
   "outputs": [
    {
     "name": "stderr",
     "output_type": "stream",
     "text": [
      "/opt/homebrew/lib/python3.11/site-packages/atoti_core/base_session.py:113: FutureWarning: `Session.visualize()` is deprecated, use `Session.widget` instead.\n",
      "  deprecated(\"`Session.visualize()` is deprecated, use `Session.widget` instead.\")\n"
     ]
    },
    {
     "data": {
      "application/vnd.atoti.widget.v0+json": {
       "sessionId": "1701835960_L63CXN",
       "sessionLocation": {
        "https": false,
        "port": 9092
       },
       "widgetCreationCode": "session.widget"
      },
      "text/plain": [
       "Open the notebook in JupyterLab with the Atoti JupyterLab extension enabled to build this widget."
      ]
     },
     "metadata": {},
     "output_type": "display_data"
    }
   ],
   "source": [
    "session.visualize(\"Single-level hierarchies exploration\")"
   ]
  },
  {
   "cell_type": "code",
   "execution_count": null,
   "id": "70d464c9-cf29-473a-a9bc-75551a393606",
   "metadata": {},
   "outputs": [],
   "source": []
  }
 ],
 "metadata": {
  "kernelspec": {
   "display_name": "Python 3 (ipykernel)",
   "language": "python",
   "name": "python3"
  },
  "language_info": {
   "codemirror_mode": {
    "name": "ipython",
    "version": 3
   },
   "file_extension": ".py",
   "mimetype": "text/x-python",
   "name": "python",
   "nbconvert_exporter": "python",
   "pygments_lexer": "ipython3",
   "version": "3.11.6"
  }
 },
 "nbformat": 4,
 "nbformat_minor": 5
}
