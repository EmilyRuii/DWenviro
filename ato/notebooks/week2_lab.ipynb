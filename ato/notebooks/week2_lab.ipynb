{
 "cells": [
  {
   "cell_type": "markdown",
   "source": [
    "# Week 2 Lab\n",
    "This one aims to load the data into the database"
   ],
   "metadata": {
    "collapsed": false
   },
   "id": "186ceb2ddf615eea"
  },
  {
   "cell_type": "code",
   "execution_count": null,
   "id": "initial_id",
   "metadata": {
    "collapsed": true
   },
   "outputs": [],
   "source": []
  }
 ],
 "metadata": {
  "kernelspec": {
   "display_name": "Python 3",
   "language": "python",
   "name": "python3"
  },
  "language_info": {
   "codemirror_mode": {
    "name": "ipython",
    "version": 2
   },
   "file_extension": ".py",
   "mimetype": "text/x-python",
   "name": "python",
   "nbconvert_exporter": "python",
   "pygments_lexer": "ipython2",
   "version": "2.7.6"
  }
 },
 "nbformat": 4,
 "nbformat_minor": 5
}
