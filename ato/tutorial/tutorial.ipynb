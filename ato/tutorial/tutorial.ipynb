{
 "cells": [
  {
   "cell_type": "markdown",
   "metadata": {},
   "source": [
    "# Tutorial\n",
    "\n",
    "This tutorial will walk you through the main features of Atoti by creating an application to analyze the sales of a company.\n",
    "\n",
    "We'll see how to:\n",
    "\n",
    "- Load normalized data in multiple tables to create a multidimensional cube.\n",
    "- Define aggregated measures to provide application-specific and high-level insights.\n",
    "- Build no-code interactive charts and tables in JupyterLab.\n",
    "- Create dashboards in the built-in web app.\n",
    "\n",
    "We encourage you to play this notebook in JupyterLab:\n",
    "\n",
    "- Copy the tutorial: `python -m atoti.copy_tutorial tutorial`\n",
    "- Open JupyterLab: `jupyter lab`\n",
    "- Open the created **tutorial** directory and start playing its notebook.\n",
    "\n",
    "For more information about a functionality, you can use the API reference or <kbd>Shift ⇧</kbd> + <kbd>Tab ⇥</kbd> on a Python symbol in JupyterLab."
   ]
  },
  {
   "cell_type": "markdown",
   "metadata": {},
   "source": [
    "## Getting started\n",
    "\n",
    "### From CSV to Cube\n",
    "\n",
    "In this part of the tutorial, you will create your first cube from a CSV file and learn multidimensional concepts such as _cube_, _dimension_, _hierarchy_, _measure_.\n",
    "\n",
    "Let's start by creating a _session_:"
   ]
  },
  {
   "cell_type": "code",
   "execution_count": 1,
   "metadata": {
    "ExecuteTime": {
     "end_time": "2023-12-08T07:52:24.287159Z",
     "start_time": "2023-12-08T07:52:23.416126Z"
    }
   },
   "outputs": [
    {
     "name": "stdout",
     "output_type": "stream",
     "text": [
      "Welcome to Atoti 0.8.7!\n",
      "\n",
      "By using this community edition, you agree with the license available at https://docs.atoti.io/latest/eula.html.\n",
      "Browse the official documentation at https://docs.atoti.io.\n",
      "Join the community at https://www.atoti.io/register.\n",
      "\n",
      "Atoti collects telemetry data, which is used to help understand how to improve the product.\n",
      "If you don't wish to send usage data, you can request a trial license at https://www.atoti.io/evaluation-license-request.\n",
      "\n",
      "You can hide this message by setting the `ATOTI_HIDE_EULA_MESSAGE` environment variable to True.\n"
     ]
    }
   ],
   "source": [
    "import atoti as tt"
   ]
  },
  {
   "cell_type": "code",
   "execution_count": 2,
   "metadata": {
    "ExecuteTime": {
     "end_time": "2023-12-08T07:52:31.597953Z",
     "start_time": "2023-12-08T07:52:26.946512Z"
    }
   },
   "outputs": [],
   "source": [
    "session = tt.Session()"
   ]
  },
  {
   "cell_type": "markdown",
   "metadata": {},
   "source": [
    "We can now load the data from a CSV file into an in-memory table called a _table_:"
   ]
  },
  {
   "cell_type": "code",
   "execution_count": 3,
   "metadata": {
    "ExecuteTime": {
     "end_time": "2023-12-08T07:52:34.828327Z",
     "start_time": "2023-12-08T07:52:34.331135Z"
    }
   },
   "outputs": [],
   "source": [
    "sales_table = session.read_csv(\"data/sales.csv\", keys=[\"Sale ID\"])"
   ]
  },
  {
   "cell_type": "markdown",
   "metadata": {},
   "source": [
    "We can have a look at the loaded data.\n",
    "They are sales from a company:"
   ]
  },
  {
   "cell_type": "code",
   "execution_count": 4,
   "metadata": {
    "ExecuteTime": {
     "end_time": "2023-12-08T07:52:36.664946Z",
     "start_time": "2023-12-08T07:52:36.065388Z"
    }
   },
   "outputs": [
    {
     "data": {
      "text/html": [
       "<div>\n",
       "<style scoped>\n",
       "    .dataframe tbody tr th:only-of-type {\n",
       "        vertical-align: middle;\n",
       "    }\n",
       "\n",
       "    .dataframe tbody tr th {\n",
       "        vertical-align: top;\n",
       "    }\n",
       "\n",
       "    .dataframe thead th {\n",
       "        text-align: right;\n",
       "    }\n",
       "</style>\n",
       "<table border=\"1\" class=\"dataframe\">\n",
       "  <thead>\n",
       "    <tr style=\"text-align: right;\">\n",
       "      <th></th>\n",
       "      <th>Date</th>\n",
       "      <th>Shop</th>\n",
       "      <th>Product</th>\n",
       "      <th>Quantity</th>\n",
       "      <th>Unit price</th>\n",
       "    </tr>\n",
       "    <tr>\n",
       "      <th>Sale ID</th>\n",
       "      <th></th>\n",
       "      <th></th>\n",
       "      <th></th>\n",
       "      <th></th>\n",
       "      <th></th>\n",
       "    </tr>\n",
       "  </thead>\n",
       "  <tbody>\n",
       "    <tr>\n",
       "      <th>S000004293</th>\n",
       "      <td>2021-02-01</td>\n",
       "      <td>shop_13</td>\n",
       "      <td>CHA_23</td>\n",
       "      <td>1.0</td>\n",
       "      <td>60.0</td>\n",
       "    </tr>\n",
       "    <tr>\n",
       "      <th>S000002865</th>\n",
       "      <td>2021-01-20</td>\n",
       "      <td>shop_25</td>\n",
       "      <td>SHO_59</td>\n",
       "      <td>1.0</td>\n",
       "      <td>60.0</td>\n",
       "    </tr>\n",
       "    <tr>\n",
       "      <th>S000000008</th>\n",
       "      <td>2021-01-27</td>\n",
       "      <td>shop_8</td>\n",
       "      <td>TSH_8</td>\n",
       "      <td>1.0</td>\n",
       "      <td>20.0</td>\n",
       "    </tr>\n",
       "    <tr>\n",
       "      <th>S000001454</th>\n",
       "      <td>2021-01-21</td>\n",
       "      <td>shop_14</td>\n",
       "      <td>TSH_51</td>\n",
       "      <td>4.0</td>\n",
       "      <td>22.0</td>\n",
       "    </tr>\n",
       "    <tr>\n",
       "      <th>S000000010</th>\n",
       "      <td>2021-01-25</td>\n",
       "      <td>shop_10</td>\n",
       "      <td>TSH_10</td>\n",
       "      <td>1.0</td>\n",
       "      <td>24.0</td>\n",
       "    </tr>\n",
       "  </tbody>\n",
       "</table>\n",
       "</div>"
      ],
      "text/plain": [
       "                 Date     Shop Product  Quantity  Unit price\n",
       "Sale ID                                                     \n",
       "S000004293 2021-02-01  shop_13  CHA_23       1.0        60.0\n",
       "S000002865 2021-01-20  shop_25  SHO_59       1.0        60.0\n",
       "S000000008 2021-01-27   shop_8   TSH_8       1.0        20.0\n",
       "S000001454 2021-01-21  shop_14  TSH_51       4.0        22.0\n",
       "S000000010 2021-01-25  shop_10  TSH_10       1.0        24.0"
      ]
     },
     "execution_count": 4,
     "metadata": {},
     "output_type": "execute_result"
    }
   ],
   "source": [
    "sales_table.head()"
   ]
  },
  {
   "cell_type": "markdown",
   "metadata": {},
   "source": [
    "We will come back to tables in details later, for now we will use the one we have to create a _cube_:"
   ]
  },
  {
   "cell_type": "code",
   "execution_count": 5,
   "metadata": {
    "ExecuteTime": {
     "end_time": "2023-12-08T07:52:38.595044Z",
     "start_time": "2023-12-08T07:52:38.114393Z"
    }
   },
   "outputs": [],
   "source": [
    "cube = session.create_cube(sales_table)"
   ]
  },
  {
   "cell_type": "markdown",
   "metadata": {},
   "source": [
    "That's it, you have created your first cube!\n",
    "But what's a cube exactly and how to use it?"
   ]
  },
  {
   "cell_type": "markdown",
   "metadata": {},
   "source": [
    "### Multidimensional concepts\n",
    "\n",
    "A _cube_ is a multidimensional view of some data, making it easy to explore, aggregate, filter and compare.\n",
    "It's called a cube because each attribute of the data can be represented as a dimension of the cube:\n",
    "\n",
    "<img alt=\"Multidimensional cube concept\" src=\"images/cube-concept.svg\" width=\"400\" />\n",
    "\n",
    "The axes of the cube are called _hierarchies_.\n",
    "The purpose of multidimensional analysis is to visualize some numeric indicators at specific coordinates of the cube.\n",
    "These indicators are called _measures_.\n",
    "An example of measure would be the quantity of products sold.\n",
    "\n",
    "We can list the hierarchies in our cube:"
   ]
  },
  {
   "cell_type": "code",
   "execution_count": 6,
   "metadata": {
    "ExecuteTime": {
     "end_time": "2023-12-08T07:52:44.392964Z",
     "start_time": "2023-12-08T07:52:44.346382Z"
    }
   },
   "outputs": [
    {
     "data": {
      "application/json": {
       "Sales": {
        "Date": [
         "Date"
        ],
        "Product": [
         "Product"
        ],
        "Sale ID": [
         "Sale ID"
        ],
        "Shop": [
         "Shop"
        ]
       }
      },
      "text/html": [
       "<ul>\n",
       "<li>Dimensions\n",
       "  <ul>\n",
       "  <li>Sales\n",
       "    <ul>\n",
       "    <li>Date\n",
       "      <ol>\n",
       "      <li>Date</li>\n",
       "      </ol>    </li>\n",
       "    <li>Product\n",
       "      <ol>\n",
       "      <li>Product</li>\n",
       "      </ol>    </li>\n",
       "    <li>Sale ID\n",
       "      <ol>\n",
       "      <li>Sale ID</li>\n",
       "      </ol>    </li>\n",
       "    <li>Shop\n",
       "      <ol>\n",
       "      <li>Shop</li>\n",
       "      </ol>    </li>\n",
       "    </ul>\n",
       "  </li>\n",
       "  </ul>\n",
       "</li>\n",
       "</ul>\n"
      ],
      "text/plain": [
       "{('Sales', 'Sale ID'): <atoti.hierarchy.Hierarchy object at 0x12f6f2fd0>, ('Sales', 'Product'): <atoti.hierarchy.Hierarchy object at 0x12f4c2c50>, ('Sales', 'Date'): <atoti.hierarchy.Hierarchy object at 0x13a008810>, ('Sales', 'Shop'): <atoti.hierarchy.Hierarchy object at 0x13a008950>}"
      ]
     },
     "execution_count": 6,
     "metadata": {
      "application/json": {
       "expanded": true,
       "root": "Dimensions"
      }
     },
     "output_type": "execute_result"
    }
   ],
   "source": [
    "# Aliasing the hierarchies property to a shorter variable name because we will use it a lot.\n",
    "h = cube.hierarchies\n",
    "h"
   ]
  },
  {
   "cell_type": "markdown",
   "metadata": {},
   "source": [
    "The cube has automatically created a hierarchy for each non numeric column: **Date**, **Product**, **Sale ID** and **Shop**.\n",
    "\n",
    "You can see that the hierarchy are grouped into dimensions.\n",
    "Here we have a single dimension called **Sales**, which is the name of the table the columns come from. We will see how to move hierarchies between dimensions later.\n",
    "\n",
    "Hierarchies are also made of _levels_.\n",
    "Levels of the same hierarchy are attributes with a parent-child relationship.\n",
    "For instance, a city belongs to a country so **Country** and **City** could be the two levels of a **Geography** hierarchy.\n",
    "\n",
    "At the moment, we only have single-level hierarchies."
   ]
  },
  {
   "cell_type": "code",
   "execution_count": 19,
   "metadata": {
    "ExecuteTime": {
     "end_time": "2023-12-08T07:52:46.625298Z",
     "start_time": "2023-12-08T07:52:46.592960Z"
    }
   },
   "outputs": [],
   "source": [
    "l = cube.levels"
   ]
  },
  {
   "cell_type": "markdown",
   "metadata": {},
   "source": [
    "Let's have a look at the measures of the cube that have been inferred from the data:"
   ]
  },
  {
   "cell_type": "code",
   "execution_count": 20,
   "metadata": {},
   "outputs": [
    {
     "data": {
      "application/json": {
       "Date (Sales/Date/Date)": {
        "dimension": "Sales",
        "hierarchy": "Date",
        "order": "NaturalOrder",
        "type": "LocalDate"
       },
       "Product (Sales/Product/Product)": {
        "dimension": "Sales",
        "hierarchy": "Product",
        "order": "NaturalOrder",
        "type": "String"
       },
       "Sale ID (Sales/Sale ID/Sale ID)": {
        "dimension": "Sales",
        "hierarchy": "Sale ID",
        "order": "NaturalOrder",
        "type": "String"
       },
       "Shop (Sales/Shop/Shop)": {
        "dimension": "Sales",
        "hierarchy": "Shop",
        "order": "NaturalOrder",
        "type": "String"
       }
      },
      "text/html": [
       "<ul>\n",
       "<li>Levels\n",
       "  <ul>\n",
       "  <li>Date (Sales/Date/Date)\n",
       "    <ul>\n",
       "    <li>dimension: Sales</li>\n",
       "    <li>hierarchy: Date</li>\n",
       "    <li>type: LocalDate</li>\n",
       "    <li>order: NaturalOrder</li>\n",
       "    </ul>\n",
       "  </li>\n",
       "  <li>Product (Sales/Product/Product)\n",
       "    <ul>\n",
       "    <li>dimension: Sales</li>\n",
       "    <li>hierarchy: Product</li>\n",
       "    <li>type: String</li>\n",
       "    <li>order: NaturalOrder</li>\n",
       "    </ul>\n",
       "  </li>\n",
       "  <li>Sale ID (Sales/Sale ID/Sale ID)\n",
       "    <ul>\n",
       "    <li>dimension: Sales</li>\n",
       "    <li>hierarchy: Sale ID</li>\n",
       "    <li>type: String</li>\n",
       "    <li>order: NaturalOrder</li>\n",
       "    </ul>\n",
       "  </li>\n",
       "  <li>Shop (Sales/Shop/Shop)\n",
       "    <ul>\n",
       "    <li>dimension: Sales</li>\n",
       "    <li>hierarchy: Shop</li>\n",
       "    <li>type: String</li>\n",
       "    <li>order: NaturalOrder</li>\n",
       "    </ul>\n",
       "  </li>\n",
       "  </ul>\n",
       "</li>\n",
       "</ul>\n"
      ],
      "text/plain": [
       "<atoti.levels.Levels at 0x13a000a50>"
      ]
     },
     "execution_count": 20,
     "metadata": {
      "application/json": {
       "expanded": true,
       "root": "Levels"
      }
     },
     "output_type": "execute_result"
    }
   ],
   "source": [
    "l"
   ]
  },
  {
   "cell_type": "code",
   "execution_count": 8,
   "metadata": {
    "ExecuteTime": {
     "end_time": "2023-12-08T07:52:48.563263Z",
     "start_time": "2023-12-08T07:52:48.525746Z"
    }
   },
   "outputs": [
    {
     "data": {
      "application/json": {
       "Quantity.MEAN": {
        "formatter": "DOUBLE[#,###.00]"
       },
       "Quantity.SUM": {
        "formatter": "DOUBLE[#,###.00]"
       },
       "Unit price.MEAN": {
        "formatter": "DOUBLE[#,###.00]"
       },
       "Unit price.SUM": {
        "formatter": "DOUBLE[#,###.00]"
       },
       "contributors.COUNT": {
        "formatter": "INT[#,###]"
       }
      },
      "text/html": [
       "<ul>\n",
       "<li>Measures\n",
       "  <ul>\n",
       "  <li>Quantity.MEAN\n",
       "    <ul>\n",
       "    <li>formatter: DOUBLE[#,###.00]</li>\n",
       "    </ul>\n",
       "  </li>\n",
       "  <li>Quantity.SUM\n",
       "    <ul>\n",
       "    <li>formatter: DOUBLE[#,###.00]</li>\n",
       "    </ul>\n",
       "  </li>\n",
       "  <li>Unit price.MEAN\n",
       "    <ul>\n",
       "    <li>formatter: DOUBLE[#,###.00]</li>\n",
       "    </ul>\n",
       "  </li>\n",
       "  <li>Unit price.SUM\n",
       "    <ul>\n",
       "    <li>formatter: DOUBLE[#,###.00]</li>\n",
       "    </ul>\n",
       "  </li>\n",
       "  <li>contributors.COUNT\n",
       "    <ul>\n",
       "    <li>formatter: INT[#,###]</li>\n",
       "    </ul>\n",
       "  </li>\n",
       "  </ul>\n",
       "</li>\n",
       "</ul>\n"
      ],
      "text/plain": [
       "{'contributors.COUNT': <atoti.measure.Measure object at 0x13a024110>, 'update.TIMESTAMP': <atoti.measure.Measure object at 0x13a024190>, 'Unit price.MEAN': <atoti.measure.Measure object at 0x13a0241d0>, 'Unit price.SUM': <atoti.measure.Measure object at 0x13a024210>, 'Quantity.MEAN': <atoti.measure.Measure object at 0x13a024250>, 'Quantity.SUM': <atoti.measure.Measure object at 0x13a024290>}"
      ]
     },
     "execution_count": 8,
     "metadata": {
      "application/json": {
       "expanded": false,
       "root": "Measures"
      }
     },
     "output_type": "execute_result"
    }
   ],
   "source": [
    "m = cube.measures\n",
    "m"
   ]
  },
  {
   "cell_type": "markdown",
   "metadata": {},
   "source": [
    "The cube has automatically created the _sum_ and _mean_ aggregations for all the numeric columns of the dataset.\n",
    "\n",
    "Note that a measure isn't a single result number, it's more a formula that can be evaluated for any coordinates of the cube.\n",
    "\n",
    "For instance, we can query the _grand total_ of **Quantity.SUM**, which means summing the sold quantities over the whole dataset:\n",
    "\n",
    "<img alt=\"Grand total\" src=\"images/grand-total.svg\" width=\"400\" />"
   ]
  },
  {
   "cell_type": "code",
   "execution_count": 9,
   "metadata": {
    "ExecuteTime": {
     "end_time": "2023-12-08T07:52:50.688129Z",
     "start_time": "2023-12-08T07:52:50.183542Z"
    }
   },
   "outputs": [
    {
     "data": {
      "text/html": [
       "<div>\n",
       "<style scoped>\n",
       "    .dataframe tbody tr th:only-of-type {\n",
       "        vertical-align: middle;\n",
       "    }\n",
       "\n",
       "    .dataframe tbody tr th {\n",
       "        vertical-align: top;\n",
       "    }\n",
       "\n",
       "    .dataframe thead th {\n",
       "        text-align: right;\n",
       "    }\n",
       "</style>\n",
       "<table border=\"1\" class=\"dataframe\">\n",
       "  <thead>\n",
       "    <tr style=\"text-align: right;\">\n",
       "      <th></th>\n",
       "      <th>Quantity.SUM</th>\n",
       "    </tr>\n",
       "  </thead>\n",
       "  <tbody>\n",
       "    <tr>\n",
       "      <th>0</th>\n",
       "      <td>8,077.00</td>\n",
       "    </tr>\n",
       "  </tbody>\n",
       "</table>\n",
       "</div>"
      ],
      "text/plain": [
       "  Quantity.SUM\n",
       "0     8,077.00"
      ]
     },
     "execution_count": 9,
     "metadata": {},
     "output_type": "execute_result"
    }
   ],
   "source": [
    "cube.query(m[\"Quantity.SUM\"])"
   ]
  },
  {
   "cell_type": "markdown",
   "metadata": {},
   "source": [
    "But we can also _dice_ the cube to get the quantity for each **Shop**, which means taking one _slice_ of the cube for each **Shop**:\n",
    "\n",
    "<img alt=\"Dicing the cube\" src=\"images/slices.svg\" width=\"400\" />"
   ]
  },
  {
   "cell_type": "code",
   "execution_count": 10,
   "metadata": {
    "ExecuteTime": {
     "end_time": "2023-12-08T07:52:51.127331Z",
     "start_time": "2023-12-08T07:52:51.079814Z"
    }
   },
   "outputs": [
    {
     "data": {
      "text/html": [
       "<div>\n",
       "<style scoped>\n",
       "    .dataframe tbody tr th:only-of-type {\n",
       "        vertical-align: middle;\n",
       "    }\n",
       "\n",
       "    .dataframe tbody tr th {\n",
       "        vertical-align: top;\n",
       "    }\n",
       "\n",
       "    .dataframe thead th {\n",
       "        text-align: right;\n",
       "    }\n",
       "</style>\n",
       "<table border=\"1\" class=\"dataframe\">\n",
       "  <thead>\n",
       "    <tr style=\"text-align: right;\">\n",
       "      <th></th>\n",
       "      <th>Quantity.SUM</th>\n",
       "    </tr>\n",
       "    <tr>\n",
       "      <th>Shop</th>\n",
       "      <th></th>\n",
       "    </tr>\n",
       "  </thead>\n",
       "  <tbody>\n",
       "    <tr>\n",
       "      <th>shop_0</th>\n",
       "      <td>202.00</td>\n",
       "    </tr>\n",
       "    <tr>\n",
       "      <th>shop_1</th>\n",
       "      <td>202.00</td>\n",
       "    </tr>\n",
       "    <tr>\n",
       "      <th>shop_10</th>\n",
       "      <td>203.00</td>\n",
       "    </tr>\n",
       "    <tr>\n",
       "      <th>shop_11</th>\n",
       "      <td>203.00</td>\n",
       "    </tr>\n",
       "    <tr>\n",
       "      <th>shop_12</th>\n",
       "      <td>201.00</td>\n",
       "    </tr>\n",
       "    <tr>\n",
       "      <th>shop_13</th>\n",
       "      <td>202.00</td>\n",
       "    </tr>\n",
       "    <tr>\n",
       "      <th>shop_14</th>\n",
       "      <td>202.00</td>\n",
       "    </tr>\n",
       "    <tr>\n",
       "      <th>shop_15</th>\n",
       "      <td>202.00</td>\n",
       "    </tr>\n",
       "    <tr>\n",
       "      <th>shop_16</th>\n",
       "      <td>201.00</td>\n",
       "    </tr>\n",
       "    <tr>\n",
       "      <th>shop_17</th>\n",
       "      <td>204.00</td>\n",
       "    </tr>\n",
       "    <tr>\n",
       "      <th>shop_18</th>\n",
       "      <td>202.00</td>\n",
       "    </tr>\n",
       "    <tr>\n",
       "      <th>shop_19</th>\n",
       "      <td>202.00</td>\n",
       "    </tr>\n",
       "    <tr>\n",
       "      <th>shop_2</th>\n",
       "      <td>202.00</td>\n",
       "    </tr>\n",
       "    <tr>\n",
       "      <th>shop_20</th>\n",
       "      <td>201.00</td>\n",
       "    </tr>\n",
       "    <tr>\n",
       "      <th>shop_21</th>\n",
       "      <td>201.00</td>\n",
       "    </tr>\n",
       "    <tr>\n",
       "      <th>shop_22</th>\n",
       "      <td>201.00</td>\n",
       "    </tr>\n",
       "    <tr>\n",
       "      <th>shop_23</th>\n",
       "      <td>203.00</td>\n",
       "    </tr>\n",
       "    <tr>\n",
       "      <th>shop_24</th>\n",
       "      <td>203.00</td>\n",
       "    </tr>\n",
       "    <tr>\n",
       "      <th>shop_25</th>\n",
       "      <td>201.00</td>\n",
       "    </tr>\n",
       "    <tr>\n",
       "      <th>shop_26</th>\n",
       "      <td>202.00</td>\n",
       "    </tr>\n",
       "    <tr>\n",
       "      <th>shop_27</th>\n",
       "      <td>202.00</td>\n",
       "    </tr>\n",
       "    <tr>\n",
       "      <th>shop_28</th>\n",
       "      <td>202.00</td>\n",
       "    </tr>\n",
       "    <tr>\n",
       "      <th>shop_29</th>\n",
       "      <td>201.00</td>\n",
       "    </tr>\n",
       "    <tr>\n",
       "      <th>shop_3</th>\n",
       "      <td>201.00</td>\n",
       "    </tr>\n",
       "    <tr>\n",
       "      <th>shop_30</th>\n",
       "      <td>204.00</td>\n",
       "    </tr>\n",
       "    <tr>\n",
       "      <th>shop_31</th>\n",
       "      <td>202.00</td>\n",
       "    </tr>\n",
       "    <tr>\n",
       "      <th>shop_32</th>\n",
       "      <td>202.00</td>\n",
       "    </tr>\n",
       "    <tr>\n",
       "      <th>shop_33</th>\n",
       "      <td>201.00</td>\n",
       "    </tr>\n",
       "    <tr>\n",
       "      <th>shop_34</th>\n",
       "      <td>201.00</td>\n",
       "    </tr>\n",
       "    <tr>\n",
       "      <th>shop_35</th>\n",
       "      <td>201.00</td>\n",
       "    </tr>\n",
       "    <tr>\n",
       "      <th>shop_36</th>\n",
       "      <td>203.00</td>\n",
       "    </tr>\n",
       "    <tr>\n",
       "      <th>shop_37</th>\n",
       "      <td>203.00</td>\n",
       "    </tr>\n",
       "    <tr>\n",
       "      <th>shop_38</th>\n",
       "      <td>201.00</td>\n",
       "    </tr>\n",
       "    <tr>\n",
       "      <th>shop_39</th>\n",
       "      <td>202.00</td>\n",
       "    </tr>\n",
       "    <tr>\n",
       "      <th>shop_4</th>\n",
       "      <td>204.00</td>\n",
       "    </tr>\n",
       "    <tr>\n",
       "      <th>shop_5</th>\n",
       "      <td>202.00</td>\n",
       "    </tr>\n",
       "    <tr>\n",
       "      <th>shop_6</th>\n",
       "      <td>202.00</td>\n",
       "    </tr>\n",
       "    <tr>\n",
       "      <th>shop_7</th>\n",
       "      <td>201.00</td>\n",
       "    </tr>\n",
       "    <tr>\n",
       "      <th>shop_8</th>\n",
       "      <td>201.00</td>\n",
       "    </tr>\n",
       "    <tr>\n",
       "      <th>shop_9</th>\n",
       "      <td>201.00</td>\n",
       "    </tr>\n",
       "  </tbody>\n",
       "</table>\n",
       "</div>"
      ],
      "text/plain": [
       "        Quantity.SUM\n",
       "Shop                \n",
       "shop_0        202.00\n",
       "shop_1        202.00\n",
       "shop_10       203.00\n",
       "shop_11       203.00\n",
       "shop_12       201.00\n",
       "shop_13       202.00\n",
       "shop_14       202.00\n",
       "shop_15       202.00\n",
       "shop_16       201.00\n",
       "shop_17       204.00\n",
       "shop_18       202.00\n",
       "shop_19       202.00\n",
       "shop_2        202.00\n",
       "shop_20       201.00\n",
       "shop_21       201.00\n",
       "shop_22       201.00\n",
       "shop_23       203.00\n",
       "shop_24       203.00\n",
       "shop_25       201.00\n",
       "shop_26       202.00\n",
       "shop_27       202.00\n",
       "shop_28       202.00\n",
       "shop_29       201.00\n",
       "shop_3        201.00\n",
       "shop_30       204.00\n",
       "shop_31       202.00\n",
       "shop_32       202.00\n",
       "shop_33       201.00\n",
       "shop_34       201.00\n",
       "shop_35       201.00\n",
       "shop_36       203.00\n",
       "shop_37       203.00\n",
       "shop_38       201.00\n",
       "shop_39       202.00\n",
       "shop_4        204.00\n",
       "shop_5        202.00\n",
       "shop_6        202.00\n",
       "shop_7        201.00\n",
       "shop_8        201.00\n",
       "shop_9        201.00"
      ]
     },
     "execution_count": 10,
     "metadata": {},
     "output_type": "execute_result"
    }
   ],
   "source": [
    "cube.query(m[\"Quantity.SUM\"], levels=[l[\"Shop\"]])"
   ]
  },
  {
   "cell_type": "markdown",
   "metadata": {},
   "source": [
    "We can _slice_ on a single **Shop**:\n",
    "\n",
    "<img alt=\"Slicing the cube\" src=\"images/slice.svg\" width=\"400\" />"
   ]
  },
  {
   "cell_type": "code",
   "execution_count": 11,
   "metadata": {
    "ExecuteTime": {
     "end_time": "2023-12-08T07:52:52.276551Z",
     "start_time": "2023-12-08T07:52:52.236524Z"
    }
   },
   "outputs": [
    {
     "data": {
      "text/html": [
       "<div>\n",
       "<style scoped>\n",
       "    .dataframe tbody tr th:only-of-type {\n",
       "        vertical-align: middle;\n",
       "    }\n",
       "\n",
       "    .dataframe tbody tr th {\n",
       "        vertical-align: top;\n",
       "    }\n",
       "\n",
       "    .dataframe thead th {\n",
       "        text-align: right;\n",
       "    }\n",
       "</style>\n",
       "<table border=\"1\" class=\"dataframe\">\n",
       "  <thead>\n",
       "    <tr style=\"text-align: right;\">\n",
       "      <th></th>\n",
       "      <th>Quantity.SUM</th>\n",
       "    </tr>\n",
       "  </thead>\n",
       "  <tbody>\n",
       "    <tr>\n",
       "      <th>0</th>\n",
       "      <td>202.00</td>\n",
       "    </tr>\n",
       "  </tbody>\n",
       "</table>\n",
       "</div>"
      ],
      "text/plain": [
       "  Quantity.SUM\n",
       "0       202.00"
      ]
     },
     "execution_count": 11,
     "metadata": {},
     "output_type": "execute_result"
    }
   ],
   "source": [
    "cube.query(\n",
    "    m[\"Quantity.SUM\"],\n",
    "    filter=l[\"Shop\"] == \"shop_0\",\n",
    ")"
   ]
  },
  {
   "cell_type": "markdown",
   "metadata": {},
   "source": [
    "We can dice along 2 different axes and take the quantity per product and date.\n",
    "\n",
    "<img alt=\"Pivot table\" src=\"images/pivot-table.svg\" width=\"400\" />"
   ]
  },
  {
   "cell_type": "code",
   "execution_count": 12,
   "metadata": {
    "ExecuteTime": {
     "end_time": "2023-12-08T07:52:53.924892Z",
     "start_time": "2023-12-08T07:52:53.763938Z"
    }
   },
   "outputs": [
    {
     "data": {
      "text/html": [
       "<div>\n",
       "<style scoped>\n",
       "    .dataframe tbody tr th:only-of-type {\n",
       "        vertical-align: middle;\n",
       "    }\n",
       "\n",
       "    .dataframe tbody tr th {\n",
       "        vertical-align: top;\n",
       "    }\n",
       "\n",
       "    .dataframe thead th {\n",
       "        text-align: right;\n",
       "    }\n",
       "</style>\n",
       "<table border=\"1\" class=\"dataframe\">\n",
       "  <thead>\n",
       "    <tr style=\"text-align: right;\">\n",
       "      <th></th>\n",
       "      <th></th>\n",
       "      <th>Quantity.SUM</th>\n",
       "    </tr>\n",
       "    <tr>\n",
       "      <th>Date</th>\n",
       "      <th>Product</th>\n",
       "      <th></th>\n",
       "    </tr>\n",
       "  </thead>\n",
       "  <tbody>\n",
       "    <tr>\n",
       "      <th rowspan=\"5\" valign=\"top\">2021-01-06</th>\n",
       "      <th>BED_24</th>\n",
       "      <td>8.00</td>\n",
       "    </tr>\n",
       "    <tr>\n",
       "      <th>BED_25</th>\n",
       "      <td>4.00</td>\n",
       "    </tr>\n",
       "    <tr>\n",
       "      <th>BED_26</th>\n",
       "      <td>6.00</td>\n",
       "    </tr>\n",
       "    <tr>\n",
       "      <th>BED_27</th>\n",
       "      <td>4.00</td>\n",
       "    </tr>\n",
       "    <tr>\n",
       "      <th>BED_3</th>\n",
       "      <td>2.00</td>\n",
       "    </tr>\n",
       "    <tr>\n",
       "      <th>...</th>\n",
       "      <th>...</th>\n",
       "      <td>...</td>\n",
       "    </tr>\n",
       "    <tr>\n",
       "      <th rowspan=\"5\" valign=\"top\">2021-02-04</th>\n",
       "      <th>TSH_52</th>\n",
       "      <td>6.00</td>\n",
       "    </tr>\n",
       "    <tr>\n",
       "      <th>TSH_53</th>\n",
       "      <td>4.00</td>\n",
       "    </tr>\n",
       "    <tr>\n",
       "      <th>TSH_7</th>\n",
       "      <td>3.00</td>\n",
       "    </tr>\n",
       "    <tr>\n",
       "      <th>TSH_8</th>\n",
       "      <td>5.00</td>\n",
       "    </tr>\n",
       "    <tr>\n",
       "      <th>TSH_9</th>\n",
       "      <td>3.00</td>\n",
       "    </tr>\n",
       "  </tbody>\n",
       "</table>\n",
       "<p>1830 rows × 1 columns</p>\n",
       "</div>"
      ],
      "text/plain": [
       "                   Quantity.SUM\n",
       "Date       Product             \n",
       "2021-01-06 BED_24          8.00\n",
       "           BED_25          4.00\n",
       "           BED_26          6.00\n",
       "           BED_27          4.00\n",
       "           BED_3           2.00\n",
       "...                         ...\n",
       "2021-02-04 TSH_52          6.00\n",
       "           TSH_53          4.00\n",
       "           TSH_7           3.00\n",
       "           TSH_8           5.00\n",
       "           TSH_9           3.00\n",
       "\n",
       "[1830 rows x 1 columns]"
      ]
     },
     "execution_count": 12,
     "metadata": {},
     "output_type": "execute_result"
    }
   ],
   "source": [
    "cube.query(m[\"Quantity.SUM\"], levels=[l[\"Date\"], l[\"Product\"]])"
   ]
  },
  {
   "cell_type": "markdown",
   "metadata": {},
   "source": [
    "We can even combine these operations to slice on one hierarchy and dice on the two others:\n",
    "\n",
    "<img alt=\"Slice and dice\" src=\"images/slice-and-dice.svg\" width=\"400\" />"
   ]
  },
  {
   "cell_type": "code",
   "execution_count": 13,
   "metadata": {
    "ExecuteTime": {
     "end_time": "2023-12-08T07:52:55.774069Z",
     "start_time": "2023-12-08T07:52:55.730886Z"
    }
   },
   "outputs": [
    {
     "data": {
      "text/html": [
       "<div>\n",
       "<style scoped>\n",
       "    .dataframe tbody tr th:only-of-type {\n",
       "        vertical-align: middle;\n",
       "    }\n",
       "\n",
       "    .dataframe tbody tr th {\n",
       "        vertical-align: top;\n",
       "    }\n",
       "\n",
       "    .dataframe thead th {\n",
       "        text-align: right;\n",
       "    }\n",
       "</style>\n",
       "<table border=\"1\" class=\"dataframe\">\n",
       "  <thead>\n",
       "    <tr style=\"text-align: right;\">\n",
       "      <th></th>\n",
       "      <th></th>\n",
       "      <th>Quantity.SUM</th>\n",
       "    </tr>\n",
       "    <tr>\n",
       "      <th>Date</th>\n",
       "      <th>Product</th>\n",
       "      <th></th>\n",
       "    </tr>\n",
       "  </thead>\n",
       "  <tbody>\n",
       "    <tr>\n",
       "      <th rowspan=\"5\" valign=\"top\">2021-01-15</th>\n",
       "      <th>BED_24</th>\n",
       "      <td>1.00</td>\n",
       "    </tr>\n",
       "    <tr>\n",
       "      <th>BED_26</th>\n",
       "      <td>1.00</td>\n",
       "    </tr>\n",
       "    <tr>\n",
       "      <th>BED_3</th>\n",
       "      <td>1.00</td>\n",
       "    </tr>\n",
       "    <tr>\n",
       "      <th>BED_4</th>\n",
       "      <td>1.00</td>\n",
       "    </tr>\n",
       "    <tr>\n",
       "      <th>BED_46</th>\n",
       "      <td>1.00</td>\n",
       "    </tr>\n",
       "    <tr>\n",
       "      <th>...</th>\n",
       "      <th>...</th>\n",
       "      <td>...</td>\n",
       "    </tr>\n",
       "    <tr>\n",
       "      <th rowspan=\"5\" valign=\"top\">2021-02-04</th>\n",
       "      <th>TSH_51</th>\n",
       "      <td>2.00</td>\n",
       "    </tr>\n",
       "    <tr>\n",
       "      <th>TSH_52</th>\n",
       "      <td>1.00</td>\n",
       "    </tr>\n",
       "    <tr>\n",
       "      <th>TSH_53</th>\n",
       "      <td>1.00</td>\n",
       "    </tr>\n",
       "    <tr>\n",
       "      <th>TSH_7</th>\n",
       "      <td>1.00</td>\n",
       "    </tr>\n",
       "    <tr>\n",
       "      <th>TSH_9</th>\n",
       "      <td>1.00</td>\n",
       "    </tr>\n",
       "  </tbody>\n",
       "</table>\n",
       "<p>125 rows × 1 columns</p>\n",
       "</div>"
      ],
      "text/plain": [
       "                   Quantity.SUM\n",
       "Date       Product             \n",
       "2021-01-15 BED_24          1.00\n",
       "           BED_26          1.00\n",
       "           BED_3           1.00\n",
       "           BED_4           1.00\n",
       "           BED_46          1.00\n",
       "...                         ...\n",
       "2021-02-04 TSH_51          2.00\n",
       "           TSH_52          1.00\n",
       "           TSH_53          1.00\n",
       "           TSH_7           1.00\n",
       "           TSH_9           1.00\n",
       "\n",
       "[125 rows x 1 columns]"
      ]
     },
     "execution_count": 13,
     "metadata": {},
     "output_type": "execute_result"
    }
   ],
   "source": [
    "cube.query(\n",
    "    m[\"Quantity.SUM\"],\n",
    "    levels=[l[\"Date\"], l[\"Product\"]],\n",
    "    filter=l[\"Shop\"] == \"shop_0\",\n",
    ")"
   ]
  },
  {
   "cell_type": "markdown",
   "metadata": {},
   "source": [
    "### Interactive widget\n",
    "\n",
    "So far we have used [cube.query()](../../api/atoti.Cube.query.rst) which returns a pandas DataFrame but a better way to visualize multidimensional data is a pivot table.\n",
    "With Atoti's JupyterLab extension, you can create interactive widgets such as pivot tables and charts directly into your notebook.\n",
    "\n",
    "This will create a widget and open the Atoti tab on the left with tools to manipulate the widget.\n",
    "\n",
    "Let's start by creating a pivot table:\n",
    "\n",
    "- Run [session.widget](../../api/atoti.Session.widget.rst).\n",
    "- In the left panel, click on a measure such as **Quantity.SUM** to add it.\n",
    "- Click on a hierarchy such as **Date** to get the quantity per date.\n",
    "- Drag and drop another hierarchy such as **Product** to the **Columns** section to get the quantity sold per day and per product.\n",
    "\n",
    "![First pivot table](images/first-pivot-table.gif)"
   ]
  },
  {
   "cell_type": "code",
   "execution_count": 14,
   "metadata": {
    "ExecuteTime": {
     "end_time": "2023-12-08T07:52:58.284432Z",
     "start_time": "2023-12-08T07:52:58.251942Z"
    },
    "atoti": {
     "widget": {
      "mapping": {
       "horizontalSubplots": [],
       "secondaryValues": [],
       "splitBy": [
        "ALL_MEASURES"
       ],
       "values": [
        "[Measures].[Quantity.SUM]"
       ],
       "verticalSubplots": [],
       "xAxis": [
        "[Sales].[Date].[Date]"
       ]
      },
      "query": {
       "mdx": "SELECT NON EMPTY Hierarchize(Descendants({[Sales].[Date].[ALL].[AllMember]}, 1, SELF_AND_BEFORE)) ON ROWS, NON EMPTY {[Measures].[Quantity.SUM]} ON COLUMNS FROM [Sales] CELL PROPERTIES VALUE, FORMATTED_VALUE, BACK_COLOR, FORE_COLOR, FONT_FLAGS",
       "updateMode": "once"
      },
      "serverKey": "default",
      "switchedTo": "plotly-stacked-area-chart",
      "widgetKey": "plotly-line-chart"
     }
    }
   },
   "outputs": [
    {
     "data": {
      "application/vnd.atoti.widget.v0+json": {
       "sessionId": "1702022117_NYF5P8",
       "sessionLocation": {
        "https": false,
        "port": 61530
       },
       "widgetCreationCode": "session.widget"
      },
      "text/html": [
       "<img height=\"352\" width=\"1761\" src=\"data:image/png;base64,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\" />"
      ],
      "text/plain": [
       "Open the notebook in JupyterLab with the Atoti JupyterLab extension enabled to build this widget."
      ]
     },
     "metadata": {},
     "output_type": "display_data"
    }
   ],
   "source": [
    "session.widget"
   ]
  },
  {
   "cell_type": "markdown",
   "metadata": {},
   "source": [
    "Tables can be switched to charts.\n",
    "\n",
    "For instance let's switch to a line chart.\n",
    "\n",
    "![First chart](images/first-chart.gif)"
   ]
  },
  {
   "cell_type": "code",
   "execution_count": 15,
   "metadata": {
    "ExecuteTime": {
     "end_time": "2023-12-08T07:52:59.800859Z",
     "start_time": "2023-12-08T07:52:59.764785Z"
    }
   },
   "outputs": [
    {
     "data": {
      "application/vnd.atoti.widget.v0+json": {
       "sessionId": "1702022117_NYF5P8",
       "sessionLocation": {
        "https": false,
        "port": 61530
       },
       "widgetCreationCode": "session.widget"
      },
      "text/html": [
       "<img height=\"352\" width=\"1761\" src=\"data:image/png;base64,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\" />"
      ],
      "text/plain": [
       "Open the notebook in JupyterLab with the Atoti JupyterLab extension enabled to build this widget."
      ]
     },
     "metadata": {},
     "output_type": "display_data"
    }
   ],
   "source": [
    "session.widget"
   ]
  },
  {
   "cell_type": "markdown",
   "metadata": {},
   "source": [
    "### Drilldown and filters\n",
    "\n",
    "Multidimensional analysis is meant to be done from top to bottom: start by visualizing the indicators at the top level then drilldown to explain the top figures with more details.\n",
    "\n",
    "For instance, we can visualize some measures per date then drilldown on **Shop** for a specific date, then see the products sold by a specific shop on this date.\n",
    "\n",
    "Using the previous cube representation, this is like zooming more and more on a part of the cube.\n",
    "\n",
    "<img alt=\"Drilldown the cube\" src=\"images/drilldown.svg\" width=\"1200\" />\n",
    "\n",
    "![Drilldown](images/drilldown.gif)"
   ]
  },
  {
   "cell_type": "code",
   "execution_count": 16,
   "metadata": {
    "ExecuteTime": {
     "end_time": "2023-12-08T07:53:02.792274Z",
     "start_time": "2023-12-08T07:53:02.760338Z"
    },
    "atoti": {
     "height": 764,
     "widget": {
      "mapping": {
       "columns": [
        "ALL_MEASURES"
       ],
       "measures": [
        "[Measures].[Quantity.SUM]",
        "[Measures].[Quantity.MEAN]"
       ],
       "rows": [
        "[Sales].[Date].[Date] => [Sales].[Shop].[Shop]"
       ]
      },
      "query": {
       "mdx": "SELECT NON EMPTY Hierarchize(Union(Crossjoin(Descendants({[Sales].[Date].[ALL].[AllMember]}, 1, SELF_AND_BEFORE), [Sales].[Shop].DefaultMember), Crossjoin([Sales].[Date].[ALL].[AllMember].[2021-01-15], Hierarchize(Descendants({[Sales].[Shop].[ALL].[AllMember]}, 1, SELF_AND_BEFORE))))) ON ROWS, NON EMPTY {[Measures].[Quantity.SUM], [Measures].[Quantity.MEAN]} ON COLUMNS FROM [Sales] CELL PROPERTIES VALUE, FORMATTED_VALUE, BACK_COLOR, FORE_COLOR, FONT_FLAGS",
       "updateMode": "once"
      },
      "serverKey": "default",
      "widgetKey": "pivot-table"
     }
    }
   },
   "outputs": [
    {
     "data": {
      "application/vnd.atoti.widget.v0+json": {
       "sessionId": "1702022117_NYF5P8",
       "sessionLocation": {
        "https": false,
        "port": 61530
       },
       "widgetCreationCode": "session.widget"
      },
      "text/html": [
       "<img height=\"756\" width=\"1761\" src=\"data:image/png;base64,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\" />"
      ],
      "text/plain": [
       "Open the notebook in JupyterLab with the Atoti JupyterLab extension enabled to build this widget."
      ]
     },
     "metadata": {},
     "output_type": "display_data"
    }
   ],
   "source": [
    "session.widget"
   ]
  },
  {
   "cell_type": "markdown",
   "metadata": {},
   "source": [
    "Hierarchies can be filtered when building widgets.\n",
    "Let's apply a filter on the previous chart and only visualize the quantity for a group of selected products.\n",
    "\n",
    "![Chart filter](images/filter-chart.gif)"
   ]
  },
  {
   "cell_type": "code",
   "execution_count": 17,
   "metadata": {
    "ExecuteTime": {
     "end_time": "2023-12-08T07:53:06.136044Z",
     "start_time": "2023-12-08T07:53:06.101448Z"
    },
    "atoti": {
     "height": 768,
     "widget": {
      "filters": [
       {
        "dimensionName": "Sales",
        "hierarchyName": "Product",
        "isExclusionFilter": false,
        "members": [
         [
          "AllMember",
          "BED_24"
         ],
         [
          "AllMember",
          "BED_25"
         ],
         [
          "AllMember",
          "BED_26"
         ],
         [
          "AllMember",
          "BED_3"
         ],
         [
          "AllMember",
          "BED_4"
         ]
        ],
        "type": "members"
       }
      ],
      "mapping": {
       "horizontalSubplots": [],
       "secondaryValues": [],
       "splitBy": [
        "ALL_MEASURES"
       ],
       "values": [
        "[Measures].[Quantity.SUM]"
       ],
       "verticalSubplots": [],
       "xAxis": [
        "[Sales].[Product].[Product]"
       ]
      },
      "name": "Quantity per date",
      "query": {
       "mdx": "SELECT NON EMPTY {[Measures].[Quantity.SUM]} ON COLUMNS, NON EMPTY Hierarchize(Descendants({[Sales].[Product].[ALL].[AllMember]}, 1, SELF_AND_BEFORE)) ON ROWS FROM [Sales] CELL PROPERTIES VALUE, FORMATTED_VALUE, BACK_COLOR, FORE_COLOR, FONT_FLAGS",
       "updateMode": "once"
      },
      "serverKey": "default",
      "widgetKey": "plotly-line-chart"
     }
    }
   },
   "outputs": [
    {
     "data": {
      "application/vnd.atoti.widget.v0+json": {
       "sessionId": "1702022117_NYF5P8",
       "sessionLocation": {
        "https": false,
        "port": 61530
       },
       "widgetCreationCode": "session.widget"
      },
      "text/html": [
       "<img height=\"760\" width=\"1761\" src=\"data:image/png;base64,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\" />"
      ],
      "text/plain": [
       "Open the notebook in JupyterLab with the Atoti JupyterLab extension enabled to build this widget."
      ]
     },
     "metadata": {},
     "output_type": "display_data"
    }
   ],
   "source": [
    "session.widget"
   ]
  },
  {
   "cell_type": "markdown",
   "metadata": {},
   "source": [
    "### Dashboarding app\n",
    "\n",
    "Being able to quickly build widgets inside a notebook without coding is nice to rapidly explore the data, iterate on your model and share some results.\n",
    "However, to provide richer insights, dashboards are even better.\n",
    "That's why Atoti comes with a web app that can be accessed outside of the notebook and where widgets can be laid out to form dashboards.\n",
    "\n",
    "The app can be accessed with this link:"
   ]
  },
  {
   "cell_type": "code",
   "execution_count": 18,
   "metadata": {
    "ExecuteTime": {
     "end_time": "2023-12-08T07:53:07.682776Z",
     "start_time": "2023-12-08T07:53:07.645800Z"
    }
   },
   "outputs": [
    {
     "data": {
      "application/vnd.atoti.link.v0+json": {
       "path": "",
       "sessionLocation": {
        "https": false,
        "port": 61530
       }
      },
      "text/markdown": [
       "http://localhost:61530\n",
       "\n",
       "_Note_: This is the session's local URL: it may not be reachable if Atoti is running on another machine."
      ],
      "text/plain": [
       "http://localhost:61530 (This is the session's local URL: it may not be reachable if Atoti is running on another machine.)"
      ]
     },
     "execution_count": 18,
     "metadata": {},
     "output_type": "execute_result"
    }
   ],
   "source": [
    "session.link"
   ]
  },
  {
   "cell_type": "markdown",
   "metadata": {},
   "source": [
    "Widgets built in the notebook can be saved in the app by right clicking on them and selecting **Save widget in app**.\n",
    "They will then be available in the **Saved widgets** section.\n",
    "\n",
    "![Saving widget in app](images/save-in-app.gif)"
   ]
  },
  {
   "cell_type": "markdown",
   "metadata": {},
   "source": [
    "## Enriching the cube\n",
    "\n",
    "In the previous section, you have learned how to create a basic cube and manipulate it.\n",
    "We will now enrich this cube with additional attributes and more interesting measures."
   ]
  },
  {
   "cell_type": "markdown",
   "metadata": {},
   "source": [
    "### Join\n",
    "\n",
    "Currently, we have very limited information about our products: only the ID.\n",
    "We can load a CSV containing more details into a new table:"
   ]
  },
  {
   "cell_type": "code",
   "execution_count": 19,
   "metadata": {
    "ExecuteTime": {
     "end_time": "2023-12-08T07:53:46.994455Z",
     "start_time": "2023-12-08T07:53:46.860083Z"
    }
   },
   "outputs": [],
   "source": [
    "products_table = session.read_csv(\"data/products.csv\", keys=[\"Product\"])"
   ]
  },
  {
   "cell_type": "markdown",
   "metadata": {},
   "source": [
    "Note that a table can have a set of keys.\n",
    "These keys are the columns which make each line unique.\n",
    "Here, it's the product ID.\n",
    "\n",
    "If you try to insert a new row with the same keys as an existing row, it will override the existing one."
   ]
  },
  {
   "cell_type": "code",
   "execution_count": 20,
   "metadata": {
    "ExecuteTime": {
     "end_time": "2023-12-08T07:53:48.450612Z",
     "start_time": "2023-12-08T07:53:48.415454Z"
    }
   },
   "outputs": [
    {
     "data": {
      "text/html": [
       "<div>\n",
       "<style scoped>\n",
       "    .dataframe tbody tr th:only-of-type {\n",
       "        vertical-align: middle;\n",
       "    }\n",
       "\n",
       "    .dataframe tbody tr th {\n",
       "        vertical-align: top;\n",
       "    }\n",
       "\n",
       "    .dataframe thead th {\n",
       "        text-align: right;\n",
       "    }\n",
       "</style>\n",
       "<table border=\"1\" class=\"dataframe\">\n",
       "  <thead>\n",
       "    <tr style=\"text-align: right;\">\n",
       "      <th></th>\n",
       "      <th>Category</th>\n",
       "      <th>Sub category</th>\n",
       "      <th>Size</th>\n",
       "      <th>Purchase price</th>\n",
       "      <th>Color</th>\n",
       "      <th>Brand</th>\n",
       "    </tr>\n",
       "    <tr>\n",
       "      <th>Product</th>\n",
       "      <th></th>\n",
       "      <th></th>\n",
       "      <th></th>\n",
       "      <th></th>\n",
       "      <th></th>\n",
       "      <th></th>\n",
       "    </tr>\n",
       "  </thead>\n",
       "  <tbody>\n",
       "    <tr>\n",
       "      <th>TSH_10</th>\n",
       "      <td>Cloth</td>\n",
       "      <td>T-shirt</td>\n",
       "      <td>L</td>\n",
       "      <td>20.0</td>\n",
       "      <td>black</td>\n",
       "      <td>Over</td>\n",
       "    </tr>\n",
       "    <tr>\n",
       "      <th>TAB_22</th>\n",
       "      <td>Furniture</td>\n",
       "      <td>Table</td>\n",
       "      <td>2m40</td>\n",
       "      <td>280.0</td>\n",
       "      <td>blue</td>\n",
       "      <td>Basic</td>\n",
       "    </tr>\n",
       "    <tr>\n",
       "      <th>HOO_34</th>\n",
       "      <td>Cloth</td>\n",
       "      <td>Hoodie</td>\n",
       "      <td>M</td>\n",
       "      <td>38.0</td>\n",
       "      <td>brown</td>\n",
       "      <td>Over</td>\n",
       "    </tr>\n",
       "    <tr>\n",
       "      <th>BED_46</th>\n",
       "      <td>Furniture</td>\n",
       "      <td>Bed</td>\n",
       "      <td>Double</td>\n",
       "      <td>252.0</td>\n",
       "      <td>white</td>\n",
       "      <td>Basic</td>\n",
       "    </tr>\n",
       "    <tr>\n",
       "      <th>SHO_58</th>\n",
       "      <td>Cloth</td>\n",
       "      <td>Shoes</td>\n",
       "      <td>8</td>\n",
       "      <td>42.0</td>\n",
       "      <td>red</td>\n",
       "      <td>Over</td>\n",
       "    </tr>\n",
       "  </tbody>\n",
       "</table>\n",
       "</div>"
      ],
      "text/plain": [
       "          Category Sub category    Size  Purchase price  Color  Brand\n",
       "Product                                                              \n",
       "TSH_10       Cloth      T-shirt       L            20.0  black   Over\n",
       "TAB_22   Furniture        Table    2m40           280.0   blue  Basic\n",
       "HOO_34       Cloth       Hoodie       M            38.0  brown   Over\n",
       "BED_46   Furniture          Bed  Double           252.0  white  Basic\n",
       "SHO_58       Cloth        Shoes       8            42.0    red   Over"
      ]
     },
     "execution_count": 20,
     "metadata": {},
     "output_type": "execute_result"
    }
   ],
   "source": [
    "products_table.head()"
   ]
  },
  {
   "cell_type": "markdown",
   "metadata": {},
   "source": [
    "This table contains the category, subcategory, size, color, purchase price and brand of the product.\n",
    "Both tables have a **Product** column we can use to [join](../../api/atoti.Table.join.rst) them."
   ]
  },
  {
   "cell_type": "code",
   "execution_count": 21,
   "metadata": {
    "ExecuteTime": {
     "end_time": "2023-12-08T07:53:49.763798Z",
     "start_time": "2023-12-08T07:53:49.645454Z"
    }
   },
   "outputs": [],
   "source": [
    "sales_table.join(products_table, sales_table[\"Product\"] == products_table[\"Product\"])"
   ]
  },
  {
   "cell_type": "markdown",
   "metadata": {},
   "source": [
    "Note that this is a database-like join and not a pandas-like join.\n",
    "All the details from `products_table` won't be inlined into `sales_table`.\n",
    "Instead, this just declares a reference between these two tables that the cube can use to provide more analytical axes.\n",
    "\n",
    "You can visualize the structure of the session's tables:"
   ]
  },
  {
   "cell_type": "code",
   "execution_count": 21,
   "metadata": {
    "ExecuteTime": {
     "end_time": "2023-12-08T07:53:55.550373Z",
     "start_time": "2023-12-08T07:53:54.559750Z"
    }
   },
   "outputs": [
    {
     "data": {
      "image/svg+xml": [
       "<svg xmlns=\"http://www.w3.org/2000/svg\" xmlns:xlink=\"http://www.w3.org/1999/xlink\" width=\"195px\" height=\"205px\" viewBox=\"0.00 0.00 195.00 205.00\">\n",
       "<g id=\"graph0\" class=\"graph\" transform=\"scale(1.0 1.0) rotate(0) translate(4 201)\">\n",
       "<title>Datastore schema</title>\n",
       "<polygon fill=\"white\" stroke=\"none\" points=\"-4,4 -4,-201 191,-201 191,4 -4,4\"/>\n",
       "<!-- Sales -->\n",
       "<g id=\"node1\" class=\"node\">\n",
       "<title>Sales</title>\n",
       "<text text-anchor=\"start\" x=\"75.88\" y=\"-175.65\" font-family=\"-apple-system, BlinkMacSystemFont, 'Segoe UI', Helvetica, Arial, sans-serif, 'Apple Color Emoji', 'Segoe UI Emoji', 'Segoe UI Symbol'\" font-weight=\"bold\" font-size=\"13.00\">Sales</text>\n",
       "<text text-anchor=\"start\" x=\"50.75\" y=\"-149.65\" font-family=\"-apple-system, BlinkMacSystemFont, 'Segoe UI', Helvetica, Arial, sans-serif, 'Apple Color Emoji', 'Segoe UI Emoji', 'Segoe UI Symbol'\" font-size=\"13.00\">base of: Sales</text>\n",
       "<polygon fill=\"#f5f5f5\" stroke=\"none\" points=\"9,-120 9,-143 41,-143 41,-120 9,-120\"/>\n",
       "<text text-anchor=\"start\" x=\"13.75\" y=\"-126.65\" font-family=\"-apple-system, BlinkMacSystemFont, 'Segoe UI', Helvetica, Arial, sans-serif, 'Apple Color Emoji', 'Segoe UI Emoji', 'Segoe UI Symbol'\" font-weight=\"bold\" font-size=\"13.00\">key</text>\n",
       "<polygon fill=\"#f5f5f5\" stroke=\"none\" points=\"41,-120 41,-143 108,-143 108,-120 41,-120\"/>\n",
       "<text text-anchor=\"start\" x=\"46\" y=\"-125.65\" font-family=\"-apple-system, BlinkMacSystemFont, 'Segoe UI', Helvetica, Arial, sans-serif, 'Apple Color Emoji', 'Segoe UI Emoji', 'Segoe UI Symbol'\" font-size=\"13.00\">Sale ID</text>\n",
       "<polygon fill=\"#f5f5f5\" stroke=\"none\" points=\"108,-120 108,-143 178,-143 178,-120 108,-120\"/>\n",
       "<text text-anchor=\"start\" x=\"140\" y=\"-126.65\" font-family=\"-apple-system, BlinkMacSystemFont, 'Segoe UI', Helvetica, Arial, sans-serif, 'Apple Color Emoji', 'Segoe UI Emoji', 'Segoe UI Symbol'\" font-style=\"italic\" font-size=\"13.00\">string</text>\n",
       "<polygon fill=\"#ffffff\" stroke=\"none\" points=\"9,-97 9,-120 41,-120 41,-97 9,-97\"/>\n",
       "<polygon fill=\"#ffffff\" stroke=\"none\" points=\"41,-97 41,-120 108,-120 108,-97 41,-97\"/>\n",
       "<text text-anchor=\"start\" x=\"46\" y=\"-102.65\" font-family=\"-apple-system, BlinkMacSystemFont, 'Segoe UI', Helvetica, Arial, sans-serif, 'Apple Color Emoji', 'Segoe UI Emoji', 'Segoe UI Symbol'\" font-size=\"13.00\">Date</text>\n",
       "<polygon fill=\"#ffffff\" stroke=\"none\" points=\"108,-97 108,-120 178,-120 178,-97 108,-97\"/>\n",
       "<text text-anchor=\"start\" x=\"112.62\" y=\"-103.65\" font-family=\"-apple-system, BlinkMacSystemFont, 'Segoe UI', Helvetica, Arial, sans-serif, 'Apple Color Emoji', 'Segoe UI Emoji', 'Segoe UI Symbol'\" font-style=\"italic\" font-size=\"13.00\">LocalDate</text>\n",
       "<polygon fill=\"#f5f5f5\" stroke=\"none\" points=\"9,-74 9,-97 41,-97 41,-74 9,-74\"/>\n",
       "<polygon fill=\"#f5f5f5\" stroke=\"none\" points=\"41,-74 41,-97 108,-97 108,-74 41,-74\"/>\n",
       "<text text-anchor=\"start\" x=\"46\" y=\"-79.65\" font-family=\"-apple-system, BlinkMacSystemFont, 'Segoe UI', Helvetica, Arial, sans-serif, 'Apple Color Emoji', 'Segoe UI Emoji', 'Segoe UI Symbol'\" font-size=\"13.00\">Shop</text>\n",
       "<polygon fill=\"#f5f5f5\" stroke=\"none\" points=\"108,-74 108,-97 178,-97 178,-74 108,-74\"/>\n",
       "<text text-anchor=\"start\" x=\"140\" y=\"-80.65\" font-family=\"-apple-system, BlinkMacSystemFont, 'Segoe UI', Helvetica, Arial, sans-serif, 'Apple Color Emoji', 'Segoe UI Emoji', 'Segoe UI Symbol'\" font-style=\"italic\" font-size=\"13.00\">string</text>\n",
       "<polygon fill=\"#ffffff\" stroke=\"none\" points=\"9,-51 9,-74 41,-74 41,-51 9,-51\"/>\n",
       "<polygon fill=\"#ffffff\" stroke=\"none\" points=\"41,-51 41,-74 108,-74 108,-51 41,-51\"/>\n",
       "<text text-anchor=\"start\" x=\"46\" y=\"-56.65\" font-family=\"-apple-system, BlinkMacSystemFont, 'Segoe UI', Helvetica, Arial, sans-serif, 'Apple Color Emoji', 'Segoe UI Emoji', 'Segoe UI Symbol'\" font-size=\"13.00\">Product</text>\n",
       "<polygon fill=\"#ffffff\" stroke=\"none\" points=\"108,-51 108,-74 178,-74 178,-51 108,-51\"/>\n",
       "<text text-anchor=\"start\" x=\"140\" y=\"-57.65\" font-family=\"-apple-system, BlinkMacSystemFont, 'Segoe UI', Helvetica, Arial, sans-serif, 'Apple Color Emoji', 'Segoe UI Emoji', 'Segoe UI Symbol'\" font-style=\"italic\" font-size=\"13.00\">string</text>\n",
       "<polygon fill=\"#f5f5f5\" stroke=\"none\" points=\"9,-28 9,-51 41,-51 41,-28 9,-28\"/>\n",
       "<polygon fill=\"#f5f5f5\" stroke=\"none\" points=\"41,-28 41,-51 108,-51 108,-28 41,-28\"/>\n",
       "<text text-anchor=\"start\" x=\"46\" y=\"-33.65\" font-family=\"-apple-system, BlinkMacSystemFont, 'Segoe UI', Helvetica, Arial, sans-serif, 'Apple Color Emoji', 'Segoe UI Emoji', 'Segoe UI Symbol'\" font-size=\"13.00\">Quantity</text>\n",
       "<polygon fill=\"#f5f5f5\" stroke=\"none\" points=\"108,-28 108,-51 178,-51 178,-28 108,-28\"/>\n",
       "<text text-anchor=\"start\" x=\"132.5\" y=\"-34.65\" font-family=\"-apple-system, BlinkMacSystemFont, 'Segoe UI', Helvetica, Arial, sans-serif, 'Apple Color Emoji', 'Segoe UI Emoji', 'Segoe UI Symbol'\" font-style=\"italic\" font-size=\"13.00\">double</text>\n",
       "<polygon fill=\"#ffffff\" stroke=\"none\" points=\"9,-5 9,-28 41,-28 41,-5 9,-5\"/>\n",
       "<polygon fill=\"#ffffff\" stroke=\"none\" points=\"41,-5 41,-28 108,-28 108,-5 41,-5\"/>\n",
       "<text text-anchor=\"start\" x=\"46\" y=\"-10.65\" font-family=\"-apple-system, BlinkMacSystemFont, 'Segoe UI', Helvetica, Arial, sans-serif, 'Apple Color Emoji', 'Segoe UI Emoji', 'Segoe UI Symbol'\" font-size=\"13.00\">Unit price</text>\n",
       "<polygon fill=\"#ffffff\" stroke=\"none\" points=\"108,-5 108,-28 178,-28 178,-5 108,-5\"/>\n",
       "<text text-anchor=\"start\" x=\"132.5\" y=\"-11.65\" font-family=\"-apple-system, BlinkMacSystemFont, 'Segoe UI', Helvetica, Arial, sans-serif, 'Apple Color Emoji', 'Segoe UI Emoji', 'Segoe UI Symbol'\" font-style=\"italic\" font-size=\"13.00\">double</text>\n",
       "<polygon fill=\"none\" stroke=\"black\" points=\"8,-4 8,-193 179,-193 179,-4 8,-4\"/>\n",
       "</g>\n",
       "</g>\n",
       "</svg>"
      ],
      "text/plain": [
       "<IPython.core.display.SVG object>"
      ]
     },
     "execution_count": 21,
     "metadata": {},
     "output_type": "execute_result"
    }
   ],
   "source": [
    "session.tables.schema"
   ]
  },
  {
   "cell_type": "markdown",
   "metadata": {},
   "source": [
    "The new columns have been automatically added to the cube as hierarchies, in a dimension with the same name as the new table:"
   ]
  },
  {
   "cell_type": "code",
   "execution_count": 23,
   "metadata": {
    "ExecuteTime": {
     "end_time": "2023-12-08T07:53:57.511020Z",
     "start_time": "2023-12-08T07:53:57.464572Z"
    }
   },
   "outputs": [
    {
     "data": {
      "application/json": {
       "Products": {
        "Brand": [
         "Brand"
        ],
        "Category": [
         "Category"
        ],
        "Color": [
         "Color"
        ],
        "Size": [
         "Size"
        ],
        "Sub category": [
         "Sub category"
        ]
       },
       "Sales": {
        "Date": [
         "Date"
        ],
        "Product": [
         "Product"
        ],
        "Sale ID": [
         "Sale ID"
        ],
        "Shop": [
         "Shop"
        ]
       }
      },
      "text/html": [
       "<ul>\n",
       "<li>Dimensions\n",
       "  <ul>\n",
       "  <li>Products\n",
       "    <ul>\n",
       "    <li>Brand\n",
       "      <ol>\n",
       "      <li>Brand</li>\n",
       "      </ol>    </li>\n",
       "    <li>Category\n",
       "      <ol>\n",
       "      <li>Category</li>\n",
       "      </ol>    </li>\n",
       "    <li>Color\n",
       "      <ol>\n",
       "      <li>Color</li>\n",
       "      </ol>    </li>\n",
       "    <li>Size\n",
       "      <ol>\n",
       "      <li>Size</li>\n",
       "      </ol>    </li>\n",
       "    <li>Sub category\n",
       "      <ol>\n",
       "      <li>Sub category</li>\n",
       "      </ol>    </li>\n",
       "    </ul>\n",
       "  </li>\n",
       "  <li>Sales\n",
       "    <ul>\n",
       "    <li>Date\n",
       "      <ol>\n",
       "      <li>Date</li>\n",
       "      </ol>    </li>\n",
       "    <li>Product\n",
       "      <ol>\n",
       "      <li>Product</li>\n",
       "      </ol>    </li>\n",
       "    <li>Sale ID\n",
       "      <ol>\n",
       "      <li>Sale ID</li>\n",
       "      </ol>    </li>\n",
       "    <li>Shop\n",
       "      <ol>\n",
       "      <li>Shop</li>\n",
       "      </ol>    </li>\n",
       "    </ul>\n",
       "  </li>\n",
       "  </ul>\n",
       "</li>\n",
       "</ul>\n"
      ],
      "text/plain": [
       "{('Products', 'Brand'): <atoti.hierarchy.Hierarchy object at 0x16a59b410>, ('Sales', 'Sale ID'): <atoti.hierarchy.Hierarchy object at 0x16a8d1450>, ('Sales', 'Product'): <atoti.hierarchy.Hierarchy object at 0x16a8e82d0>, ('Products', 'Sub category'): <atoti.hierarchy.Hierarchy object at 0x16a8e8190>, ('Products', 'Category'): <atoti.hierarchy.Hierarchy object at 0x16a8e9f50>, ('Products', 'Size'): <atoti.hierarchy.Hierarchy object at 0x16a8e8210>, ('Sales', 'Date'): <atoti.hierarchy.Hierarchy object at 0x16a8ea790>, ('Products', 'Color'): <atoti.hierarchy.Hierarchy object at 0x16a8e85d0>, ('Sales', 'Shop'): <atoti.hierarchy.Hierarchy object at 0x16a8eb310>}"
      ]
     },
     "execution_count": 23,
     "metadata": {
      "application/json": {
       "expanded": true,
       "root": "Dimensions"
      }
     },
     "output_type": "execute_result"
    }
   ],
   "source": [
    "h"
   ]
  },
  {
   "cell_type": "markdown",
   "metadata": {},
   "source": [
    "You can use them directly in a new widget.\n",
    "For instance, let's create a bar chart to visualize the mean price per subcategory of product:\n",
    "\n",
    "![Price per category](images/price-per-category.png)"
   ]
  },
  {
   "cell_type": "code",
   "execution_count": null,
   "metadata": {},
   "outputs": [],
   "source": []
  },
  {
   "cell_type": "code",
   "execution_count": 24,
   "metadata": {
    "ExecuteTime": {
     "end_time": "2023-12-08T07:53:59.488301Z",
     "start_time": "2023-12-08T07:53:59.454386Z"
    }
   },
   "outputs": [
    {
     "data": {
      "application/vnd.atoti.widget.v0+json": {
       "sessionId": "1702021946_0P1R1E",
       "sessionLocation": {
        "https": false,
        "port": 61240
       },
       "widgetCreationCode": "session.widget"
      },
      "text/plain": [
       "Open the notebook in JupyterLab with the Atoti JupyterLab extension enabled to build this widget."
      ]
     },
     "metadata": {},
     "output_type": "display_data"
    }
   ],
   "source": [
    "session.widget"
   ]
  },
  {
   "cell_type": "markdown",
   "metadata": {},
   "source": [
    "We can also make a donut chart to see how all the sales are distributed between brands:\n",
    "\n",
    "![Donut chart brands](images/donut-chart.png)"
   ]
  },
  {
   "cell_type": "code",
   "execution_count": null,
   "metadata": {},
   "outputs": [],
   "source": [
    "session.widget"
   ]
  },
  {
   "cell_type": "markdown",
   "metadata": {},
   "source": [
    "Note that after the join we can add a new measure called **Purchase price.VALUE** based on the corresponding column of the joined table.\n",
    "This measure represents the value of the column so it is only defined when all the keys of the joined table are expressed in the query."
   ]
  },
  {
   "cell_type": "code",
   "execution_count": null,
   "metadata": {},
   "outputs": [],
   "source": [
    "m[\"Purchase price.VALUE\"] = tt.agg.single_value(products_table[\"Purchase price\"])"
   ]
  },
  {
   "cell_type": "markdown",
   "metadata": {},
   "source": [
    "For instance we can check the purchase price per **Product**:"
   ]
  },
  {
   "cell_type": "code",
   "execution_count": null,
   "metadata": {},
   "outputs": [],
   "source": [
    "cube.query(m[\"Purchase price.VALUE\"], levels=[l[\"Product\"]])"
   ]
  },
  {
   "cell_type": "markdown",
   "metadata": {},
   "source": [
    "In a similar way, we can enrich the data about the shops:"
   ]
  },
  {
   "cell_type": "code",
   "execution_count": null,
   "metadata": {},
   "outputs": [],
   "source": [
    "shops_table = session.read_csv(\"data/shops.csv\", keys=[\"Shop ID\"])\n",
    "shops_table.head()"
   ]
  },
  {
   "cell_type": "code",
   "execution_count": null,
   "metadata": {},
   "outputs": [],
   "source": [
    "sales_table.join(shops_table, sales_table[\"Shop\"] == shops_table[\"Shop ID\"])\n",
    "session.tables.schema"
   ]
  },
  {
   "cell_type": "markdown",
   "metadata": {},
   "source": [
    "### New measures\n",
    "\n",
    "So far we have only used the default measures which are basic aggregations of the numeric columns.\n",
    "We can add new custom measures to our cube."
   ]
  },
  {
   "cell_type": "markdown",
   "metadata": {},
   "source": [
    "#### Max\n",
    "\n",
    "We'll start with an aggregation taking the maximum price of the sales table:"
   ]
  },
  {
   "cell_type": "code",
   "execution_count": null,
   "metadata": {},
   "outputs": [],
   "source": [
    "m[\"Max price\"] = tt.agg.max(sales_table[\"Unit price\"])"
   ]
  },
  {
   "cell_type": "markdown",
   "metadata": {},
   "source": [
    "This new measure is directly available:"
   ]
  },
  {
   "cell_type": "code",
   "execution_count": null,
   "metadata": {},
   "outputs": [],
   "source": [
    "cube.query(m[\"Max price\"], include_totals=True, levels=[l[\"Category\"]])"
   ]
  },
  {
   "cell_type": "markdown",
   "metadata": {},
   "source": [
    "#### Fact-level operations\n",
    "\n",
    "To compute aggregates based of data which comes directly from the columns of a table, you can pass the calculation directly to the desired aggregation function. This is more efficient than first converting the columns to measures before the aggregation.\n",
    "\n",
    "Let's use this to compute the total amount earned from the sale of the products, as well as the average."
   ]
  },
  {
   "cell_type": "code",
   "execution_count": null,
   "metadata": {},
   "outputs": [],
   "source": [
    "m[\"Amount.SUM\"] = tt.agg.sum(sales_table[\"Quantity\"] * sales_table[\"Unit price\"])\n",
    "m[\"Amount.MEAN\"] = tt.agg.mean(\n",
    "    sales_table[\"Quantity\"] * sales_table[\"Unit price\"],\n",
    ")"
   ]
  },
  {
   "cell_type": "markdown",
   "metadata": {},
   "source": [
    "We can now plot the evolution of the sales per country over time:\n",
    "\n",
    "![Amount per country over time](images/split-by-country.png)"
   ]
  },
  {
   "cell_type": "code",
   "execution_count": null,
   "metadata": {
    "atoti": {
     "height": 748,
     "widget": {
      "mapping": {
       "horizontalSubplots": [],
       "secondaryValues": [],
       "splitBy": [
        "ALL_MEASURES",
        "[Shops].[Country].[Country]"
       ],
       "values": [
        "[Measures].[Amount.SUM]"
       ],
       "verticalSubplots": [],
       "xAxis": [
        "[Sales].[Date].[Date]"
       ]
      },
      "query": {
       "mdx": "SELECT NON EMPTY Hierarchize(Descendants({[Sales].[Date].[ALL].[AllMember]}, 1, SELF_AND_BEFORE)) ON ROWS, NON EMPTY Crossjoin({[Measures].[Amount.SUM]}, Hierarchize(Descendants({[Shops].[Country].[ALL].[AllMember]}, 1, SELF_AND_BEFORE))) ON COLUMNS FROM [Sales] CELL PROPERTIES VALUE, FORMATTED_VALUE, BACK_COLOR, FORE_COLOR, FONT_FLAGS",
       "updateMode": "once"
      },
      "serverKey": "default",
      "style": {
       "areAxisTitlesVisible": true
      },
      "widgetKey": "plotly-line-chart"
     }
    }
   },
   "outputs": [],
   "source": [
    "session.widget"
   ]
  },
  {
   "cell_type": "markdown",
   "metadata": {},
   "source": [
    "#### Margin\n",
    "\n",
    "Now that the price of each product is available from the products table, we can compute the margin.\n",
    "\n",
    "We use the [OriginScope](../../api/atoti.OriginScope.rst) to perform the multiplication of the quantity sold by the purchase price for each **Product** and then do the sum."
   ]
  },
  {
   "cell_type": "code",
   "execution_count": null,
   "metadata": {},
   "outputs": [],
   "source": [
    "cost = tt.agg.sum(\n",
    "    m[\"Quantity.SUM\"] * tt.agg.single_value(products_table[\"Purchase price\"]),\n",
    "    scope=tt.OriginScope(l[\"Product\"]),\n",
    ")"
   ]
  },
  {
   "cell_type": "code",
   "execution_count": null,
   "metadata": {},
   "outputs": [],
   "source": [
    "m[\"Margin\"] = m[\"Amount.SUM\"] - cost"
   ]
  },
  {
   "cell_type": "markdown",
   "metadata": {},
   "source": [
    "We can also define the margin rate which is the ratio of the margin by the the sold amount:"
   ]
  },
  {
   "cell_type": "code",
   "execution_count": null,
   "metadata": {},
   "outputs": [],
   "source": [
    "m[\"Margin rate\"] = m[\"Margin\"] / m[\"Amount.SUM\"]"
   ]
  },
  {
   "cell_type": "code",
   "execution_count": null,
   "metadata": {},
   "outputs": [],
   "source": [
    "cube.query(m[\"Margin\"], m[\"Margin rate\"], levels=[l[\"Product\"]])"
   ]
  },
  {
   "cell_type": "markdown",
   "metadata": {},
   "source": [
    "Let's use this margin rate to do a _Top 10_ filter to see the products with the best rate.\n",
    "\n",
    "Note that you don't need to put the rate measure and the product level in the pivot table to apply the filter.\n",
    "\n",
    "![top10 filter on the margin rate](images/top10-margin-rate.gif)"
   ]
  },
  {
   "cell_type": "code",
   "execution_count": null,
   "metadata": {
    "atoti": {
     "height": 762,
     "widget": {
      "filters": [],
      "mapping": {
       "columns": [
        "ALL_MEASURES"
       ],
       "measures": [
        "[Measures].[Amount.SUM]",
        "[Measures].[Margin]",
        "[Measures].[Margin rate]"
       ],
       "rows": [
        "[Sales].[Product].[Product]"
       ]
      },
      "query": {
       "mdx": "SELECT NON EMPTY Order(Hierarchize(Descendants({[Sales].[Product].[ALL].[AllMember]}, 1, SELF_AND_BEFORE)), [Measures].[Margin rate], DESC) ON ROWS, NON EMPTY {[Measures].[Amount.SUM], [Measures].[Margin], [Measures].[Margin rate]} ON COLUMNS FROM [Sales] CELL PROPERTIES VALUE, FORMATTED_VALUE, BACK_COLOR, FORE_COLOR, FONT_FLAGS",
       "updateMode": "once"
      },
      "serverKey": "default",
      "widgetKey": "pivot-table"
     }
    }
   },
   "outputs": [],
   "source": [
    "session.widget"
   ]
  },
  {
   "cell_type": "markdown",
   "metadata": {},
   "source": [
    "#### Cumulative sum over time"
   ]
  },
  {
   "cell_type": "markdown",
   "metadata": {},
   "source": [
    "A cumulative sum is the partial sum of the data up to the current value.\n",
    "For instance, a cumulative sum over time can be used to show how some measure changes over time."
   ]
  },
  {
   "cell_type": "code",
   "execution_count": null,
   "metadata": {},
   "outputs": [],
   "source": [
    "m[\"Cumulative amount\"] = tt.agg.sum(\n",
    "    m[\"Amount.SUM\"], scope=tt.CumulativeScope(level=l[\"Date\"])\n",
    ")"
   ]
  },
  {
   "cell_type": "markdown",
   "metadata": {},
   "source": [
    "![Cumulative amount](images/cumulative-amount.png)"
   ]
  },
  {
   "cell_type": "code",
   "execution_count": null,
   "metadata": {},
   "outputs": [],
   "source": [
    "session.widget"
   ]
  },
  {
   "cell_type": "markdown",
   "metadata": {},
   "source": [
    "#### Average per shop"
   ]
  },
  {
   "cell_type": "markdown",
   "metadata": {},
   "source": [
    "Aggregations can also be combined.\n",
    "For instance, we can sum inside a **Shop**: then take the average of this to see how much a table sales on average:"
   ]
  },
  {
   "cell_type": "code",
   "execution_count": null,
   "metadata": {},
   "outputs": [],
   "source": [
    "m[\"Average amount per shop\"] = tt.agg.mean(\n",
    "    m[\"Amount.SUM\"], scope=tt.OriginScope(l[\"Shop\"])\n",
    ")"
   ]
  },
  {
   "cell_type": "code",
   "execution_count": null,
   "metadata": {},
   "outputs": [],
   "source": [
    "cube.query(\n",
    "    m[\"Average amount per shop\"], include_totals=True, levels=[l[\"Sub category\"]]\n",
    ")"
   ]
  },
  {
   "cell_type": "markdown",
   "metadata": {},
   "source": [
    "### Multilevel hierarchies"
   ]
  },
  {
   "cell_type": "markdown",
   "metadata": {},
   "source": [
    "So far, all our hierarchies only had one level but it's best to regroup attributes with a parent-child relationship in the same hierarchy.\n",
    "\n",
    "For example, we can group the **Category**, **SubCategory** and **Product ID** levels into a **Product** hierarchy:"
   ]
  },
  {
   "cell_type": "code",
   "execution_count": null,
   "metadata": {},
   "outputs": [],
   "source": [
    "h[\"Product\"] = [l[\"Category\"], l[\"Sub category\"], l[\"Product\"]]"
   ]
  },
  {
   "cell_type": "markdown",
   "metadata": {},
   "source": [
    "And let's remove the old hierarchies:"
   ]
  },
  {
   "cell_type": "code",
   "execution_count": null,
   "metadata": {},
   "outputs": [],
   "source": [
    "del h[\"Category\"]\n",
    "del h[\"Sub category\"]"
   ]
  },
  {
   "cell_type": "code",
   "execution_count": null,
   "metadata": {},
   "outputs": [],
   "source": [
    "h"
   ]
  },
  {
   "cell_type": "markdown",
   "metadata": {},
   "source": [
    "We can also do it with **City**, **State or Region** and **Country** to build a **Geography** hierarchy.\n",
    "\n",
    "Note that instead of using existing levels you can also define a hierarchy with the columns of the table the levels will be based on:"
   ]
  },
  {
   "cell_type": "code",
   "execution_count": null,
   "metadata": {},
   "outputs": [],
   "source": [
    "h[\"Geography\"] = [\n",
    "    shops_table[\"Country\"],\n",
    "    shops_table[\"State or region\"],\n",
    "    shops_table[\"City\"],\n",
    "]\n",
    "del h[\"Country\"]\n",
    "del h[\"State or region\"]\n",
    "del h[\"City\"]"
   ]
  },
  {
   "cell_type": "markdown",
   "metadata": {},
   "source": [
    "As we are restructuring the hierarchies, let's use this opportunity to also change the dimensions.\n",
    "\n",
    "A dimension regroups hierarchies of the same concept.\n",
    "\n",
    "We can move the new **Geography** hierarchy to its own dimension:"
   ]
  },
  {
   "cell_type": "code",
   "execution_count": null,
   "metadata": {},
   "outputs": [],
   "source": [
    "h[\"Geography\"].dimension = \"Location\"\n",
    "h"
   ]
  },
  {
   "cell_type": "markdown",
   "metadata": {},
   "source": [
    "With that, we can define new measures taking advantage of the multilevel structure.\n",
    "For instance, we can create a measure indicating how much a product contributes to its subcategory:"
   ]
  },
  {
   "cell_type": "code",
   "execution_count": null,
   "metadata": {},
   "outputs": [],
   "source": [
    "m[\"Parent category amount\"] = tt.parent_value(\n",
    "    m[\"Amount.SUM\"], degrees={h[(\"Products\", \"Product\")]: 1}\n",
    ")"
   ]
  },
  {
   "cell_type": "code",
   "execution_count": null,
   "metadata": {},
   "outputs": [],
   "source": [
    "m[\"Percent of parent amount\"] = m[\"Amount.SUM\"] / m[\"Parent category amount\"]"
   ]
  },
  {
   "cell_type": "markdown",
   "metadata": {},
   "source": [
    "![Percent of parent](images/percent-of-parent.gif)"
   ]
  },
  {
   "cell_type": "code",
   "execution_count": null,
   "metadata": {
    "atoti": {
     "height": 764,
     "widget": {
      "mapping": {
       "columns": [
        "ALL_MEASURES"
       ],
       "measures": [
        "[Measures].[Percent of parent amount]"
       ],
       "rows": [
        "[Products].[Product].[Category] => [Products].[Product].[Product]"
       ]
      },
      "query": {
       "mdx": "SELECT NON EMPTY Hierarchize(Union(Descendants({[Products].[Product].[ALL].[AllMember]}, 1, SELF_AND_BEFORE), Descendants({[Products].[Product].[ALL].[AllMember].[Cloth]}, [Products].[Product].[Sub category]), Descendants({[Products].[Product].[ALL].[AllMember].[Cloth].[T-shirt]}, [Products].[Product].[Product]), Descendants({[Products].[Product].[ALL].[AllMember].[Furniture]}, [Products].[Product].[Sub category]), Descendants({[Products].[Product].[ALL].[AllMember].[Furniture].[Bed]}, [Products].[Product].[Product]))) ON ROWS, NON EMPTY {[Measures].[Percent of parent amount]} ON COLUMNS FROM [Sales] CELL PROPERTIES VALUE, FORMATTED_VALUE, BACK_COLOR, FORE_COLOR, FONT_FLAGS",
       "updateMode": "once"
      },
      "serverKey": "default",
      "widgetKey": "pivot-table"
     }
    }
   },
   "outputs": [],
   "source": [
    "session.widget"
   ]
  },
  {
   "cell_type": "markdown",
   "metadata": {},
   "source": [
    "## Polishing the cube"
   ]
  },
  {
   "cell_type": "markdown",
   "metadata": {},
   "source": [
    "### Deleting or hiding measures\n",
    "\n",
    "Some measures have been automatically created from numeric columns but are not useful.\n",
    "For instance, **Unit Price.SUM** does not really make sense as we never want to sum the unit prices.\n",
    "We can delete it:"
   ]
  },
  {
   "cell_type": "code",
   "execution_count": null,
   "metadata": {},
   "outputs": [],
   "source": [
    "del m[\"Unit price.SUM\"]"
   ]
  },
  {
   "cell_type": "markdown",
   "metadata": {},
   "source": [
    "Other measures have been used while building the project only as intermediary steps but are not useful to the end users in the app.\n",
    "We can hide them from the UI (they will remain accessible in Python):"
   ]
  },
  {
   "cell_type": "code",
   "execution_count": null,
   "metadata": {},
   "outputs": [],
   "source": [
    "m[\"Parent category amount\"].visible = False"
   ]
  },
  {
   "cell_type": "markdown",
   "metadata": {},
   "source": [
    "### Measure folders\n",
    "\n",
    "Measures can be rearranged into folders."
   ]
  },
  {
   "cell_type": "code",
   "execution_count": null,
   "metadata": {},
   "outputs": [],
   "source": [
    "for measure in [\n",
    "    m[\"Amount.MEAN\"],\n",
    "    m[\"Amount.SUM\"],\n",
    "    m[\"Average amount per shop\"],\n",
    "    m[\"Cumulative amount\"],\n",
    "    m[\"Percent of parent amount\"],\n",
    "]:\n",
    "    measure.folder = \"Amount\""
   ]
  },
  {
   "cell_type": "code",
   "execution_count": null,
   "metadata": {},
   "outputs": [],
   "source": [
    "m"
   ]
  },
  {
   "cell_type": "markdown",
   "metadata": {},
   "source": [
    "### Measure formatters\n",
    "\n",
    "Some measures can be formatted for a nicer display.\n",
    "Classic examples of this is changing the number of decimals or adding a percent or a currency symbol.\n",
    "\n",
    "Let's do this for our percent of parent amount and margin rate:\n",
    "\n",
    "#### Before"
   ]
  },
  {
   "cell_type": "code",
   "execution_count": null,
   "metadata": {},
   "outputs": [],
   "source": [
    "cube.query(m[\"Percent of parent amount\"], m[\"Margin rate\"], levels=[l[\"Category\"]])"
   ]
  },
  {
   "cell_type": "code",
   "execution_count": null,
   "metadata": {},
   "outputs": [],
   "source": [
    "m[\"Percent of parent amount\"].formatter = \"DOUBLE[0.00%]\"\n",
    "m[\"Margin rate\"].formatter = \"DOUBLE[0.00%]\""
   ]
  },
  {
   "cell_type": "markdown",
   "metadata": {},
   "source": [
    "#### After"
   ]
  },
  {
   "cell_type": "code",
   "execution_count": null,
   "metadata": {},
   "outputs": [],
   "source": [
    "cube.query(m[\"Percent of parent amount\"], m[\"Margin rate\"], levels=[l[\"Category\"]])"
   ]
  },
  {
   "cell_type": "markdown",
   "metadata": {},
   "source": [
    "## Simulations\n",
    "\n",
    "Simulations are a way to compare several scenarios and do what-if analysis.\n",
    "This helps understanding how changing the source data or a piece of the model impact the key indicators.\n",
    "\n",
    "In Atoti, the data model is made of measures chained together.\n",
    "A simulation can be seen as changing one part of the model, either its source data or one of its measure definitions, and then evaluating how it impacts the following measures.\n",
    "\n",
    "### Source simulation\n",
    "\n",
    "Let's start by changing the source.\n",
    "With pandas or Spark, if you want to compare two results for a different versions of the entry dataset you have to reapply all the transformations to your dataset.\n",
    "With Atoti, you only have to provide the new data and all the measures will be automatically available for both versions of the data.\n",
    "\n",
    "We will create a new scenario using pandas to modify the original dataset."
   ]
  },
  {
   "cell_type": "code",
   "execution_count": null,
   "metadata": {},
   "outputs": [],
   "source": [
    "import pandas as pd"
   ]
  },
  {
   "cell_type": "markdown",
   "metadata": {},
   "source": [
    "For instance, we can simulate what would happen if we had managed to purchase some products at a cheaper price."
   ]
  },
  {
   "cell_type": "code",
   "execution_count": null,
   "metadata": {},
   "outputs": [],
   "source": [
    "products_df = pd.read_csv(\"data/products.csv\")\n",
    "products_df.head()"
   ]
  },
  {
   "cell_type": "code",
   "execution_count": null,
   "metadata": {},
   "outputs": [],
   "source": [
    "better_prices = {\n",
    "    \"TAB_0\": 180.0,\n",
    "    \"TAB_1\": 250.0,\n",
    "    \"CHA_2\": 40.0,\n",
    "    \"BED_3\": 110.0,\n",
    "    \"BED_4\": 210.0,\n",
    "}"
   ]
  },
  {
   "cell_type": "code",
   "execution_count": null,
   "metadata": {},
   "outputs": [],
   "source": [
    "for product, purchase_price in better_prices.items():\n",
    "    products_df.loc[\n",
    "        products_df[\"Product\"] == product, \"Purchase price\"\n",
    "    ] = purchase_price\n",
    "products_df.head()"
   ]
  },
  {
   "cell_type": "markdown",
   "metadata": {},
   "source": [
    "We can now load this new dataframe into a new scenarios of the products table."
   ]
  },
  {
   "cell_type": "code",
   "execution_count": null,
   "metadata": {},
   "outputs": [],
   "source": [
    "products_table.scenarios[\"Cheaper purchase prices\"].load_pandas(products_df)"
   ]
  },
  {
   "cell_type": "markdown",
   "metadata": {},
   "source": [
    "The session now has two scenarios and the only differences between them are the lines corresponding to the products with better prices, everything else is shared between the scenarios and has not been duplicated: source scenarios in Atoti are memory-efficient.\n",
    "\n",
    "<img alt=\"Source simulation\" src=\"images/source-simulation.svg\" width=\"750\" />\n",
    "\n",
    "Using the **Source Simulation** hierarchy we can display the margin of the scenario and compare it to the base case.\n",
    "\n",
    "![Source simulation comparison](images/source-simulation.gif)"
   ]
  },
  {
   "cell_type": "code",
   "execution_count": null,
   "metadata": {
    "atoti": {
     "height": 762,
     "widget": {
      "mapping": {
       "columns": [
        "ALL_MEASURES"
       ],
       "measures": [
        "[Measures].[Margin]"
       ],
       "rows": [
        "[Epoch].[Epoch].[Branch]"
       ]
      },
      "query": {
       "mdx": "SELECT NON EMPTY {[Measures].[Margin]} ON COLUMNS, NON EMPTY [Epoch].[Epoch].[Branch].Members ON ROWS FROM [Sales] CELL PROPERTIES VALUE, FORMATTED_VALUE, BACK_COLOR, FORE_COLOR, FONT_FLAGS",
       "updateMode": "once"
      },
      "serverKey": "default",
      "widgetKey": "pivot-table"
     }
    }
   },
   "outputs": [],
   "source": [
    "session.widget"
   ]
  },
  {
   "cell_type": "markdown",
   "metadata": {},
   "source": [
    "Note that all the existing measures are immediately available on the new data.\n",
    "For instance, the margin rate still exists, and we can see that in this scenario we would have a better margin for the Furniture products.\n",
    "\n",
    "![Margin rate per product category and scenario](images/margin-rate-per-scenario.gif)"
   ]
  },
  {
   "cell_type": "code",
   "execution_count": null,
   "metadata": {
    "atoti": {
     "height": 757,
     "widget": {
      "mapping": {
       "horizontalSubplots": [],
       "splitBy": [
        "ALL_MEASURES",
        "[Epoch].[Epoch].[Branch]"
       ],
       "values": [
        "[Measures].[Margin]"
       ],
       "verticalSubplots": [],
       "xAxis": [
        "[Products].[Product].[Category]"
       ]
      },
      "query": {
       "mdx": "SELECT NON EMPTY Hierarchize(Descendants({[Products].[Product].[ALL].[AllMember]}, 1, SELF_AND_BEFORE)) ON ROWS, NON EMPTY Crossjoin({[Measures].[Margin]}, [Epoch].[Epoch].[Branch].Members) ON COLUMNS FROM [Sales] CELL PROPERTIES VALUE, FORMATTED_VALUE, BACK_COLOR, FORE_COLOR, FONT_FLAGS",
       "updateMode": "once"
      },
      "serverKey": "default",
      "widgetKey": "plotly-clustered-column-chart"
     }
    }
   },
   "outputs": [],
   "source": [
    "session.widget"
   ]
  },
  {
   "cell_type": "markdown",
   "metadata": {},
   "source": [
    "### Parameter simulations\n",
    "\n",
    "The other simulation technique is to create a parameter measure whose value can be changed for some coordinates.\n",
    "\n",
    "When creating the simulation, you can choose at which granularity the modification applies.\n",
    "For instance we can create a parameter measure whose value will change depending on the country.\n",
    "Doing that, we can answer questions such as \"What happens if there is a crisis in France and we sell 20% less?\""
   ]
  },
  {
   "cell_type": "code",
   "execution_count": null,
   "metadata": {},
   "outputs": [],
   "source": [
    "country_simulation = cube.create_parameter_simulation(\n",
    "    \"Country Simulation\",\n",
    "    levels=[l[\"Country\"]],\n",
    "    measures={\"Country parameter\": 1.0},\n",
    ")"
   ]
  },
  {
   "cell_type": "markdown",
   "metadata": {},
   "source": [
    "This has created a measure named **Country parameter** and added it to the cube. For now, its value is `1` everywhere, but using the `country_simulation` we can change that.\n",
    "\n",
    "By adding values in the table you can change the value of the parameter measure depending on the levels used in the simulation and the scenario."
   ]
  },
  {
   "cell_type": "code",
   "execution_count": null,
   "metadata": {},
   "outputs": [],
   "source": [
    "country_simulation += (\"France Crisis\", \"France\", 0.80)\n",
    "country_simulation.head()"
   ]
  },
  {
   "cell_type": "markdown",
   "metadata": {},
   "source": [
    "Let's replace the existing **Quantity.SUM** and **Amount.SUM** measures with new ones using the parameter measure from the simulation."
   ]
  },
  {
   "cell_type": "code",
   "execution_count": null,
   "metadata": {},
   "outputs": [],
   "source": [
    "m[\"Quantity.SUM\"] = tt.agg.sum(\n",
    "    tt.agg.sum(sales_table[\"Quantity\"]) * m[\"Country parameter\"],\n",
    "    scope=tt.OriginScope(l[\"Country\"]),\n",
    ")\n",
    "m[\"Amount.SUM\"] = tt.agg.sum(\n",
    "    tt.agg.sum(sales_table[\"Unit price\"] * sales_table[\"Quantity\"])\n",
    "    * m[\"Country parameter\"],\n",
    "    scope=tt.OriginScope(l[\"Country\"]),\n",
    ")"
   ]
  },
  {
   "cell_type": "markdown",
   "metadata": {},
   "source": [
    "We can query the cube using the new **Country Simulation** level to compare the quantity and amount between the base case and our new scenario:"
   ]
  },
  {
   "cell_type": "code",
   "execution_count": null,
   "metadata": {},
   "outputs": [],
   "source": [
    "cube.query(\n",
    "    m[\"Quantity.SUM\"],\n",
    "    m[\"Amount.SUM\"],\n",
    "    include_totals=True,\n",
    "    levels=[l[\"Country Simulation\"], l[\"Country\"]],\n",
    ")"
   ]
  },
  {
   "cell_type": "markdown",
   "metadata": {},
   "source": [
    "Here for example, as the amount has been modified, the measures depending on it such as the cumulative amount are also impacted:"
   ]
  },
  {
   "cell_type": "code",
   "execution_count": null,
   "metadata": {},
   "outputs": [],
   "source": [
    "cube.query(m[\"Cumulative amount\"], levels=[l[\"Country Simulation\"], l[\"Country\"]])"
   ]
  },
  {
   "cell_type": "markdown",
   "metadata": {},
   "source": [
    "Let's try adding a different scenario:"
   ]
  },
  {
   "cell_type": "code",
   "execution_count": null,
   "metadata": {},
   "outputs": [],
   "source": [
    "country_simulation += (\"US boost\", \"USA\", 1.15)"
   ]
  },
  {
   "cell_type": "code",
   "execution_count": null,
   "metadata": {},
   "outputs": [],
   "source": [
    "cube.query(m[\"Quantity.SUM\"], levels=[l[\"Country Simulation\"], l[\"Country\"]])"
   ]
  },
  {
   "cell_type": "markdown",
   "metadata": {},
   "source": [
    "The two scenarios can be visualized in the same widget:\n",
    "\n",
    "![Cumulative amount per scenario](images/cumulative-amount-per-scenario.gif)"
   ]
  },
  {
   "cell_type": "code",
   "execution_count": null,
   "metadata": {
    "atoti": {
     "height": 771,
     "widget": {
      "mapping": {
       "horizontalSubplots": [],
       "secondaryValues": [],
       "splitBy": [
        "ALL_MEASURES",
        "[Country Simulation].[Country Simulation].[Country Simulation]"
       ],
       "values": [
        "[Measures].[Cumulative amount]"
       ],
       "verticalSubplots": [],
       "xAxis": [
        "[Sales].[Date].[Date]"
       ]
      },
      "query": {
       "mdx": "SELECT NON EMPTY Hierarchize(Descendants({[Sales].[Date].[ALL].[AllMember]}, 1, SELF_AND_BEFORE)) ON ROWS, NON EMPTY Crossjoin({[Measures].[Cumulative amount]}, [Country Simulation].[Country Simulation].[Country Simulation].Members) ON COLUMNS FROM [Sales] CELL PROPERTIES VALUE, FORMATTED_VALUE, BACK_COLOR, FORE_COLOR, FONT_FLAGS",
       "updateMode": "once"
      },
      "serverKey": "default",
      "widgetKey": "plotly-line-chart"
     }
    }
   },
   "outputs": [],
   "source": [
    "session.widget"
   ]
  },
  {
   "cell_type": "markdown",
   "metadata": {},
   "source": [
    "Finally, we can even combine the different simulations (the source one and the measure one) to create a matrix of scenarios:\n",
    "\n",
    "![Matrix of scenarios](images/scenarios-matrix.gif)"
   ]
  },
  {
   "cell_type": "code",
   "execution_count": null,
   "metadata": {
    "atoti": {
     "height": 756,
     "widget": {
      "mapping": {
       "columns": [
        "ALL_MEASURES",
        "[Epoch].[Epoch].[Branch]"
       ],
       "measures": [
        "[Measures].[Margin]"
       ],
       "rows": [
        "[Country Simulation].[Country Simulation].[Country Simulation]"
       ]
      },
      "query": {
       "mdx": "SELECT NON EMPTY Crossjoin({[Measures].[Margin]}, [Epoch].[Epoch].[Branch].Members) ON COLUMNS, NON EMPTY [Country Simulation].[Country Simulation].[Country Simulation].Members ON ROWS FROM [Sales] CELL PROPERTIES VALUE, FORMATTED_VALUE, BACK_COLOR, FORE_COLOR, FONT_FLAGS",
       "updateMode": "once"
      },
      "serverKey": "default",
      "widgetKey": "pivot-table"
     }
    }
   },
   "outputs": [],
   "source": [
    "session.widget"
   ]
  },
  {
   "cell_type": "markdown",
   "metadata": {},
   "source": [
    "## Going further\n",
    "\n",
    "You've learned all the basics to build a project with Atoti, from the concept of multidimensional analysis to powerful simulations.\n",
    "\n",
    "We now encourage you to try the library with your own data.\n",
    "You can also start to learn more advanced features such as [session configuration](../../api/atoti.Session.rst), [custom endpoints](../../api/atoti.Session.endpoint.rst), [querying](../../api/atoti_query.rst), and [arrays](../../api/atoti.array.rst)."
   ]
  }
 ],
 "metadata": {
  "kernelspec": {
   "display_name": "Python 3 (ipykernel)",
   "language": "python",
   "name": "python3"
  },
  "language_info": {
   "codemirror_mode": {
    "name": "ipython",
    "version": 3
   },
   "file_extension": ".py",
   "mimetype": "text/x-python",
   "name": "python",
   "nbconvert_exporter": "python",
   "pygments_lexer": "ipython3",
   "version": "3.11.5"
  }
 },
 "nbformat": 4,
 "nbformat_minor": 4
}
